{
 "cells": [
  {
   "cell_type": "markdown",
   "metadata": {},
   "source": [
    "### db의 groupby function과 같은 느낌~"
   ]
  },
  {
   "cell_type": "code",
   "execution_count": 1,
   "metadata": {},
   "outputs": [],
   "source": [
    "import pandas as pd"
   ]
  },
  {
   "cell_type": "code",
   "execution_count": 2,
   "metadata": {},
   "outputs": [
    {
     "output_type": "execute_result",
     "data": {
      "text/plain": "        name             major     sex\n0       John  Computer Science    male\n1       Nate  Computer Science    male\n2    Abraham           Physics    male\n3      Brian        Psychology    male\n4      Janny         Economics  female\n5       Yuna         Economics  female\n6   Jeniffer  Computer Science  female\n7     Edward  Computer Science    male\n8       Zara        Psychology  female\n9      Wendy         Economics  female\n10      Sera        Psychology  female",
      "text/html": "<div>\n<style scoped>\n    .dataframe tbody tr th:only-of-type {\n        vertical-align: middle;\n    }\n\n    .dataframe tbody tr th {\n        vertical-align: top;\n    }\n\n    .dataframe thead th {\n        text-align: right;\n    }\n</style>\n<table border=\"1\" class=\"dataframe\">\n  <thead>\n    <tr style=\"text-align: right;\">\n      <th></th>\n      <th>name</th>\n      <th>major</th>\n      <th>sex</th>\n    </tr>\n  </thead>\n  <tbody>\n    <tr>\n      <th>0</th>\n      <td>John</td>\n      <td>Computer Science</td>\n      <td>male</td>\n    </tr>\n    <tr>\n      <th>1</th>\n      <td>Nate</td>\n      <td>Computer Science</td>\n      <td>male</td>\n    </tr>\n    <tr>\n      <th>2</th>\n      <td>Abraham</td>\n      <td>Physics</td>\n      <td>male</td>\n    </tr>\n    <tr>\n      <th>3</th>\n      <td>Brian</td>\n      <td>Psychology</td>\n      <td>male</td>\n    </tr>\n    <tr>\n      <th>4</th>\n      <td>Janny</td>\n      <td>Economics</td>\n      <td>female</td>\n    </tr>\n    <tr>\n      <th>5</th>\n      <td>Yuna</td>\n      <td>Economics</td>\n      <td>female</td>\n    </tr>\n    <tr>\n      <th>6</th>\n      <td>Jeniffer</td>\n      <td>Computer Science</td>\n      <td>female</td>\n    </tr>\n    <tr>\n      <th>7</th>\n      <td>Edward</td>\n      <td>Computer Science</td>\n      <td>male</td>\n    </tr>\n    <tr>\n      <th>8</th>\n      <td>Zara</td>\n      <td>Psychology</td>\n      <td>female</td>\n    </tr>\n    <tr>\n      <th>9</th>\n      <td>Wendy</td>\n      <td>Economics</td>\n      <td>female</td>\n    </tr>\n    <tr>\n      <th>10</th>\n      <td>Sera</td>\n      <td>Psychology</td>\n      <td>female</td>\n    </tr>\n  </tbody>\n</table>\n</div>"
     },
     "metadata": {},
     "execution_count": 2
    }
   ],
   "source": [
    "student_list = [{'name': 'John', 'major': \"Computer Science\", 'sex': \"male\"},\n",
    "                {'name': 'Nate', 'major': \"Computer Science\", 'sex': \"male\"},\n",
    "                {'name': 'Abraham', 'major': \"Physics\", 'sex': \"male\"},\n",
    "                {'name': 'Brian', 'major': \"Psychology\", 'sex': \"male\"},\n",
    "                {'name': 'Janny', 'major': \"Economics\", 'sex': \"female\"},\n",
    "                {'name': 'Yuna', 'major': \"Economics\", 'sex': \"female\"},\n",
    "                {'name': 'Jeniffer', 'major': \"Computer Science\", 'sex': \"female\"},\n",
    "                {'name': 'Edward', 'major': \"Computer Science\", 'sex': \"male\"},\n",
    "                {'name': 'Zara', 'major': \"Psychology\", 'sex': \"female\"},\n",
    "                {'name': 'Wendy', 'major': \"Economics\", 'sex': \"female\"},\n",
    "                {'name': 'Sera', 'major': \"Psychology\", 'sex': \"female\"}\n",
    "         ]\n",
    "df = pd.DataFrame(student_list, columns = ['name', 'major', 'sex'])\n",
    "df"
   ]
  },
  {
   "cell_type": "code",
   "execution_count": 11,
   "metadata": {},
   "outputs": [
    {
     "output_type": "execute_result",
     "data": {
      "text/plain": "<pandas.core.groupby.generic.DataFrameGroupBy object at 0x000001C503427670>"
     },
     "metadata": {},
     "execution_count": 11
    }
   ],
   "source": [
    "# groupby()메소드에 'major' 컬럼을 넣으면 그 그룹의 공통점을 기준으로 모두 group이 나뉘게 된다. \n",
    "groupby_major = df.groupby('major')\n",
    "groupby_major"
   ]
  },
  {
   "cell_type": "code",
   "execution_count": 4,
   "metadata": {},
   "outputs": [
    {
     "output_type": "execute_result",
     "data": {
      "text/plain": "{'Computer Science': Int64Index([0, 1, 6, 7], dtype='int64'),\n 'Economics': Int64Index([4, 5, 9], dtype='int64'),\n 'Physics': Int64Index([2], dtype='int64'),\n 'Psychology': Int64Index([3, 8, 10], dtype='int64')}"
     },
     "metadata": {},
     "execution_count": 4
    }
   ],
   "source": [
    "groupby_major.groups"
   ]
  },
  {
   "cell_type": "code",
   "execution_count": 9,
   "metadata": {},
   "outputs": [
    {
     "output_type": "stream",
     "name": "stdout",
     "text": "Computer Science : 4\n       name             major     sex\n0      John  Computer Science    male\n1      Nate  Computer Science    male\n6  Jeniffer  Computer Science  female\n7    Edward  Computer Science    male\n\nEconomics : 3\n    name      major     sex\n4  Janny  Economics  female\n5   Yuna  Economics  female\n9  Wendy  Economics  female\n\nPhysics : 1\n      name    major   sex\n2  Abraham  Physics  male\n\nPsychology : 3\n     name       major     sex\n3   Brian  Psychology    male\n8    Zara  Psychology  female\n10   Sera  Psychology  female\n\n"
    }
   ],
   "source": [
    "for name, group in groupby_major:\n",
    "    print(name + ' : ' + str(len(group)))\n",
    "    print(group)\n",
    "    print()"
   ]
  },
  {
   "cell_type": "code",
   "execution_count": 13,
   "metadata": {},
   "outputs": [
    {
     "output_type": "stream",
     "name": "stdout",
     "text": "major\nComputer Science    4\nEconomics           3\nPhysics             1\nPsychology          3\ndtype: int64 <class 'pandas.core.groupby.generic.DataFrameGroupBy'>\n"
    }
   ],
   "source": [
    "print(groupby_major.size(), type(groupby_major))"
   ]
  },
  {
   "cell_type": "code",
   "execution_count": 16,
   "metadata": {},
   "outputs": [
    {
     "output_type": "execute_result",
     "data": {
      "text/plain": "                  count\nmajor                  \nComputer Science      4\nEconomics             3\nPhysics               1\nPsychology            3",
      "text/html": "<div>\n<style scoped>\n    .dataframe tbody tr th:only-of-type {\n        vertical-align: middle;\n    }\n\n    .dataframe tbody tr th {\n        vertical-align: top;\n    }\n\n    .dataframe thead th {\n        text-align: right;\n    }\n</style>\n<table border=\"1\" class=\"dataframe\">\n  <thead>\n    <tr style=\"text-align: right;\">\n      <th></th>\n      <th>count</th>\n    </tr>\n    <tr>\n      <th>major</th>\n      <th></th>\n    </tr>\n  </thead>\n  <tbody>\n    <tr>\n      <th>Computer Science</th>\n      <td>4</td>\n    </tr>\n    <tr>\n      <th>Economics</th>\n      <td>3</td>\n    </tr>\n    <tr>\n      <th>Physics</th>\n      <td>1</td>\n    </tr>\n    <tr>\n      <th>Psychology</th>\n      <td>3</td>\n    </tr>\n  </tbody>\n</table>\n</div>"
     },
     "metadata": {},
     "execution_count": 16
    }
   ],
   "source": [
    "df_major_cnt = pd.DataFrame( {'count': groupby_major.size()}).reset_index() # .reset_index()를 붙이면 각 로우에 index를 붙임\n",
    "df_major_cnt\n"
   ]
  },
  {
   "cell_type": "code",
   "execution_count": 18,
   "metadata": {},
   "outputs": [
    {
     "output_type": "stream",
     "name": "stdout",
     "text": "female : 6\n        name             major     sex\n4      Janny         Economics  female\n5       Yuna         Economics  female\n6   Jeniffer  Computer Science  female\n8       Zara        Psychology  female\n9      Wendy         Economics  female\n10      Sera        Psychology  female\n\nmale : 5\n      name             major   sex\n0     John  Computer Science  male\n1     Nate  Computer Science  male\n2  Abraham           Physics  male\n3    Brian        Psychology  male\n7   Edward  Computer Science  male\n\n"
    }
   ],
   "source": [
    "groupby_sex = df.groupby('sex')\n",
    "for name, group in groupby_sex:\n",
    "    print(name + ' : ' + str(len(group)) )\n",
    "    print(group)\n",
    "    print( )\n"
   ]
  },
  {
   "cell_type": "markdown",
   "metadata": {},
   "source": [
    "### Drop Duplicate\n",
    "sometimes you need to drop duplicate rows and here is elegant way to to it"
   ]
  },
  {
   "cell_type": "code",
   "execution_count": 25,
   "metadata": {},
   "outputs": [
    {
     "output_type": "execute_result",
     "data": {
      "text/plain": "        name             major     sex\n0       John  Computer Science    male\n1       Nate  Computer Science    male\n2    Abraham           Physics    male\n3      Brian        Psychology    male\n4      Janny         Economics  female\n5       Yuna         Economics  female\n6   Jeniffer  Computer Science  female\n7     Edward  Computer Science    male\n8       Zara        Psychology  female\n9      Wendy         Economics  female\n10      Sera        Psychology  female\n11      John  Computer Science    male",
      "text/html": "<div>\n<style scoped>\n    .dataframe tbody tr th:only-of-type {\n        vertical-align: middle;\n    }\n\n    .dataframe tbody tr th {\n        vertical-align: top;\n    }\n\n    .dataframe thead th {\n        text-align: right;\n    }\n</style>\n<table border=\"1\" class=\"dataframe\">\n  <thead>\n    <tr style=\"text-align: right;\">\n      <th></th>\n      <th>name</th>\n      <th>major</th>\n      <th>sex</th>\n    </tr>\n  </thead>\n  <tbody>\n    <tr>\n      <th>0</th>\n      <td>John</td>\n      <td>Computer Science</td>\n      <td>male</td>\n    </tr>\n    <tr>\n      <th>1</th>\n      <td>Nate</td>\n      <td>Computer Science</td>\n      <td>male</td>\n    </tr>\n    <tr>\n      <th>2</th>\n      <td>Abraham</td>\n      <td>Physics</td>\n      <td>male</td>\n    </tr>\n    <tr>\n      <th>3</th>\n      <td>Brian</td>\n      <td>Psychology</td>\n      <td>male</td>\n    </tr>\n    <tr>\n      <th>4</th>\n      <td>Janny</td>\n      <td>Economics</td>\n      <td>female</td>\n    </tr>\n    <tr>\n      <th>5</th>\n      <td>Yuna</td>\n      <td>Economics</td>\n      <td>female</td>\n    </tr>\n    <tr>\n      <th>6</th>\n      <td>Jeniffer</td>\n      <td>Computer Science</td>\n      <td>female</td>\n    </tr>\n    <tr>\n      <th>7</th>\n      <td>Edward</td>\n      <td>Computer Science</td>\n      <td>male</td>\n    </tr>\n    <tr>\n      <th>8</th>\n      <td>Zara</td>\n      <td>Psychology</td>\n      <td>female</td>\n    </tr>\n    <tr>\n      <th>9</th>\n      <td>Wendy</td>\n      <td>Economics</td>\n      <td>female</td>\n    </tr>\n    <tr>\n      <th>10</th>\n      <td>Sera</td>\n      <td>Psychology</td>\n      <td>female</td>\n    </tr>\n    <tr>\n      <th>11</th>\n      <td>John</td>\n      <td>Computer Science</td>\n      <td>male</td>\n    </tr>\n  </tbody>\n</table>\n</div>"
     },
     "metadata": {},
     "execution_count": 25
    }
   ],
   "source": [
    "student_list = [{'name': 'John', 'major': \"Computer Science\", 'sex': \"male\"},\n",
    "                {'name': 'Nate', 'major': \"Computer Science\", 'sex': \"male\"},\n",
    "                {'name': 'Abraham', 'major': \"Physics\", 'sex': \"male\"},\n",
    "                {'name': 'Brian', 'major': \"Psychology\", 'sex': \"male\"},\n",
    "                {'name': 'Janny', 'major': \"Economics\", 'sex': \"female\"},\n",
    "                {'name': 'Yuna', 'major': \"Economics\", 'sex': \"female\"},\n",
    "                {'name': 'Jeniffer', 'major': \"Computer Science\", 'sex': \"female\"},\n",
    "                {'name': 'Edward', 'major': \"Computer Science\", 'sex': \"male\"},\n",
    "                {'name': 'Zara', 'major': \"Psychology\", 'sex': \"female\"},\n",
    "                {'name': 'Wendy', 'major': \"Economics\", 'sex': \"female\"},\n",
    "                {'name': 'Sera', 'major': \"Psychology\", 'sex': \"female\"},\n",
    "                {'name': 'John', 'major': \"Computer Science\", 'sex': \"male\"},\n",
    "         ]\n",
    "df = pd.DataFrame(student_list, columns = ['name', 'major', 'sex'])\n",
    "df"
   ]
  },
  {
   "cell_type": "markdown",
   "metadata": {},
   "source": [
    "\n",
    "check if there is duplicated row"
   ]
  },
  {
   "cell_type": "code",
   "execution_count": 26,
   "metadata": {},
   "outputs": [
    {
     "output_type": "execute_result",
     "data": {
      "text/plain": "0     False\n1     False\n2     False\n3     False\n4     False\n5     False\n6     False\n7     False\n8     False\n9     False\n10    False\n11     True\ndtype: bool"
     },
     "metadata": {},
     "execution_count": 26
    }
   ],
   "source": [
    "# bool값으로 해당 컬럼의 참거짓을 판별함\n",
    "# 단순 중복 유무를 확인할 뿐임\n",
    "df.duplicated()"
   ]
  },
  {
   "cell_type": "code",
   "execution_count": 30,
   "metadata": {},
   "outputs": [
    {
     "output_type": "execute_result",
     "data": {
      "text/plain": "        name             major     sex\n0       John  Computer Science    male\n1       Nate  Computer Science    male\n2    Abraham           Physics    male\n3      Brian        Psychology    male\n4      Janny         Economics  female\n5       Yuna         Economics  female\n6   Jeniffer  Computer Science  female\n7     Edward  Computer Science    male\n8       Zara        Psychology  female\n9      Wendy         Economics  female\n10      Sera        Psychology  female",
      "text/html": "<div>\n<style scoped>\n    .dataframe tbody tr th:only-of-type {\n        vertical-align: middle;\n    }\n\n    .dataframe tbody tr th {\n        vertical-align: top;\n    }\n\n    .dataframe thead th {\n        text-align: right;\n    }\n</style>\n<table border=\"1\" class=\"dataframe\">\n  <thead>\n    <tr style=\"text-align: right;\">\n      <th></th>\n      <th>name</th>\n      <th>major</th>\n      <th>sex</th>\n    </tr>\n  </thead>\n  <tbody>\n    <tr>\n      <th>0</th>\n      <td>John</td>\n      <td>Computer Science</td>\n      <td>male</td>\n    </tr>\n    <tr>\n      <th>1</th>\n      <td>Nate</td>\n      <td>Computer Science</td>\n      <td>male</td>\n    </tr>\n    <tr>\n      <th>2</th>\n      <td>Abraham</td>\n      <td>Physics</td>\n      <td>male</td>\n    </tr>\n    <tr>\n      <th>3</th>\n      <td>Brian</td>\n      <td>Psychology</td>\n      <td>male</td>\n    </tr>\n    <tr>\n      <th>4</th>\n      <td>Janny</td>\n      <td>Economics</td>\n      <td>female</td>\n    </tr>\n    <tr>\n      <th>5</th>\n      <td>Yuna</td>\n      <td>Economics</td>\n      <td>female</td>\n    </tr>\n    <tr>\n      <th>6</th>\n      <td>Jeniffer</td>\n      <td>Computer Science</td>\n      <td>female</td>\n    </tr>\n    <tr>\n      <th>7</th>\n      <td>Edward</td>\n      <td>Computer Science</td>\n      <td>male</td>\n    </tr>\n    <tr>\n      <th>8</th>\n      <td>Zara</td>\n      <td>Psychology</td>\n      <td>female</td>\n    </tr>\n    <tr>\n      <th>9</th>\n      <td>Wendy</td>\n      <td>Economics</td>\n      <td>female</td>\n    </tr>\n    <tr>\n      <th>10</th>\n      <td>Sera</td>\n      <td>Psychology</td>\n      <td>female</td>\n    </tr>\n  </tbody>\n</table>\n</div>"
     },
     "metadata": {},
     "execution_count": 30
    }
   ],
   "source": [
    "df = df.drop_duplicates()\n",
    "df\n",
    "# 중복된 John이라는 기존의 11번째 row index가 날라갔음. "
   ]
  },
  {
   "cell_type": "code",
   "execution_count": null,
   "metadata": {},
   "outputs": [],
   "source": [
    "df = df.drop_duplicates()"
   ]
  },
  {
   "cell_type": "code",
   "execution_count": 31,
   "metadata": {},
   "outputs": [
    {
     "output_type": "execute_result",
     "data": {
      "text/plain": "        name             major     sex\n0       John  Computer Science    male\n1       Nate  Computer Science    male\n2    Abraham           Physics    male\n3      Brian        Psychology    male\n4      Janny         Economics  female\n5       Yuna         Economics  female\n6   Jeniffer  Computer Science  female\n7     Edward  Computer Science    male\n8       Zara        Psychology  female\n9      Wendy         Economics  female\n10      Nate              None    male\n11      John  Computer Science    None",
      "text/html": "<div>\n<style scoped>\n    .dataframe tbody tr th:only-of-type {\n        vertical-align: middle;\n    }\n\n    .dataframe tbody tr th {\n        vertical-align: top;\n    }\n\n    .dataframe thead th {\n        text-align: right;\n    }\n</style>\n<table border=\"1\" class=\"dataframe\">\n  <thead>\n    <tr style=\"text-align: right;\">\n      <th></th>\n      <th>name</th>\n      <th>major</th>\n      <th>sex</th>\n    </tr>\n  </thead>\n  <tbody>\n    <tr>\n      <th>0</th>\n      <td>John</td>\n      <td>Computer Science</td>\n      <td>male</td>\n    </tr>\n    <tr>\n      <th>1</th>\n      <td>Nate</td>\n      <td>Computer Science</td>\n      <td>male</td>\n    </tr>\n    <tr>\n      <th>2</th>\n      <td>Abraham</td>\n      <td>Physics</td>\n      <td>male</td>\n    </tr>\n    <tr>\n      <th>3</th>\n      <td>Brian</td>\n      <td>Psychology</td>\n      <td>male</td>\n    </tr>\n    <tr>\n      <th>4</th>\n      <td>Janny</td>\n      <td>Economics</td>\n      <td>female</td>\n    </tr>\n    <tr>\n      <th>5</th>\n      <td>Yuna</td>\n      <td>Economics</td>\n      <td>female</td>\n    </tr>\n    <tr>\n      <th>6</th>\n      <td>Jeniffer</td>\n      <td>Computer Science</td>\n      <td>female</td>\n    </tr>\n    <tr>\n      <th>7</th>\n      <td>Edward</td>\n      <td>Computer Science</td>\n      <td>male</td>\n    </tr>\n    <tr>\n      <th>8</th>\n      <td>Zara</td>\n      <td>Psychology</td>\n      <td>female</td>\n    </tr>\n    <tr>\n      <th>9</th>\n      <td>Wendy</td>\n      <td>Economics</td>\n      <td>female</td>\n    </tr>\n    <tr>\n      <th>10</th>\n      <td>Nate</td>\n      <td>None</td>\n      <td>male</td>\n    </tr>\n    <tr>\n      <th>11</th>\n      <td>John</td>\n      <td>Computer Science</td>\n      <td>None</td>\n    </tr>\n  </tbody>\n</table>\n</div>"
     },
     "metadata": {},
     "execution_count": 31
    }
   ],
   "source": [
    "student_list = [{'name': 'John', 'major': \"Computer Science\", 'sex': \"male\"},\n",
    "                {'name': 'Nate', 'major': \"Computer Science\", 'sex': \"male\"},\n",
    "                {'name': 'Abraham', 'major': \"Physics\", 'sex': \"male\"},\n",
    "                {'name': 'Brian', 'major': \"Psychology\", 'sex': \"male\"},\n",
    "                {'name': 'Janny', 'major': \"Economics\", 'sex': \"female\"},\n",
    "                {'name': 'Yuna', 'major': \"Economics\", 'sex': \"female\"},\n",
    "                {'name': 'Jeniffer', 'major': \"Computer Science\", 'sex': \"female\"},\n",
    "                {'name': 'Edward', 'major': \"Computer Science\", 'sex': \"male\"},\n",
    "                {'name': 'Zara', 'major': \"Psychology\", 'sex': \"female\"},\n",
    "                {'name': 'Wendy', 'major': \"Economics\", 'sex': \"female\"},\n",
    "                {'name': 'Nate', 'major': None, 'sex': \"male\"},\n",
    "                {'name': 'John', 'major': \"Computer Science\", 'sex': None},\n",
    "         ]\n",
    "df = pd.DataFrame(student_list, columns = ['name', 'major', 'sex'])\n",
    "df"
   ]
  },
  {
   "cell_type": "code",
   "execution_count": 32,
   "metadata": {},
   "outputs": [
    {
     "output_type": "execute_result",
     "data": {
      "text/plain": "0     False\n1     False\n2     False\n3     False\n4     False\n5     False\n6     False\n7     False\n8     False\n9     False\n10     True\n11     True\ndtype: bool"
     },
     "metadata": {},
     "execution_count": 32
    }
   ],
   "source": [
    "# 'name'이라는 중복된 값을 발견해라! \n",
    "df.duplicated(['name']) "
   ]
  },
  {
   "cell_type": "code",
   "execution_count": 34,
   "metadata": {},
   "outputs": [
    {
     "output_type": "execute_result",
     "data": {
      "text/plain": "        name             major     sex\n2    Abraham           Physics    male\n3      Brian        Psychology    male\n4      Janny         Economics  female\n5       Yuna         Economics  female\n6   Jeniffer  Computer Science  female\n7     Edward  Computer Science    male\n8       Zara        Psychology  female\n9      Wendy         Economics  female\n10      Nate              None    male\n11      John  Computer Science    None",
      "text/html": "<div>\n<style scoped>\n    .dataframe tbody tr th:only-of-type {\n        vertical-align: middle;\n    }\n\n    .dataframe tbody tr th {\n        vertical-align: top;\n    }\n\n    .dataframe thead th {\n        text-align: right;\n    }\n</style>\n<table border=\"1\" class=\"dataframe\">\n  <thead>\n    <tr style=\"text-align: right;\">\n      <th></th>\n      <th>name</th>\n      <th>major</th>\n      <th>sex</th>\n    </tr>\n  </thead>\n  <tbody>\n    <tr>\n      <th>2</th>\n      <td>Abraham</td>\n      <td>Physics</td>\n      <td>male</td>\n    </tr>\n    <tr>\n      <th>3</th>\n      <td>Brian</td>\n      <td>Psychology</td>\n      <td>male</td>\n    </tr>\n    <tr>\n      <th>4</th>\n      <td>Janny</td>\n      <td>Economics</td>\n      <td>female</td>\n    </tr>\n    <tr>\n      <th>5</th>\n      <td>Yuna</td>\n      <td>Economics</td>\n      <td>female</td>\n    </tr>\n    <tr>\n      <th>6</th>\n      <td>Jeniffer</td>\n      <td>Computer Science</td>\n      <td>female</td>\n    </tr>\n    <tr>\n      <th>7</th>\n      <td>Edward</td>\n      <td>Computer Science</td>\n      <td>male</td>\n    </tr>\n    <tr>\n      <th>8</th>\n      <td>Zara</td>\n      <td>Psychology</td>\n      <td>female</td>\n    </tr>\n    <tr>\n      <th>9</th>\n      <td>Wendy</td>\n      <td>Economics</td>\n      <td>female</td>\n    </tr>\n    <tr>\n      <th>10</th>\n      <td>Nate</td>\n      <td>None</td>\n      <td>male</td>\n    </tr>\n    <tr>\n      <th>11</th>\n      <td>John</td>\n      <td>Computer Science</td>\n      <td>None</td>\n    </tr>\n  </tbody>\n</table>\n</div>"
     },
     "metadata": {},
     "execution_count": 34
    }
   ],
   "source": [
    "# 여기서 keep 파라미터는 무엇을 유지 할건가? 라는 말이다. \n",
    "# 당연히 중복된것 중에서 어떤 것을 유지할 건가이다. \n",
    "# first는 앞에 처음 발견된거, last는 마지막에 발견된거 \n",
    "# 즉 중복은 2개 이상의 동일한 값이 있을 떄를 말하는거! \n",
    "# 만약 keep 파라미터를 안주면 default값으로 first값을 할당함.\n",
    "# 앞의 제일 먼저 발견된거를 keep하겠지.\n",
    "df.drop_duplicates(['name'], keep = 'last')\n"
   ]
  },
  {
   "cell_type": "code",
   "execution_count": null,
   "metadata": {},
   "outputs": [],
   "source": []
  },
  {
   "cell_type": "code",
   "execution_count": null,
   "metadata": {},
   "outputs": [],
   "source": []
  },
  {
   "cell_type": "code",
   "execution_count": null,
   "metadata": {},
   "outputs": [],
   "source": []
  },
  {
   "cell_type": "code",
   "execution_count": null,
   "metadata": {},
   "outputs": [],
   "source": []
  },
  {
   "cell_type": "code",
   "execution_count": null,
   "metadata": {},
   "outputs": [],
   "source": []
  },
  {
   "cell_type": "code",
   "execution_count": null,
   "metadata": {},
   "outputs": [],
   "source": []
  },
  {
   "cell_type": "code",
   "execution_count": null,
   "metadata": {},
   "outputs": [],
   "source": []
  },
  {
   "cell_type": "code",
   "execution_count": null,
   "metadata": {},
   "outputs": [],
   "source": []
  },
  {
   "cell_type": "code",
   "execution_count": null,
   "metadata": {},
   "outputs": [],
   "source": []
  },
  {
   "cell_type": "code",
   "execution_count": null,
   "metadata": {},
   "outputs": [],
   "source": []
  }
 ],
 "metadata": {
  "language_info": {
   "codemirror_mode": {
    "name": "ipython",
    "version": 3
   },
   "file_extension": ".py",
   "mimetype": "text/x-python",
   "name": "python",
   "nbconvert_exporter": "python",
   "pygments_lexer": "ipython3",
   "version": "3.8.2-final"
  },
  "orig_nbformat": 2,
  "kernelspec": {
   "name": "python38264bitmymythonenvconda1f36fd18157f4376a30b6173fcd0cb3f",
   "display_name": "Python 3.8.2 64-bit ('my_mython_env': conda)"
  }
 },
 "nbformat": 4,
 "nbformat_minor": 2
}