{
 "cells": [
  {
   "cell_type": "code",
   "execution_count": 6,
   "metadata": {},
   "outputs": [],
   "source": [
    "import pandas as pd\n",
    "from collections import OrderedDict"
   ]
  },
  {
   "cell_type": "code",
   "execution_count": 7,
   "metadata": {},
   "outputs": [
    {
     "output_type": "execute_result",
     "data": {
      "text/plain": "    name  age        job\n0   John   20    student\n1  Jenny   30  developer\n2   Nate   30    teacher",
      "text/html": "<div>\n<style scoped>\n    .dataframe tbody tr th:only-of-type {\n        vertical-align: middle;\n    }\n\n    .dataframe tbody tr th {\n        vertical-align: top;\n    }\n\n    .dataframe thead th {\n        text-align: right;\n    }\n</style>\n<table border=\"1\" class=\"dataframe\">\n  <thead>\n    <tr style=\"text-align: right;\">\n      <th></th>\n      <th>name</th>\n      <th>age</th>\n      <th>job</th>\n    </tr>\n  </thead>\n  <tbody>\n    <tr>\n      <th>0</th>\n      <td>John</td>\n      <td>20</td>\n      <td>student</td>\n    </tr>\n    <tr>\n      <th>1</th>\n      <td>Jenny</td>\n      <td>30</td>\n      <td>developer</td>\n    </tr>\n    <tr>\n      <th>2</th>\n      <td>Nate</td>\n      <td>30</td>\n      <td>teacher</td>\n    </tr>\n  </tbody>\n</table>\n</div>"
     },
     "metadata": {},
     "execution_count": 7
    }
   ],
   "source": [
    "friend_list = [ \n",
    "                ['name',['John', 'Jenny', 'Nate']],\n",
    "                ['age',[20,30,30]],\n",
    "                ['job',['student', 'developer', 'teacher']] \n",
    "              ]\n",
    "df = pd.DataFrame.from_dict(OrderedDict(friend_list))\n",
    "df"
   ]
  },
  {
   "cell_type": "code",
   "execution_count": 10,
   "metadata": {},
   "outputs": [
    {
     "output_type": "stream",
     "name": "stdout",
     "text": "name  age        job\n1  Jenny   30  developer\n2   Nate   30    teacher\n\n    name  age        job\n0   John   20    student\n1  Jenny   30  developer\n2   Nate   30    teacher\n"
    }
   ],
   "source": [
    "# index(1~2)의 row값을 선택해서 보여준다. \n",
    "print(df[1:3])\n",
    "print()\n",
    "print(df)"
   ]
  },
  {
   "cell_type": "code",
   "execution_count": 14,
   "metadata": {},
   "outputs": [
    {
     "output_type": "execute_result",
     "data": {
      "text/plain": "   name  age      job\n0  John   20  student\n2  Nate   30  teacher",
      "text/html": "<div>\n<style scoped>\n    .dataframe tbody tr th:only-of-type {\n        vertical-align: middle;\n    }\n\n    .dataframe tbody tr th {\n        vertical-align: top;\n    }\n\n    .dataframe thead th {\n        text-align: right;\n    }\n</style>\n<table border=\"1\" class=\"dataframe\">\n  <thead>\n    <tr style=\"text-align: right;\">\n      <th></th>\n      <th>name</th>\n      <th>age</th>\n      <th>job</th>\n    </tr>\n  </thead>\n  <tbody>\n    <tr>\n      <th>0</th>\n      <td>John</td>\n      <td>20</td>\n      <td>student</td>\n    </tr>\n    <tr>\n      <th>2</th>\n      <td>Nate</td>\n      <td>30</td>\n      <td>teacher</td>\n    </tr>\n  </tbody>\n</table>\n</div>"
     },
     "metadata": {},
     "execution_count": 14
    }
   ],
   "source": [
    "# loc(loccation) 메소드를 이용함.\n",
    "# 단 loc[]안에 또 []를 넣고 조회 할 수 있음. \n",
    "df.loc[[0,2]]"
   ]
  },
  {
   "cell_type": "code",
   "execution_count": 2,
   "metadata": {},
   "outputs": [
    {
     "output_type": "error",
     "ename": "NameError",
     "evalue": "name 'df' is not defined",
     "traceback": [
      "\u001b[1;31m---------------------------------------------------------------------------\u001b[0m",
      "\u001b[1;31mNameError\u001b[0m                                 Traceback (most recent call last)",
      "\u001b[1;32m<ipython-input-2-46706f582104>\u001b[0m in \u001b[0;36m<module>\u001b[1;34m\u001b[0m\n\u001b[1;32m----> 1\u001b[1;33m \u001b[0mdf\u001b[0m \u001b[1;33m=\u001b[0m \u001b[0mdf\u001b[0m\u001b[1;33m.\u001b[0m\u001b[0mloc\u001b[0m\u001b[1;33m[\u001b[0m\u001b[1;33m[\u001b[0m\u001b[0mname\u001b[0m\u001b[1;33m,\u001b[0m\u001b[0mjob\u001b[0m\u001b[1;33m]\u001b[0m\u001b[1;33m]\u001b[0m\u001b[1;33m\u001b[0m\u001b[1;33m\u001b[0m\u001b[0m\n\u001b[0m\u001b[0;32m      2\u001b[0m \u001b[0mdf\u001b[0m\u001b[1;33m\u001b[0m\u001b[1;33m\u001b[0m\u001b[0m\n",
      "\u001b[1;31mNameError\u001b[0m: name 'df' is not defined"
     ]
    }
   ],
   "source": [
    "df = df.loc[[0,2]]\n",
    "df"
   ]
  },
  {
   "cell_type": "markdown",
   "metadata": {},
   "source": [
    "### by column condition\n",
    "#### column의 컨디션에 따라서 row를 선택하는것! \n",
    "예, age컬럼에서 25이상의 데이터를 보고 싶다면 아래와 같이 하면 됨.      \n",
    "\n",
    "아래 3가지 방법을 살펴 보자.    \n",
    "\n",
    "    첫 번째, df\\[df.컬럼명 > 데이터값\\]   \n",
    "    두 번째, df.loc\\[df.age > 5\\]   \n",
    "    세 번쨰, df.query('header명 > )   "
   ]
  },
  {
   "cell_type": "code",
   "execution_count": 16,
   "metadata": {},
   "outputs": [
    {
     "output_type": "execute_result",
     "data": {
      "text/plain": "   name  age      job\n2  Nate   30  teacher",
      "text/html": "<div>\n<style scoped>\n    .dataframe tbody tr th:only-of-type {\n        vertical-align: middle;\n    }\n\n    .dataframe tbody tr th {\n        vertical-align: top;\n    }\n\n    .dataframe thead th {\n        text-align: right;\n    }\n</style>\n<table border=\"1\" class=\"dataframe\">\n  <thead>\n    <tr style=\"text-align: right;\">\n      <th></th>\n      <th>name</th>\n      <th>age</th>\n      <th>job</th>\n    </tr>\n  </thead>\n  <tbody>\n    <tr>\n      <th>2</th>\n      <td>Nate</td>\n      <td>30</td>\n      <td>teacher</td>\n    </tr>\n  </tbody>\n</table>\n</div>"
     },
     "metadata": {},
     "execution_count": 16
    }
   ],
   "source": [
    "df[df.age > 25]"
   ]
  },
  {
   "cell_type": "code",
   "execution_count": 19,
   "metadata": {},
   "outputs": [
    {
     "output_type": "execute_result",
     "data": {
      "text/plain": "   name  age      job\n0  John   20  student\n2  Nate   30  teacher",
      "text/html": "<div>\n<style scoped>\n    .dataframe tbody tr th:only-of-type {\n        vertical-align: middle;\n    }\n\n    .dataframe tbody tr th {\n        vertical-align: top;\n    }\n\n    .dataframe thead th {\n        text-align: right;\n    }\n</style>\n<table border=\"1\" class=\"dataframe\">\n  <thead>\n    <tr style=\"text-align: right;\">\n      <th></th>\n      <th>name</th>\n      <th>age</th>\n      <th>job</th>\n    </tr>\n  </thead>\n  <tbody>\n    <tr>\n      <th>0</th>\n      <td>John</td>\n      <td>20</td>\n      <td>student</td>\n    </tr>\n    <tr>\n      <th>2</th>\n      <td>Nate</td>\n      <td>30</td>\n      <td>teacher</td>\n    </tr>\n  </tbody>\n</table>\n</div>"
     },
     "metadata": {},
     "execution_count": 19
    }
   ],
   "source": [
    "df.loc[df.age > 5]"
   ]
  },
  {
   "cell_type": "code",
   "execution_count": 23,
   "metadata": {},
   "outputs": [
    {
     "output_type": "execute_result",
     "data": {
      "text/plain": "   name  age      job\n2  Nate   30  teacher",
      "text/html": "<div>\n<style scoped>\n    .dataframe tbody tr th:only-of-type {\n        vertical-align: middle;\n    }\n\n    .dataframe tbody tr th {\n        vertical-align: top;\n    }\n\n    .dataframe thead th {\n        text-align: right;\n    }\n</style>\n<table border=\"1\" class=\"dataframe\">\n  <thead>\n    <tr style=\"text-align: right;\">\n      <th></th>\n      <th>name</th>\n      <th>age</th>\n      <th>job</th>\n    </tr>\n  </thead>\n  <tbody>\n    <tr>\n      <th>2</th>\n      <td>Nate</td>\n      <td>30</td>\n      <td>teacher</td>\n    </tr>\n  </tbody>\n</table>\n</div>"
     },
     "metadata": {},
     "execution_count": 23
    }
   ],
   "source": [
    "# query() 메소드는 소괄호를 써야함. 대괄호(x),중괄호(x)\n",
    "df.query('age>25')"
   ]
  },
  {
   "cell_type": "markdown",
   "metadata": {},
   "source": [
    "### 조금더 복잡한 조건을 줘보자. \n"
   ]
  },
  {
   "cell_type": "code",
   "execution_count": 26,
   "metadata": {},
   "outputs": [
    {
     "output_type": "execute_result",
     "data": {
      "text/plain": "   name  age      job\n2  Nate   30  teacher",
      "text/html": "<div>\n<style scoped>\n    .dataframe tbody tr th:only-of-type {\n        vertical-align: middle;\n    }\n\n    .dataframe tbody tr th {\n        vertical-align: top;\n    }\n\n    .dataframe thead th {\n        text-align: right;\n    }\n</style>\n<table border=\"1\" class=\"dataframe\">\n  <thead>\n    <tr style=\"text-align: right;\">\n      <th></th>\n      <th>name</th>\n      <th>age</th>\n      <th>job</th>\n    </tr>\n  </thead>\n  <tbody>\n    <tr>\n      <th>2</th>\n      <td>Nate</td>\n      <td>30</td>\n      <td>teacher</td>\n    </tr>\n  </tbody>\n</table>\n</div>"
     },
     "metadata": {},
     "execution_count": 26
    }
   ],
   "source": [
    "df[(df.age>25) & (df.name == 'Nate')]"
   ]
  },
  {
   "cell_type": "markdown",
   "metadata": {},
   "source": [
    "### Filter Column   \n",
    "컬럼을 필터하는 방법을 살펴보자.    \n",
    "#### 1. by index"
   ]
  },
  {
   "cell_type": "code",
   "execution_count": 31,
   "metadata": {},
   "outputs": [
    {
     "output_type": "execute_result",
     "data": {
      "text/plain": "       0   1          2\n0   John  20    student\n1  Jenny  30  developer\n2   Nate  30    teacher",
      "text/html": "<div>\n<style scoped>\n    .dataframe tbody tr th:only-of-type {\n        vertical-align: middle;\n    }\n\n    .dataframe tbody tr th {\n        vertical-align: top;\n    }\n\n    .dataframe thead th {\n        text-align: right;\n    }\n</style>\n<table border=\"1\" class=\"dataframe\">\n  <thead>\n    <tr style=\"text-align: right;\">\n      <th></th>\n      <th>0</th>\n      <th>1</th>\n      <th>2</th>\n    </tr>\n  </thead>\n  <tbody>\n    <tr>\n      <th>0</th>\n      <td>John</td>\n      <td>20</td>\n      <td>student</td>\n    </tr>\n    <tr>\n      <th>1</th>\n      <td>Jenny</td>\n      <td>30</td>\n      <td>developer</td>\n    </tr>\n    <tr>\n      <th>2</th>\n      <td>Nate</td>\n      <td>30</td>\n      <td>teacher</td>\n    </tr>\n  </tbody>\n</table>\n</div>"
     },
     "metadata": {},
     "execution_count": 31
    }
   ],
   "source": [
    "friend_list = [\n",
    "     ['John', 20, 'student'],\n",
    "     ['Jenny', 30, 'developer'],\n",
    "     ['Nate', 30, 'teacher'] \n",
    "     ]\n",
    "df = pd.DataFrame.from_records(friend_list)\n",
    "df"
   ]
  },
  {
   "cell_type": "code",
   "execution_count": 1,
   "metadata": {},
   "outputs": [
    {
     "output_type": "error",
     "ename": "NameError",
     "evalue": "name 'df' is not defined",
     "traceback": [
      "\u001b[1;31m---------------------------------------------------------------------------\u001b[0m",
      "\u001b[1;31mNameError\u001b[0m                                 Traceback (most recent call last)",
      "\u001b[1;32m<ipython-input-1-93d7d6d5d221>\u001b[0m in \u001b[0;36m<module>\u001b[1;34m\u001b[0m\n\u001b[0;32m      1\u001b[0m \u001b[1;31m# 3번째 컬럼, 즉 2번 index빼고 다 보고 싶을 경우에는!\u001b[0m\u001b[1;33m\u001b[0m\u001b[1;33m\u001b[0m\u001b[1;33m\u001b[0m\u001b[0m\n\u001b[0;32m      2\u001b[0m \u001b[1;31m# iloc(index location)를 사용한다.\u001b[0m\u001b[1;33m\u001b[0m\u001b[1;33m\u001b[0m\u001b[1;33m\u001b[0m\u001b[0m\n\u001b[1;32m----> 3\u001b[1;33m \u001b[0mdf\u001b[0m\u001b[1;33m.\u001b[0m\u001b[0miloc\u001b[0m\u001b[1;33m[\u001b[0m\u001b[1;33m:\u001b[0m\u001b[1;33m,\u001b[0m\u001b[1;36m0\u001b[0m\u001b[1;33m:\u001b[0m\u001b[1;36m2\u001b[0m\u001b[1;33m]\u001b[0m\u001b[1;33m\u001b[0m\u001b[1;33m\u001b[0m\u001b[0m\n\u001b[0m\u001b[0;32m      4\u001b[0m \u001b[1;31m# ,를 기준으로 왼쪽은 row index값들의 나열이고  오른쪽은 column인덱스 값들의 나열이다.\u001b[0m\u001b[1;33m\u001b[0m\u001b[1;33m\u001b[0m\u001b[1;33m\u001b[0m\u001b[0m\n",
      "\u001b[1;31mNameError\u001b[0m: name 'df' is not defined"
     ]
    }
   ],
   "source": [
    "# 3번째 컬럼, 즉 2번 index빼고 다 보고 싶을 경우에는! \n",
    "# iloc(index location)를 사용한다. \n",
    "df.iloc[:,0:2]\n",
    "# ,를 기준으로 왼쪽은 row index값들의 나열이고  오른쪽은 column인덱스 값들의 나열이다. "
   ]
  },
  {
   "cell_type": "markdown",
   "metadata": {},
   "source": [
    "## by column name   \n",
    "컴럼 이름으로 조회 하는 방법"
   ]
  },
  {
   "cell_type": "code",
   "execution_count": 36,
   "metadata": {},
   "outputs": [
    {
     "output_type": "execute_result",
     "data": {
      "text/plain": "    name  age        job\n0   John   20    student\n1  Jenny   30  developer\n2   Nate   30    teacher\n3  Julia   40    dentist\n4  Brian   45    manager\n5  Chris   25     intern",
      "text/html": "<div>\n<style scoped>\n    .dataframe tbody tr th:only-of-type {\n        vertical-align: middle;\n    }\n\n    .dataframe tbody tr th {\n        vertical-align: top;\n    }\n\n    .dataframe thead th {\n        text-align: right;\n    }\n</style>\n<table border=\"1\" class=\"dataframe\">\n  <thead>\n    <tr style=\"text-align: right;\">\n      <th></th>\n      <th>name</th>\n      <th>age</th>\n      <th>job</th>\n    </tr>\n  </thead>\n  <tbody>\n    <tr>\n      <th>0</th>\n      <td>John</td>\n      <td>20</td>\n      <td>student</td>\n    </tr>\n    <tr>\n      <th>1</th>\n      <td>Jenny</td>\n      <td>30</td>\n      <td>developer</td>\n    </tr>\n    <tr>\n      <th>2</th>\n      <td>Nate</td>\n      <td>30</td>\n      <td>teacher</td>\n    </tr>\n    <tr>\n      <th>3</th>\n      <td>Julia</td>\n      <td>40</td>\n      <td>dentist</td>\n    </tr>\n    <tr>\n      <th>4</th>\n      <td>Brian</td>\n      <td>45</td>\n      <td>manager</td>\n    </tr>\n    <tr>\n      <th>5</th>\n      <td>Chris</td>\n      <td>25</td>\n      <td>intern</td>\n    </tr>\n  </tbody>\n</table>\n</div>"
     },
     "metadata": {},
     "execution_count": 36
    }
   ],
   "source": [
    "df = pd.read_csv('data/friend_list_no_head.csv', header = None, names=['name', 'age', 'job'])\n",
    "df\n",
    "\n",
    "# 문자열 name과 age "
   ]
  },
  {
   "cell_type": "code",
   "execution_count": 60,
   "metadata": {},
   "outputs": [
    {
     "output_type": "stream",
     "name": "stdout",
     "text": "name        job  age\n0   John    student   20\n1  Jenny  developer   30\n2   Nate    teacher   30\n3  Julia    dentist   40\n4  Brian    manager   45\n5  Chris     intern   25\n"
    },
    {
     "output_type": "execute_result",
     "data": {
      "text/plain": "   age        job\n0   20    student\n1   30  developer\n2   30    teacher\n3   40    dentist\n4   45    manager\n5   25     intern",
      "text/html": "<div>\n<style scoped>\n    .dataframe tbody tr th:only-of-type {\n        vertical-align: middle;\n    }\n\n    .dataframe tbody tr th {\n        vertical-align: top;\n    }\n\n    .dataframe thead th {\n        text-align: right;\n    }\n</style>\n<table border=\"1\" class=\"dataframe\">\n  <thead>\n    <tr style=\"text-align: right;\">\n      <th></th>\n      <th>age</th>\n      <th>job</th>\n    </tr>\n  </thead>\n  <tbody>\n    <tr>\n      <th>0</th>\n      <td>20</td>\n      <td>student</td>\n    </tr>\n    <tr>\n      <th>1</th>\n      <td>30</td>\n      <td>developer</td>\n    </tr>\n    <tr>\n      <th>2</th>\n      <td>30</td>\n      <td>teacher</td>\n    </tr>\n    <tr>\n      <th>3</th>\n      <td>40</td>\n      <td>dentist</td>\n    </tr>\n    <tr>\n      <th>4</th>\n      <td>45</td>\n      <td>manager</td>\n    </tr>\n    <tr>\n      <th>5</th>\n      <td>25</td>\n      <td>intern</td>\n    </tr>\n  </tbody>\n</table>\n</div>"
     },
     "metadata": {},
     "execution_count": 60
    }
   ],
   "source": [
    "# df[[ 컬럼명  , 컬럼명   ]]\n",
    "# df[( 컬럼명  , 컬럼명   )]  \n",
    "# df[{ 컬럼명  , 컬럼명   }]\n",
    "# 소괄호(x),중괄호(0) \n",
    "df_filtered1 = df[['name','job','age']]\n",
    "print( df_filtered1 )\n",
    "\n",
    "df_filtered2 = df[{'age','job'}]\n",
    "df_filtered2"
   ]
  },
  {
   "cell_type": "code",
   "execution_count": 61,
   "metadata": {},
   "outputs": [
    {
     "output_type": "execute_result",
     "data": {
      "text/plain": "   age        job\n0   20    student\n1   30  developer\n2   30    teacher\n3   40    dentist\n4   45    manager\n5   25     intern",
      "text/html": "<div>\n<style scoped>\n    .dataframe tbody tr th:only-of-type {\n        vertical-align: middle;\n    }\n\n    .dataframe tbody tr th {\n        vertical-align: top;\n    }\n\n    .dataframe thead th {\n        text-align: right;\n    }\n</style>\n<table border=\"1\" class=\"dataframe\">\n  <thead>\n    <tr style=\"text-align: right;\">\n      <th></th>\n      <th>age</th>\n      <th>job</th>\n    </tr>\n  </thead>\n  <tbody>\n    <tr>\n      <th>0</th>\n      <td>20</td>\n      <td>student</td>\n    </tr>\n    <tr>\n      <th>1</th>\n      <td>30</td>\n      <td>developer</td>\n    </tr>\n    <tr>\n      <th>2</th>\n      <td>30</td>\n      <td>teacher</td>\n    </tr>\n    <tr>\n      <th>3</th>\n      <td>40</td>\n      <td>dentist</td>\n    </tr>\n    <tr>\n      <th>4</th>\n      <td>45</td>\n      <td>manager</td>\n    </tr>\n    <tr>\n      <th>5</th>\n      <td>25</td>\n      <td>intern</td>\n    </tr>\n  </tbody>\n</table>\n</div>"
     },
     "metadata": {},
     "execution_count": 61
    }
   ],
   "source": [
    "# 필터 메소드를 사용해서 컬럼의 아이템들을 걸러 낼수 있다. \n",
    "df.filter(items = ['age' ,'job'])"
   ]
  },
  {
   "cell_type": "code",
   "execution_count": 68,
   "metadata": {},
   "outputs": [
    {
     "output_type": "execute_result",
     "data": {
      "text/plain": "   age        job\n0   20    student\n1   30  developer\n2   30    teacher\n3   40    dentist\n4   45    manager\n5   25     intern",
      "text/html": "<div>\n<style scoped>\n    .dataframe tbody tr th:only-of-type {\n        vertical-align: middle;\n    }\n\n    .dataframe tbody tr th {\n        vertical-align: top;\n    }\n\n    .dataframe thead th {\n        text-align: right;\n    }\n</style>\n<table border=\"1\" class=\"dataframe\">\n  <thead>\n    <tr style=\"text-align: right;\">\n      <th></th>\n      <th>age</th>\n      <th>job</th>\n    </tr>\n  </thead>\n  <tbody>\n    <tr>\n      <th>0</th>\n      <td>20</td>\n      <td>student</td>\n    </tr>\n    <tr>\n      <th>1</th>\n      <td>30</td>\n      <td>developer</td>\n    </tr>\n    <tr>\n      <th>2</th>\n      <td>30</td>\n      <td>teacher</td>\n    </tr>\n    <tr>\n      <th>3</th>\n      <td>40</td>\n      <td>dentist</td>\n    </tr>\n    <tr>\n      <th>4</th>\n      <td>45</td>\n      <td>manager</td>\n    </tr>\n    <tr>\n      <th>5</th>\n      <td>25</td>\n      <td>intern</td>\n    </tr>\n  </tbody>\n</table>\n</div>"
     },
     "metadata": {},
     "execution_count": 68
    }
   ],
   "source": [
    "# items의 속성값들 묶을때 소,중,대괄호 어느것으로 묶어도 가능(O)\n",
    "df.filter(items = ('age' ,'job'))\n"
   ]
  },
  {
   "cell_type": "code",
   "execution_count": 77,
   "metadata": {},
   "outputs": [
    {
     "output_type": "execute_result",
     "data": {
      "text/plain": "    name  age\n0   John   20\n1  Jenny   30\n2   Nate   30\n3  Julia   40\n4  Brian   45\n5  Chris   25",
      "text/html": "<div>\n<style scoped>\n    .dataframe tbody tr th:only-of-type {\n        vertical-align: middle;\n    }\n\n    .dataframe tbody tr th {\n        vertical-align: top;\n    }\n\n    .dataframe thead th {\n        text-align: right;\n    }\n</style>\n<table border=\"1\" class=\"dataframe\">\n  <thead>\n    <tr style=\"text-align: right;\">\n      <th></th>\n      <th>name</th>\n      <th>age</th>\n    </tr>\n  </thead>\n  <tbody>\n    <tr>\n      <th>0</th>\n      <td>John</td>\n      <td>20</td>\n    </tr>\n    <tr>\n      <th>1</th>\n      <td>Jenny</td>\n      <td>30</td>\n    </tr>\n    <tr>\n      <th>2</th>\n      <td>Nate</td>\n      <td>30</td>\n    </tr>\n    <tr>\n      <th>3</th>\n      <td>Julia</td>\n      <td>40</td>\n    </tr>\n    <tr>\n      <th>4</th>\n      <td>Brian</td>\n      <td>45</td>\n    </tr>\n    <tr>\n      <th>5</th>\n      <td>Chris</td>\n      <td>25</td>\n    </tr>\n  </tbody>\n</table>\n</div>"
     },
     "metadata": {},
     "execution_count": 77
    }
   ],
   "source": [
    "# filter 메소드를 이용 컬럼 name의 'a'가 있는것만 확인 하고 싶을 때\n",
    "# 여기서 파라미터 axis는 축을 의미한다. \n",
    "# axis=0은 x축만, axis = 2는 x,y축 모두를 의미한다. \n",
    "# axis =3일 경우 3차원에 해당된다. x,y,z축\n",
    "# 그리고 like라는 parameter로 찾길 원하는 '문자열'단하나라도 입력해도 잡힘.\n",
    "\n",
    "df.filter(like='a', axis=1)"
   ]
  },
  {
   "cell_type": "code",
   "execution_count": 92,
   "metadata": {},
   "outputs": [
    {
     "output_type": "execute_result",
     "data": {
      "text/plain": "         job\n0    student\n1  developer\n2    teacher\n3    dentist\n4    manager\n5     intern",
      "text/html": "<div>\n<style scoped>\n    .dataframe tbody tr th:only-of-type {\n        vertical-align: middle;\n    }\n\n    .dataframe tbody tr th {\n        vertical-align: top;\n    }\n\n    .dataframe thead th {\n        text-align: right;\n    }\n</style>\n<table border=\"1\" class=\"dataframe\">\n  <thead>\n    <tr style=\"text-align: right;\">\n      <th></th>\n      <th>job</th>\n    </tr>\n  </thead>\n  <tbody>\n    <tr>\n      <th>0</th>\n      <td>student</td>\n    </tr>\n    <tr>\n      <th>1</th>\n      <td>developer</td>\n    </tr>\n    <tr>\n      <th>2</th>\n      <td>teacher</td>\n    </tr>\n    <tr>\n      <th>3</th>\n      <td>dentist</td>\n    </tr>\n    <tr>\n      <th>4</th>\n      <td>manager</td>\n    </tr>\n    <tr>\n      <th>5</th>\n      <td>intern</td>\n    </tr>\n  </tbody>\n</table>\n</div>"
     },
     "metadata": {},
     "execution_count": 92
    }
   ],
   "source": [
    "# 만약 컴럼 job처럼 b로 끝나는 문자열을 조회 하고 싶다면?! \n",
    "# regex는 regular expression인 정규표현식을 의미함.\n",
    "# b$에서 달러표시는 마지막 단어가 b로 끝나는걸 의미함.\n",
    "df.filter(regex='b$',axis =1)"
   ]
  },
  {
   "cell_type": "code",
   "execution_count": null,
   "metadata": {},
   "outputs": [],
   "source": []
  },
  {
   "cell_type": "code",
   "execution_count": null,
   "metadata": {},
   "outputs": [],
   "source": []
  },
  {
   "cell_type": "code",
   "execution_count": null,
   "metadata": {},
   "outputs": [],
   "source": []
  },
  {
   "cell_type": "code",
   "execution_count": null,
   "metadata": {},
   "outputs": [],
   "source": []
  },
  {
   "cell_type": "code",
   "execution_count": null,
   "metadata": {},
   "outputs": [],
   "source": []
  }
 ],
 "metadata": {
  "kernelspec": {
   "name": "python38264bitmymythonenvconda1f36fd18157f4376a30b6173fcd0cb3f",
   "display_name": "Python 3.8.2 64-bit ('my_mython_env': conda)"
  }
 },
 "nbformat": 4,
 "nbformat_minor": 4
}