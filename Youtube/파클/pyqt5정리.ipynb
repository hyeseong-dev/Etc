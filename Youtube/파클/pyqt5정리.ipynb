{
 "cells": [
  {
   "cell_type": "code",
   "execution_count": null,
   "metadata": {},
   "outputs": [],
   "source": [
    "import sys\n",
    "from PyQt5.QtWidgets import QApplication, QWidget # 각각의 클래스의 용도는? \n",
    "from PyQt5 import uic\n",
    "\n",
    "class Exam(QWidget):\n",
    "    def __init__(self):\n",
    "        super().__init__()\n",
    "        self.initUI()\n",
    "    def initUI(self):\n",
    "        self.show()\n",
    "\n",
    "app = QApplication(sys.argv) # ? 어떤 기능인가?\n",
    "w = Exam()                  # Exam이라는 클래스를 호출해서 내가 설정한 \n",
    "sys.exit(app.exec_())\n"
   ]
  },
  {
   "cell_type": "code",
   "execution_count": null,
   "metadata": {},
   "outputs": [],
   "source": [
    "import sys \n",
    "from PyQt5.QtWidgets import * \n",
    "\n",
    "app = QApplication(sys.argv)\n",
    "label = QLabel('Hello, PyQt')\n",
    "label.show()\n",
    "\n",
    "\n",
    "print('Before event loop')\n",
    "app.exec_()\n",
    "print('After event loop')"
   ]
  },
  {
   "cell_type": "code",
   "execution_count": null,
   "metadata": {},
   "outputs": [],
   "source": [
    "\"\"\" PyQt 코드 실행 흐름 \"\"\"\n",
    "\n",
    "첫빳따. \n",
    "app = QApplication(sys.argv)\n",
    "\n",
    "두번째. \n",
    "label = QLabel('Hello, PyQt').show()\n",
    "print('Before event loop')\n",
    "\n",
    "\n",
    "세번째\n",
    "app.exec_()\"\"\" <- 여기서 Event loop 발생함\"\"\"\n",
    "\n",
    "    프로그램 종료\n",
    "\n",
    "네번째.\n",
    "print('After event loop')"
   ]
  },
  {
   "cell_type": "markdown",
   "metadata": {},
   "source": [
    "## II. PyQt 위젯 \n",
    "\n",
    "### QPushButton 위젯    \n",
    "QPushButton 위젯은 버튼을 생성하기 위한 위젯입니다. 버튼은 사용자로부터 '예','아니오', '저장','삭제','출력'... 등과 같은 이벤트를 받는데 사용합니다. \n",
    "\n",
    "PyQt는 위젯의 종류에 따라 발생 가능한 기본 시그널이 정의되어 있음 \n",
    "예를들아, QPushButton 위젯은 마우스 클릭 했을 때 'clicked'라는 시그널이 발생합니다. \n",
    "\n",
    "시그널이 발생했을 때 호출되는 함수 또는 메서드인 슬롯을 구현했다면 시그널(마우스클릭,키보드타이핑)과 슬롯(메서드)을 연결만 해주면 됩니다. 시그널이 발생했을 때 연결된 슬롯을 호출하는 역할은 이벤트 루프가 알아서 처리해줍니다. \n",
    "\n",
    "첫째, QPushButton 위젯을 생성한다.  \n",
    "둘째, 위젯에서 'clicked'시그널이 발생하면 호출될 슬롯(clicked_slot)을 구현한다. \n",
    "셋째, 시그널과 슬롯을 이벤트 루프를 생성하기 전에 연결(connect)한다."
   ]
  },
  {
   "cell_type": "code",
   "execution_count": null,
   "metadata": {},
   "outputs": [],
   "source": [
    "import sys\n",
    "from PyQt5.QtWidgets import * \n",
    "\n",
    "def clicked_slot():\n",
    "    print('clicked')\n",
    "\n",
    "app = QApplication(sys.argv)\n",
    "\n",
    "btn = QPushButton('Push')\n",
    "btn.clicked.connect(clicked_slot)\n",
    "btn.show()\n",
    "\n",
    "app.exec_()"
   ]
  },
  {
   "cell_type": "markdown",
   "metadata": {},
   "source": [
    "### QmainWindow 클래스를 사용해 윈도우를 생성한다. \n"
   ]
  },
  {
   "cell_type": "code",
   "execution_count": null,
   "metadata": {},
   "outputs": [],
   "source": [
    "# PyQtEmptyWindow.py\n",
    "import sys\n",
    "from PyQt5.QtWidgets import * \n",
    "\n",
    "class PyQtEmptyWindow(QMainWindow):\n",
    "    def __init(self):\n",
    "        super().__init__()\n",
    "        self.setWindowTitle('윈도우 제목')\n",
    "        self.setGeometry(300,300,300,400)\n",
    "        \n",
    "if __name__ == '__main__':\n",
    "    app = QApplication(sys.argv)\n",
    "    window = PyQtEmptyWindow()\n",
    "    window.show()\n",
    "    app.exec_()\n",
    "    "
   ]
  },
  {
   "cell_type": "markdown",
   "metadata": {},
   "source": [
    "윈도우 화면에 버튼(QPushButton)을 추가한다."
   ]
  },
  {
   "cell_type": "code",
   "execution_count": 2,
   "metadata": {},
   "outputs": [],
   "source": [
    "# PyQtWindowPushButton.py \n",
    "\n",
    "import sys \n",
    "from PyQt5.QtWidgets import * \n",
    "\n",
    "class PushButtonWindow(QMainWindow): # 푸쉬버튼을 만들기위한 빵틀\n",
    "    def __init__(self):\n",
    "        super().__init__()\n",
    "        self.setupUI()\n",
    "\n",
    "    def setupUI(self):\n",
    "        self.setWindowTitle('PushButtonWindow')\n",
    "\n",
    "        btn = QPushButton('Click me', self) #1st arg는 글자삽입, 두번쨰는 인스턴스 self 넣기\n",
    "        btn.move(20,20) # (0,0)은 창 왼쪽 상단임. x축 20, y축 아래로 20 \n",
    "        btn.clicked.connect(self.btn_clicked) # 버튼 \n",
    "\n",
    "    def btn_clicked(self):\n",
    "        QMessageBox.about(self, '메시지','clicked')\n",
    "\n",
    "if __name__ == '__main__':\n",
    "    app = QApplication(sys.argv)\n",
    "    window = PushButtonWindow()\n",
    "    window.show()\n",
    "    app.exec_()"
   ]
  },
  {
   "cell_type": "code",
   "execution_count": null,
   "metadata": {},
   "outputs": [],
   "source": []
  },
  {
   "cell_type": "code",
   "execution_count": null,
   "metadata": {},
   "outputs": [],
   "source": []
  },
  {
   "cell_type": "code",
   "execution_count": null,
   "metadata": {},
   "outputs": [],
   "source": []
  },
  {
   "cell_type": "code",
   "execution_count": null,
   "metadata": {},
   "outputs": [],
   "source": []
  }
 ],
 "metadata": {
  "language_info": {
   "codemirror_mode": {
    "name": "ipython",
    "version": 3
   },
   "file_extension": ".py",
   "mimetype": "text/x-python",
   "name": "python",
   "nbconvert_exporter": "python",
   "pygments_lexer": "ipython3",
   "version": "3.8.2-final"
  },
  "orig_nbformat": 2,
  "kernelspec": {
   "name": "python38264bitmymythonenvconda1f36fd18157f4376a30b6173fcd0cb3f",
   "display_name": "Python 3.8.2 64-bit ('my_mython_env': conda)"
  }
 },
 "nbformat": 4,
 "nbformat_minor": 2
}