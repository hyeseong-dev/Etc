{
 "nbformat": 4,
 "nbformat_minor": 2,
 "metadata": {
  "language_info": {
   "name": "python",
   "codemirror_mode": {
    "name": "ipython",
    "version": 3
   },
   "version": "3.8.1-final"
  },
  "orig_nbformat": 2,
  "file_extension": ".py",
  "mimetype": "text/x-python",
  "name": "python",
  "npconvert_exporter": "python",
  "pygments_lexer": "ipython3",
  "version": 3,
  "kernelspec": {
   "name": "python38164bitpytorchcondae2e836418e8f4945879c9669572061e2",
   "display_name": "Python 3.8.1 64-bit ('pytorch': conda)"
  }
 },
 "cells": [
  {
   "cell_type": "markdown",
   "metadata": {},
   "source": [
    "# 34.2 클래스의 속성 사용하기"
   ]
  },
  {
   "cell_type": "code",
   "execution_count": 1,
   "metadata": {},
   "outputs": [
    {
     "output_type": "stream",
     "name": "stdout",
     "text": "안녕하세요\n"
    }
   ],
   "source": [
    "class Person:\n",
    "    \n",
    "    def __init__(self):\n",
    "        self.hello = '안녕하세요'\n",
    "    \n",
    "    def greeting(self):\n",
    "        print(self.hello)\n",
    "james = Person()\n",
    "james.greeting()"
   ]
  },
  {
   "cell_type": "markdown",
   "metadata": {},
   "source": [
    "_init__ 메서드는 james = Person()처럼 클래스에 ( )(괄호)를 붙여서 인스턴스를 만들 때 호출되는 특별한 메서드입니다. 즉, __init__(initialize)이라는 이름 그대로 인스턴스(객체)를 초기화합니다.\n",
    "\n",
    "특히 이렇게 앞 뒤로 __(밑줄 두 개)가 붙은 메서드는 파이썬이 자동으로 호출해주는 메서드인데 스페셜 메서드(special method) 또는 매직 메서드(magic method)라고 부릅니다. 앞으로 파이썬의 여러 가지 기능을 사용할 때 이 스페셜 메서드를 채우는 식으로 사용하게 됩니다.\n",
    "\n",
    "이제 greeting 메서드를 살펴보겠습니다. greeting 메서드에서는 print로 self.hello를 출력하도록 만들었습니다."
   ]
  },
  {
   "cell_type": "markdown",
   "metadata": {},
   "source": [
    "## self의 의미\n",
    "1. self는 인스턴스 자기 자신을 의미함\n",
    "2. 우리는 인스턴스가 생성될 때 self.hello = '안녕하세요.'처럼 자기 자신에 속성을 추가함\n",
    "3. __init__의 매개변수 self에 들어가는 값은 Person()이라 할 수 있음\n",
    "4. self가 완성된 뒤 james에 할당됨\n",
    "5. 호출하면 현재 인스턴스가 자동으로 매개변수 self에 들어옴\n",
    "6. greeting 메서드에서 print(self.hello)처럼 속성을 출력할 수 있었던것임."
   ]
  },
  {
   "cell_type": "code",
   "execution_count": null,
   "metadata": {},
   "outputs": [],
   "source": []
  },
  {
   "cell_type": "markdown",
   "metadata": {},
   "source": [
    "## 34.2 속성 사용하기 \n",
    "\n",
    "#### 인스턴스를 만들 때 값 받기\n",
    " 1. 다음과 같이 __init__메서드에서 self 다음에 값을 받을 매개변수를 지정함\n",
    " 2. 매개변수를 self 속성에 넣어줌"
   ]
  },
  {
   "cell_type": "code",
   "execution_count": 2,
   "metadata": {},
   "outputs": [
    {
     "output_type": "stream",
     "name": "stdout",
     "text": "안녕하세요 저는 마리아입니다.\n이소: 마리아\n나소: 20\n주소: 서울시 서초구 반포동\n"
    }
   ],
   "source": [
    "class Person: \n",
    "    \n",
    "    def __init__(self, name,age,address):\n",
    "        self.hello = '안녕하세요'\n",
    "        self.name = name\n",
    "        self.age = age\n",
    "        self.address = address\n",
    "\n",
    "    def greeting(self):\n",
    "        print('{0} 저는 {1}입니다.'.format(self.hello,self.name))\n",
    "\n",
    "maria = Person('마리아',20,'서울시 서초구 반포동')\n",
    "maria.greeting() # 안녕하세요. 저는 마리아입니다.\n",
    "\n",
    "print('이소:',maria.name)\n",
    "print('나소:',maria.age)\n",
    "print('주소:',maria.address)"
   ]
  },
  {
   "cell_type": "code",
   "execution_count": 2,
   "metadata": {},
   "outputs": [],
   "source": [
    "\n",
    ""
   ]
  },
  {
   "cell_type": "markdown",
   "metadata": {},
   "source": [
    "## 34.3 비공개 속성 사용하기\n"
   ]
  },
  {
   "cell_type": "markdown",
   "metadata": {},
   "source": [
    "## 비공개 속성 사용하기\n",
    "\n",
    "1. Person 클래스에는 hello, name, age, address 속성이 있었음\n"
   ]
  },
  {
   "cell_type": "code",
   "execution_count": 3,
   "metadata": {},
   "outputs": [],
   "source": [
    "class Person:\n",
    "    def __init__(self, name, age, address):\n",
    "        self.hello = '안녕하세요.'\n",
    "        self.name = name\n",
    "        self.age = age\n",
    "        self.address = address"
   ]
  },
  {
   "cell_type": "code",
   "execution_count": 8,
   "metadata": {},
   "outputs": [
    {
     "output_type": "stream",
     "name": "stdout",
     "text": "Maria\n20\nSeoul Seocho GeumCheon\n"
    }
   ],
   "source": [
    "maria = Person('Maria',20,'Seoul Seocho GeumCheon')\n",
    "print( maria.name )\n",
    "print( maria.age )\n",
    "print( maria.address )"
   ]
  },
  {
   "cell_type": "markdown",
   "metadata": {},
   "source": [
    " 2. 비공개 속성은 __속성과 같이 이름이 __(밑줄 두 개)로 시작해야 함\n",
    " \n",
    " 단, __속성__처럼 밑줄 두 개가 양 옆에 왔을 때는 비공개 속성이 아니므로 주의해야 함"
   ]
  },
  {
   "cell_type": "code",
   "execution_count": 21,
   "metadata": {},
   "outputs": [
    {
     "output_type": "stream",
     "name": "stdout",
     "text": "이제 7000원 남았네요\n"
    }
   ],
   "source": [
    "class Person:\n",
    "    def __init__(self, name, age, address, wallet):\n",
    "        self.name = name\n",
    "        self.age = age\n",
    "        self.address = address\n",
    "        self.__wallet = wallet # 변수 앞에 __를 붙여서 비공개 속성으로 만듦\n",
    "    def pay(self, amout):\n",
    "        self.__wallet -= amout # 비공개 속성은 클래스 안의 메서드에서만 접근됨.\n",
    "        print('이제 {0}원 남았네요'.format(self.__wallet))\n",
    "\n",
    "\n",
    "maria = Person('마리아',20, '서울시 서초구 반포동',10000)\n",
    "maria.pay(3000) # 클래스 밖에서 접근시 오류 발생"
   ]
  },
  {
   "cell_type": "markdown",
   "metadata": {},
   "source": [
    "# 비공개 속성은 클래스 안의 메서드에서만 접근할 수 있음"
   ]
  },
  {
   "cell_type": "code",
   "execution_count": 15,
   "metadata": {},
   "outputs": [],
   "source": [
    "\n"
   ]
  },
  {
   "cell_type": "code",
   "execution_count": 25,
   "metadata": {},
   "outputs": [
    {
     "output_type": "stream",
     "name": "stdout",
     "text": "9900원이 남았습니다.\n"
    }
   ],
   "source": [
    "class Person:\n",
    "    def __init__(self, name, age, address, wallet):\n",
    "        self.name = name\n",
    "        self.age = age\n",
    "        self.address = address\n",
    "        self.__wallet = wallet # 변수 앞에 __를 붙여서 비공개 속성으로 만듦\n",
    "    def pay(self, amout):\n",
    "        if amout > self.__wallet: #쓸려는 금액보다 지갑의 돈이  적을때\n",
    "            self.__wallet -= amout\n",
    "            print('돈이 {0}원 모자라네...'.format(self.__wallet))\n",
    "            return\n",
    "        else :\n",
    "            self.__wallet -= amout\n",
    "            print('{}원이 남았습니다.'.format(self.__wallet))\n",
    "            return\n",
    "maria = Person('마리아',20, '서울시 서초구 반포동',10000)\n",
    "maria.pay(100) # 클래스 밖에서 접근시 오류 발생"
   ]
  },
  {
   "cell_type": "code",
   "execution_count": null,
   "metadata": {},
   "outputs": [],
   "source": []
  },
  {
   "cell_type": "markdown",
   "metadata": {},
   "source": [
    "## 34.5 연습문제: 게임 캐릭터 클래스 만들기"
   ]
  },
  {
   "cell_type": "code",
   "execution_count": 26,
   "metadata": {},
   "outputs": [
    {
     "output_type": "stream",
     "name": "stdout",
     "text": "542.4 210.3 38\n기본 베기 공격력 : 25\n"
    }
   ],
   "source": [
    "class Knight:\n",
    "\n",
    "    def __init__(self,health,mana,armor):\n",
    "        self.health = health\n",
    "        self.mana = mana\n",
    "        self.armor = armor\n",
    "\n",
    "    def slash(self):\n",
    "        print('기본 베기 공격력 : {0}'.format(25))\n",
    "\n",
    "x = Knight(health = 542.4, mana = 210.3, armor = 38)\n",
    "\n",
    "print(x.health,x.mana, x.armor)\n",
    "x.slash()"
   ]
  },
  {
   "cell_type": "code",
   "execution_count": null,
   "metadata": {},
   "outputs": [],
   "source": []
  },
  {
   "cell_type": "code",
   "execution_count": null,
   "metadata": {},
   "outputs": [],
   "source": []
  },
  {
   "cell_type": "code",
   "execution_count": 32,
   "metadata": {},
   "outputs": [
    {
     "output_type": "stream",
     "name": "stdout",
     "text": "티버: 피해량 593.7\n"
    }
   ],
   "source": [
    "class Annie:\n",
    "\n",
    "    def __init__(self, health, mana,abillity_power):\n",
    "        self.health = health\n",
    "        self.mana = mana\n",
    "        self.abillity_power = abillity_power\n",
    "\n",
    "    def tibbers(self):\n",
    "        print('티버: 피해량',(self.abillity_power * 0.65) + 400)\n",
    "\n",
    "health, mana, abillity_power = map(float,input().split())\n",
    "\n",
    "x = Annie(health,mana, abillity_power)\n",
    "x.tibbers()"
   ]
  },
  {
   "cell_type": "code",
   "execution_count": null,
   "metadata": {},
   "outputs": [],
   "source": []
  },
  {
   "cell_type": "code",
   "execution_count": null,
   "metadata": {},
   "outputs": [],
   "source": []
  },
  {
   "cell_type": "code",
   "execution_count": null,
   "metadata": {},
   "outputs": [],
   "source": []
  },
  {
   "cell_type": "code",
   "execution_count": null,
   "metadata": {},
   "outputs": [],
   "source": []
  }
 ]
}