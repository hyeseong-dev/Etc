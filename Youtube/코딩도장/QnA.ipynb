{
 "nbformat": 4,
 "nbformat_minor": 2,
 "metadata": {
  "language_info": {
   "name": "python",
   "codemirror_mode": {
    "name": "ipython",
    "version": 3
   },
   "version": "3.8.1-final"
  },
  "orig_nbformat": 2,
  "file_extension": ".py",
  "mimetype": "text/x-python",
  "name": "python",
  "npconvert_exporter": "python",
  "pygments_lexer": "ipython3",
  "version": 3,
  "kernelspec": {
   "name": "python38164bitpytorchcondae2e836418e8f4945879c9669572061e2",
   "display_name": "Python 3.8.1 64-bit ('pytorch': conda)"
  }
 },
 "cells": [
  {
   "cell_type": "markdown",
   "metadata": {},
   "source": [
    "### 덕 타이핑이란 무엇인가요?/n",
    "/n",
    "덕 타이핑은 실제 타입(클래스)은 상관하지 않고, 구현된 메서드로만 판단하는 방식입니다. 덕 타이핑은 /"만약 어떤 새가 오리처럼 걷고, 헤엄치고, 꽥꽥거리는 소리를 낸다면 나는 그 새를 오리라 부르겠다./"라는 덕 테스트(오리 테스트)에서 유래한 말입니다./n",
    "/n",
    "다음과 같이 in_the_forest 함수는 객체에 quack 메서드와 feathers 메서드만 있으면 함수를 호출할 수 있습니다. 즉, 객체에 quack 메서드와 feathers 메서드가 있으면 오리 타입으로 간주하는 방식입니다."
   ]
  },
  {
   "cell_type": "code",
   "execution_count": 7,
   "metadata": {},
   "outputs": [
    {
     "output_type": "stream",
     "name": "stdout",
     "text": "꽥!/n오리는 흰색과 회색 털을 가지고 있습니다./n사람은 오리를 흉내냅니다. 꽥~!/n사람은 땅에서 깃털을 주워서 보여줍니다./n"
    }
   ],
   "source": [
    "class Duck:  # 오리 클래스를 만들고 quack과 feather메서드 저의/n",
    "    def quack(self): print('꽥!')/n",
    "    def feathers(self): print('오리는 흰색과 회색 털을 가지고 있습니다.')/n",
    "/n",
    "class Person: # 사람 클래스를 만들고 quack과 feathers 메서드 정의/n",
    "    def quack(self): print('사람은 오리를 흉내냅니다. 꽥~!')/n",
    "    def feathers(self): print('사람은 땅에서 깃털을 주워서 보여줍니다.')/n",
    "/n",
    "def in_the_forest(duck): # 덕 타이핑을 사용하는 함수. 클래스의 종류는 상관하지 않음/n",
    "    duck.quack()/n",
    "    duck.feathers()/n",
    "/n",
    "donald = Duck()/n",
    "james = Person()/n",
    "in_the_forest(donald)/n",
    "in_the_forest(james)"
   ]
  },
  {
   "cell_type": "markdown",
   "metadata": {},
   "source": [
    "### 믹스인이란 무엇인가요?/n",
    "/n",
    "믹스인(mix-in)은 다른 클래스에서 사용할 수 있도록 공통적인 메서드를 모아 놓은 클래스를 말합니다. 파이썬에서 믹스인은 자체 인스턴스 속성을 가지고 있지 않으며 __init__ 메서드를 구현하지 않습니다. 예를 들어 인사하는 메서드 greeting은 사람 종류의 클래스에서 공통적으로 사용하는 메서드이며 HelloMixIn에 넣었습니다. Student는 HelloMixIn과 Person을 상속받고, Teacher도 HelloMixIn과 Person을 상속받았습니다. 따라서 Student와 Teacher는 모두 공통 메서드인 greeting을 사용할 수 있습니다."
   ]
  },
  {
   "cell_type": "code",
   "execution_count": 8,
   "metadata": {},
   "outputs": [],
   "source": [
    "class HelloMixIn:/n",
    "    def greeting(self): # 인사하는 메서드는 공통적인 메서드/n",
    "        print('안녕하세요.')/n",
    " /n",
    "class Person():/n",
    "    def __init__(self, name):/n",
    "        self.name = name/n",
    " /n",
    "class Student(HelloMixIn, Person):# HelloMixIn과 Person을 상속받아 학생 클래스를 만듦/n",
    "    def study(self):/n",
    "        print('공부하기')/n",
    " /n",
    "class Teacher(HelloMixIn, Person):# HelloMixIn과 Person을 상속받아 선생님 클래스를 만듦/n",
    "    def teach(self):/n",
    "        print('가르치기')"
   ]
  },
  {
   "cell_type": "code",
   "execution_count": null,
   "metadata": {},
   "outputs": [],
   "source": []
  },
  {
   "cell_type": "code",
   "execution_count": null,
   "metadata": {},
   "outputs": [],
   "source": []
  },
  {
   "cell_type": "code",
   "execution_count": null,
   "metadata": {},
   "outputs": [],
   "source": []
  },
  {
   "cell_type": "code",
   "execution_count": null,
   "metadata": {},
   "outputs": [],
   "source": []
  },
  {
   "cell_type": "code",
   "execution_count": null,
   "metadata": {},
   "outputs": [],
   "source": []
  },
  {
   "cell_type": "code",
   "execution_count": null,
   "metadata": {},
   "outputs": [],
   "source": []
  }
 ]
}