{
 "nbformat": 4,
 "nbformat_minor": 2,
 "metadata": {
  "language_info": {
   "name": "python",
   "codemirror_mode": {
    "name": "ipython",
    "version": 3
   },
   "version": "3.8.1-final"
  },
  "orig_nbformat": 2,
  "file_extension": ".py",
  "mimetype": "text/x-python",
  "name": "python",
  "npconvert_exporter": "python",
  "pygments_lexer": "ipython3",
  "version": 3,
  "kernelspec": {
   "name": "python38164bitpytorchcondae2e836418e8f4945879c9669572061e2",
   "display_name": "Python 3.8.1 64-bit ('pytorch': conda)"
  }
 },
 "cells": [
  {
   "cell_type": "markdown",
   "metadata": {},
   "source": [
    "## 두 점 사이의 거리 구하기"
   ]
  },
  {
   "cell_type": "markdown",
   "metadata": {},
   "source": [
    "1. 클래스로 점 구현하기 \n",
    " - 다음과 같이 Point2D 클래스를 구현하고 x와 y를 속성으로 넣음\n",
    " "
   ]
  },
  {
   "cell_type": "code",
   "execution_count": 9,
   "metadata": {},
   "outputs": [
    {
     "output_type": "stream",
     "name": "stdout",
     "text": "p1: 30 20\np2: 60 50\n42.42640687119285\n"
    }
   ],
   "source": [
    "import math\n",
    "\n",
    "class Point2D:\n",
    "    def __init__(self,x,y):\n",
    "        self.x = x\n",
    "        self.y = y\n",
    "p1 =Point2D(x= 30,y=20)\n",
    "p2 =Point2D(x= 60,y=50)\n",
    "\n",
    "print('p1: {0} {1}'.format(p1.x, p1.y))\n",
    "print('p2: {0} {1}'.format(p2.x, p2.y))\n",
    "\n",
    "a = p2.x - p1.x \n",
    "b = p2.y - p1.y\n",
    "\n",
    "c = math.sqrt( (a*a)+(b*b) )\n",
    "print(c)"
   ]
  },
  {
   "cell_type": "markdown",
   "metadata": {},
   "source": [
    "피타고라스의 정리 \n",
    "a^2+b^2=c^2\n",
    "\n",
    "a = p2.x - p1.x \n",
    "b = p2.y - p1.y\n",
    "\n",
    " - 루트는 math 모듈의 sqrt함수를 사용하면 편리함. \n",
    " - sqrt는 제곱근을 뜻하는 square root에서 따옴\n",
    "> math.sqrt(값)\n",
    " - 제곱근을 반환, 값이 음수이면 에러 발생"
   ]
  },
  {
   "cell_type": "code",
   "execution_count": null,
   "metadata": {},
   "outputs": [],
   "source": [
    "c = math.sqrt( (a*a)+(b*b) )"
   ]
  },
  {
   "cell_type": "markdown",
   "metadata": {},
   "source": [
    "거듭 제곱을 나타내는 \n",
    "\n",
    "> math.pow(값,지수)"
   ]
  },
  {
   "cell_type": "code",
   "execution_count": 11,
   "metadata": {},
   "outputs": [
    {
     "output_type": "stream",
     "name": "stdout",
     "text": "42.42640687119285\n"
    }
   ],
   "source": [
    "c = math.sqrt( math.pow(a,2)+math.pow(b,2) )\n",
    "print(c)"
   ]
  },
  {
   "cell_type": "code",
   "execution_count": 13,
   "metadata": {},
   "outputs": [
    {
     "output_type": "stream",
     "name": "stdout",
     "text": "42.42640687119285\n"
    }
   ],
   "source": [
    "c = math.sqrt( (a**2)+(b**2) )\n",
    "print(c)"
   ]
  },
  {
   "cell_type": "markdown",
   "metadata": {},
   "source": [
    "## 37.2 연습문제: 사각형의 넓이 구하기"
   ]
  },
  {
   "cell_type": "code",
   "execution_count": 18,
   "metadata": {},
   "outputs": [],
   "source": [
    "class Rectangle:\n",
    "    def __init__(self, x1, y1, x2, y2):\n",
    "        self.x1 = x1\n",
    "        self.y1 = y1\n",
    "        self.x2 = x2\n",
    "        self.y2 = y2\n",
    "rect = Rectangle(x1 = 20, y1=20, x2=40, y2=30)"
   ]
  },
  {
   "cell_type": "code",
   "execution_count": 21,
   "metadata": {},
   "outputs": [
    {
     "output_type": "stream",
     "name": "stdout",
     "text": "200\n"
    }
   ],
   "source": [
    "width = abs(rect.x2 - rect.x1)\n",
    "height = abs(rect.y2 - rect.y1)\n",
    "# print(width,height)\n",
    "area = width * height\n",
    "print(area)"
   ]
  },
  {
   "cell_type": "markdown",
   "metadata": {},
   "source": [
    "# 37.3 4점의 선 길이 구하기 "
   ]
  },
  {
   "cell_type": "code",
   "execution_count": 24,
   "metadata": {},
   "outputs": [
    {
     "output_type": "stream",
     "name": "stdout",
     "text": "4.242640687119286\n"
    }
   ],
   "source": [
    "import math\n",
    "\n",
    "class Point2D:\n",
    "    def __init__(self, x=0,y=0):\n",
    "        self.x = x\n",
    "        self.y = y\n",
    "\n",
    "length = 0.0\n",
    "p = [Point2D(),Point2D(),Point2D(),Point2D()]\n",
    "p[0].x,p[0].y,p[1].x,p[1].y,p[2].x,p[2].y,p[3].x,p[3].y = map(int, input().split())\n",
    "\n",
    "for i in range(0,3):\n",
    "    length += math.sqrt((p[i+1].x - p[i].x)**2+(p[i+1].y-p[i].y)**2)\n",
    "print(length)"
   ]
  },
  {
   "cell_type": "code",
   "execution_count": null,
   "metadata": {},
   "outputs": [],
   "source": []
  },
  {
   "cell_type": "code",
   "execution_count": null,
   "metadata": {},
   "outputs": [],
   "source": []
  },
  {
   "cell_type": "code",
   "execution_count": null,
   "metadata": {},
   "outputs": [],
   "source": []
  },
  {
   "cell_type": "code",
   "execution_count": null,
   "metadata": {},
   "outputs": [],
   "source": []
  },
  {
   "cell_type": "code",
   "execution_count": null,
   "metadata": {},
   "outputs": [],
   "source": []
  }
 ]
}