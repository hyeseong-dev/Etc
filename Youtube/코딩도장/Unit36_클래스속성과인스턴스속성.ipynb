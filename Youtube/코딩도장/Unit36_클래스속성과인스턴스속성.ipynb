{
 "nbformat": 4,
 "nbformat_minor": 2,
 "metadata": {
  "language_info": {
   "name": "python",
   "codemirror_mode": {
    "name": "ipython",
    "version": 3
   },
   "version": "3.8.1-final"
  },
  "orig_nbformat": 2,
  "file_extension": ".py",
  "mimetype": "text/x-python",
  "name": "python",
  "npconvert_exporter": "python",
  "pygments_lexer": "ipython3",
  "version": 3,
  "kernelspec": {
   "name": "python38164bitpytorchcondae2e836418e8f4945879c9669572061e2",
   "display_name": "Python 3.8.1 64-bit ('pytorch': conda)"
  }
 },
 "cells": [
  {
   "cell_type": "markdown",
   "metadata": {},
   "source": [
    "# 클래스 속성과 인스턴스 속성 만들기"
   ],
   "execution_count": null,
   "outputs": []
  },
  {
   "cell_type": "code",
   "execution_count": null,
   "metadata": {},
   "outputs": [],
   "source": [
    "class Person: /n",
    "    bag = [] # 클래스 속성입니다.  /n",
    "/n",
    "    def put_bag(self, stuff):/n",
    "        self.bag.append(stuff)/n",
    "/n",
    "james = Person()/n",
    "james.put_bag('책')/n",
    "/n",
    "maria = Person()/n",
    "maria.put_bag('키')/n",
    "/n",
    "print(james.bag)/n",
    "print(maria.bag)"
   ]
  },
  {
   "cell_type": "markdown",
   "metadata": {},
   "source": [
    " - put_bag() 메서드에서 클래스 속성 bag에 접급할 때 self를 사용함/n",
    "/n",
    " - 사실 self는 현재 인스턴스를 뜻하므로 클래스 속성을 지칭하기에는 조금 모호함"
   ],
   "execution_count": null,
   "outputs": []
  },
  {
   "cell_type": "code",
   "execution_count": null,
   "metadata": {},
   "outputs": [],
   "source": [
    "class Person:/n",
    "    bag = []/n",
    "/n",
    "    def put_bag(self,stuff):/n",
    "        self.bag.append(stuff)"
   ]
  },
  {
   "cell_type": "markdown",
   "metadata": {},
   "source": [
    " - 클래스 속성에 접근할 때는 다음과 같이 클래스 이름으로 접근하면 좀 더 코드가 명확해짐"
   ],
   "execution_count": null,
   "outputs": []
  },
  {
   "cell_type": "code",
   "execution_count": null,
   "metadata": {},
   "outputs": [],
   "source": [
    "class Person:/n",
    "    bag = []/n",
    "/n",
    "    def put_bag(self, stuff):/n",
    "        Person.bag.append(stuff) # 클래스 이름으로 클래스 속성에 접근"
   ]
  },
  {
   "cell_type": "markdown",
   "metadata": {},
   "source": [
    " - 위의 코드처럼 Person.bag이라고 하니 클래스 Person에 속한 bag 속성이라는 것을 바로 알 수 있음. /n",
    " - 클래스 바깥에서도 다음과 같이 클래스 이름으로 클래스 속성에 접근하면 됨"
   ],
   "execution_count": null,
   "outputs": []
  },
  {
   "cell_type": "code",
   "execution_count": null,
   "metadata": {},
   "outputs": [],
   "source": [
    "print(Person.bag)"
   ]
  },
  {
   "cell_type": "markdown",
   "metadata": {},
   "source": [
    " -  인스턴스 속성은 인스턴스별로 독립되어 있으며 서로 영향을 주지 않음/n",
    " - 클래스 속성과 인스턴스 속성의 차이점을 정리해보자. /n",
    "/n",
    "##### 클래스 속성: 모든 인스턴스가 공유. 인스턴스 전체가 사용해야 하는 값을 저장할 때 사용/n",
    "##### 인스턴스 속성: 인스턴스별로 독립되어 있음. 각 인스턴스가 값을 따로 저장해야 할 때 사용"
   ],
   "execution_count": null,
   "outputs": []
  },
  {
   "cell_type": "code",
   "execution_count": null,
   "metadata": {},
   "outputs": [],
   "source": [
    "# 비공개 클래스 속성 사용하기 /n",
    "class Knight: /n",
    "    __item_limit = 10 /n",
    "/n",
    "    def print_item_limit(self):/n",
    "        print(Knight.__item_limit)/n",
    "/n",
    "x = Knight()/n",
    "x.print_item_limit() /n",
    "/n",
    "print(Knight.__item_limit) # 클래스 바깥에서는 접근 할수 X"
   ]
  },
  {
   "cell_type": "code",
   "execution_count": null,
   "metadata": {},
   "outputs": [],
   "source": []
  },
  {
   "cell_type": "markdown",
   "metadata": {},
   "source": [
    "## 35.2 정적 메서드 사용하기 /n",
    "/n",
    " - 메서드 위에 @staticmethod를 붙임/n",
    " - 매개변수에 self를 지정하지 않음"
   ],
   "execution_count": null,
   "outputs": []
  },
  {
   "cell_type": "code",
   "execution_count": null,
   "metadata": {},
   "outputs": [],
   "source": [
    "class 클래스이름: /n",
    "/n",
    "    @staticmethod/n",
    "    def 메서드(매개변수1, 매개변수2):/n",
    "        코드"
   ]
  },
  {
   "cell_type": "markdown",
   "metadata": {},
   "source": [
    " - @staticmethod처럼 앞에 @이 붙은 것을 데코레이터라고 하며 메서드에 추가 기능을 사용 할 수 있음"
   ],
   "execution_count": null,
   "outputs": []
  },
  {
   "cell_type": "code",
   "execution_count": null,
   "metadata": {},
   "outputs": [],
   "source": [
    "class Calc: /n",
    "/n",
    "    @staticmethod/n",
    "    def add(a,b):/n",
    "        print(a + b)/n",
    "/n",
    "    @staticmethod/n",
    "    def mul(a,b):/n",
    "        print(a * b)/n",
    "/n",
    "Calc.add(100,100) # 클래스에서 바로 메서드 호출/n",
    "Calc.mul(100,100) # 클래스에서 바로 메서드 호출"
   ]
  },
  {
   "cell_type": "markdown",
   "metadata": {},
   "source": [
    " - 정적 메서드는 self를 받지 않으므로 인스턴스 속성에는 접근 할 수 없음/n",
    " - 정적 메서드는 인스턴스 속성, 인스턴스 메서드가 필요 없을 때 사용함/n",
    " - 정적 메서드는 메서드의 실행이 외부 상태에 영향을 끼치지 않는 순수 함수(Pure function)를 만들 때 사용함/n",
    " - 순수 함수는 부수 효과(side effect)가 없고 입력 값이 같으면 언제나 같은 출력 값을 반환함/n",
    " - 정적 메서드는 인스턴스의 상태를 변화시키지 않는 메서드를 만들 때 사용함 "
   ],
   "execution_count": null,
   "outputs": []
  },
  {
   "cell_type": "code",
   "execution_count": null,
   "metadata": {},
   "outputs": [],
   "source": []
  },
  {
   "cell_type": "markdown",
   "metadata": {},
   "source": [
    "## 35.3 클래스 메서드 사용하기/n",
    "/n",
    " - 클래스 메서드는 다음과 같이 메서드 위에 @classmethod를 붙임/n",
    " - 클래스 메서드는 첫 번째 매개변수에 cls를 지정해야 함(cls는 class에서 따옴)"
   ],
   "execution_count": null,
   "outputs": []
  },
  {
   "cell_type": "code",
   "execution_count": null,
   "metadata": {},
   "outputs": [],
   "source": [
    "class 클래스이름:/n",
    "    /n",
    "    @classmethod/n",
    "    def 메서드(cls, 매개변수1, 매개변수2):/n",
    "        코드/n"
   ]
  },
  {
   "cell_type": "code",
   "execution_count": null,
   "metadata": {},
   "outputs": [],
   "source": [
    "class Person: /n",
    "    count = 0 # class attribute/n",
    "/n",
    "    def __init__(self):/n",
    "        Person.count += 1   # 인스턴스가 만들어질 때 /n",
    "                            # 클래스 속성 count에 1을 더함/n",
    "    @classmethod/n",
    "    def print_count(cls):/n",
    "        print('{0}명 생성되었습니다.'.format(cls.count)) # cls로 클래스 속성에 접근 /n",
    "/n",
    "james = Person()/n",
    "maria = Person()/n",
    "/n",
    "Person.print_count() #2명이 생성되었습니다."
   ]
  },
  {
   "cell_type": "markdown",
   "metadata": {},
   "source": [
    "## 35.5 연습문제: 날짜 클래스 만들기/n",
    "/n",
    "다음 소스 코드에서 Date 클래스를 완성하세요. is_date_valid는 문자열이 올바른 날짜인지 검사하는 메서드입니다. 날짜에서 월은 12월까지 일은 31일까지 있어야합니다."
   ],
   "execution_count": null,
   "outputs": []
  },
  {
   "cell_type": "code",
   "execution_count": null,
   "metadata": {},
   "outputs": [],
   "source": [
    "class Date:/n",
    "    /n",
    "    @classmethod/n",
    "    def is_date_valid(cls,date_string):/n",
    "        year,month,day = map(int, date_string.split('-'))/n",
    "        return month <=12 and day<=31/n",
    "/n",
    "/n",
    "if Date.is_date_valid(input()):/n",
    "    print('올바른 날짜 형식입니다.')/n",
    "else:/n",
    "    print('잘못된 날짜 형식입니다.')"
   ]
  },
  {
   "cell_type": "markdown",
   "metadata": {},
   "source": [
    "/n",
    "## 35.5 날짜 클래스 만들기"
   ],
   "execution_count": null,
   "outputs": []
  },
  {
   "cell_type": "code",
   "execution_count": null,
   "metadata": {},
   "outputs": [],
   "source": [
    "time_string = input()/n",
    "/n",
    "class Time:/n",
    "/n",
    "    def __init__(self, hour, minute, second):/n",
    "        self.hour = hour/n",
    "        self.minute = minute/n",
    "        self.second = second/n",
    "    /n",
    "    @staticmethod/n",
    "    def is_time_valid(time_string):/n",
    "        hour, minute, second = map(int,time_string.split(':'))/n",
    "        return hour<=24 and minute<=59 and second<=60/n",
    "    /n",
    "    class From_string():    /n",
    "        def __init__(self, time_string):/n",
    "            self.time_string = time_string/n",
    "        hour,minute,second = map(int, time_string.split(':'))/n",
    " /n",
    "/n",
    " /n",
    "if Time.is_time_valid(time_string):/n",
    "    t = Time.From_string(time_string)/n",
    "    print(t.hour, t.minute, t.second)/n",
    "else:/n",
    "    print('잘못된 시간 형식입니다.')"
   ]
  },
  {
   "cell_type": "markdown",
   "metadata": {},
   "source": [],
   "execution_count": null,
   "outputs": []
  },
  {
   "cell_type": "markdown",
   "metadata": {},
   "source": [
    "## 36.1 사람 클래스로 학생 만들기"
   ],
   "execution_count": null,
   "outputs": []
  },
  {
   "cell_type": "code",
   "execution_count": null,
   "metadata": {},
   "outputs": [],
   "source": [
    "class Person:/n",
    "    def greeting(self):/n",
    "        print('안녕하세요')/n",
    "/n",
    "class Student(Person):/n",
    "    def study(self):/n",
    "        print('공부하기')/n",
    "/n",
    "james = Student()/n",
    "james.greeting() # 안녕하세요: 기반 클래스 Person의 메서드 호출/n",
    "james.study()  # 공부하기: 파생클래스로 study메서드 호출"
   ]
  },
  {
   "cell_type": "markdown",
   "metadata": {},
   "source": [
    "### 36.2 상속 관계와 포함 관계 알아보기"
   ],
   "execution_count": null,
   "outputs": []
  },
  {
   "cell_type": "markdown",
   "metadata": {},
   "source": [
    "### 포함 관계/n",
    " - 학생 클래스가 아니라 사람 목록을 관리하는 클래스를 만든다면 다음과 같이 리스트 속성에 Person 인스턴스를 넣어서 관리하면 됨"
   ],
   "execution_count": null,
   "outputs": []
  },
  {
   "cell_type": "code",
   "execution_count": null,
   "metadata": {},
   "outputs": [],
   "source": [
    "class Person:/n",
    "    def greeting(self):/n",
    "        print('안녕하세요.')/n",
    "    /n",
    "class PersonList():/n",
    "    def __init__(self):/n",
    "        self.person_list = [] # 리스트 속성에 Person인스턴스를 넣어서 관리/n",
    "/n",
    "    def append_person(self, person): # 리스트 속성에 Person인스턴스를 추가하는 함수/n",
    "        self.person_list.append(person)"
   ]
  },
  {
   "cell_type": "markdown",
   "metadata": {},
   "source": [
    " - 같은 종류에 동등한 관계일 때는 상속을 사용하고, 그 이외에는 속성에 인스턴스를 넣는포함 방식을 사용하면 됨"
   ],
   "execution_count": null,
   "outputs": []
  },
  {
   "cell_type": "markdown",
   "metadata": {},
   "source": [
    "## 기반 클래스의 속성 사용하기"
   ],
   "execution_count": null,
   "outputs": []
  },
  {
   "cell_type": "code",
   "execution_count": null,
   "metadata": {},
   "outputs": [],
   "source": [
    "class Person:/n",
    "    def __init__(self):/n",
    "        print('Person __init__')/n",
    "        self.hello = '안녕하세요.'/n",
    " /n",
    "class Student(Person):/n",
    "    def __init__(self):/n",
    "        print('Student __init__')/n",
    "        self.school = '파이썬 코딩 도장'/n",
    " /n",
    "james = Student()/n",
    "print(james.school)/n",
    "print(james.hello)    # 기반 클래스의 속성을 출력하려고 하면 에러가 발생함"
   ]
  },
  {
   "cell_type": "markdown",
   "metadata": {},
   "source": [
    "### super()로 기반 클래스 초기화하기/n",
    "/n",
    " - super()를 사용해서 기반 클래스의 __init__ 메서드를 호출해줌"
   ],
   "execution_count": null,
   "outputs": []
  },
  {
   "cell_type": "code",
   "execution_count": null,
   "metadata": {},
   "outputs": [],
   "source": [
    "class Person:/n",
    "    def __init__(self):/n",
    "        print('Person __init__')/n",
    "        self.hello = '안녕하세요.'/n",
    " /n",
    "class Student(Person):/n",
    "    def __init__(self):/n",
    "        print('Student __init__')/n",
    "        super().__init__() #super()로 기반클래스의 __init__메서드 호출 /n",
    "        self.school = '파이썬 코딩 도장'/n",
    " /n",
    "james = Student()/n",
    "print(james.school)/n",
    "print(james.hello)    # 기반 클래스의 속성을 출력하려고 하면 에러가 발생함"
   ]
  },
  {
   "cell_type": "markdown",
   "metadata": {},
   "source": [
    "### 기반 클래스를 초기화하지 않아도 되는 경우/n",
    " - 만약 파생 클래스에서 __init__메서드를 생략한다면 기반 클래스의 __init__이 자동으로 호출되므로 super()는 사용하지 않아도 됨/n",
    " "
   ],
   "execution_count": null,
   "outputs": []
  },
  {
   "cell_type": "code",
   "execution_count": null,
   "metadata": {},
   "outputs": [],
   "source": [
    "class Person:/n",
    "    def __init__(self):/n",
    "        print('Person __init__')/n",
    "        self.hello = '안녕하세요.'/n",
    "/n",
    "class Student(Person):/n",
    "    pass/n",
    "/n",
    "james = Student()/n",
    "print(james.hello)/n",
    ""
   ]
  },
  {
   "cell_type": "markdown",
   "metadata": {},
   "source": [
    "> 파생 클래스에 __init__ 메서드가 없다면 기반 클래스의 __init_이 자동으로 호출되므로 기반 클래스의 속성을 사용할 수 있음"
   ],
   "execution_count": null,
   "outputs": []
  },
  {
   "cell_type": "markdown",
   "metadata": {},
   "source": [
    "# 메서드 오버라이딩 사용하기"
   ],
   "execution_count": null,
   "outputs": []
  },
  {
   "cell_type": "code",
   "execution_count": null,
   "metadata": {},
   "outputs": [],
   "source": [
    "class Person:/n",
    "    def greeting(self):/n",
    "        print('안녕하세요.')/n",
    "class Student(Person):/n",
    "    def greeting(self):/n",
    "        print('안녕하세요. 저는 파이썬 코딩 도장 학생입니다.')/n",
    "/n",
    "james = Student()/n",
    "james.greeting()/n",
    ""
   ]
  },
  {
   "cell_type": "markdown",
   "metadata": {},
   "source": [
    "메서드 오버라이딩 특징/n",
    " - 오버라이딩은 무시하다, 우선하다라는 뜻을 가지고 있는데 말그대로 기반 클래스의 메서드를 무시하고 새로운 메서드를 만든다는 뜻임. /n",
    " - 여기서는 Person클래스의 greeting메서드를 무시하고 Student 클래스에서 새로운 greeting메서드를 만들었음/n",
    " - 메서드 오버라이딩은 보통 프로그램에서 어떤 기능이 같은 메서드 이름으로 계속 사용 되어야 할 때 메서드 오버라이딩을 활용함. /n",
    " - Student 클래스에서 인사하는 메서드를 greeting2로 만들어야 한다면 모든 소스 코드에서 메서드 호출 부분을 greeting2로 수정해야함. "
   ],
   "execution_count": null,
   "outputs": []
  },
  {
   "cell_type": "markdown",
   "metadata": {},
   "source": [
    "### 아래와 같이 오버라이딩된 메서드에서 super()로 기반 클래스의 메서드를 호출해보자./n"
   ],
   "execution_count": null,
   "outputs": []
  },
  {
   "cell_type": "code",
   "execution_count": null,
   "metadata": {},
   "outputs": [],
   "source": [
    "class Person:/n",
    "    def greeting(self):/n",
    "        print('안녕하세요.')/n",
    "/n",
    "class Student(Person):/n",
    "    def greeting(self) :/n",
    "        super().greeting() # 기반 클래스의 메서드를 호출하여 중복을 줄임/n",
    "        print('저는 파이썬 코딩 도장 학생입니다.')/n",
    "james = Student()/n",
    "james.greeting()"
   ]
  },
  {
   "cell_type": "markdown",
   "metadata": {},
   "source": [
    " - 중복되는 기능은 파생 클래스에서 다시 만들지 않고, 기반 클래스의 기능을 사용하면 됨/n",
    " - 메서드 오버라이딩은 원래 기능을 유지하면서 새로운 기능을 덧붙일 떄 사용됨"
   ],
   "execution_count": null,
   "outputs": []
  },
  {
   "cell_type": "markdown",
   "metadata": {},
   "source": [
    "# 36.5 다중 상속 사용하기"
   ],
   "execution_count": null,
   "outputs": []
  },
  {
   "cell_type": "code",
   "execution_count": null,
   "metadata": {},
   "outputs": [],
   "source": [
    "class 기반 클래스 이름1:/n",
    "    코드/n",
    "/n",
    "class 기반 클래스 이름2:/n",
    "    코드/n",
    "/n",
    "class 파생 클래스 이름1(기반 클래스 이름1,기반 클래스 이름2):/n",
    "    코드"
   ]
  },
  {
   "cell_type": "code",
   "execution_count": null,
   "metadata": {},
   "outputs": [],
   "source": [
    "class Person:/n",
    "    def greeting(self):/n",
    "        print('안녕하세요.')/n",
    "/n",
    "class University:/n",
    "    def manage_credit(self):/n",
    "        print('학점관리')/n",
    "/n",
    "class Undergraduate(Person,University):/n",
    "    def study(self):/n",
    "        print('공부하기.')/n",
    "james = Undergraduate()/n",
    "james.greeting()/n",
    "james.manage_credit()/n",
    "james.study()"
   ]
  },
  {
   "cell_type": "markdown",
   "metadata": {},
   "source": [
    "## 다이아몬드 상속"
   ],
   "execution_count": null,
   "outputs": []
  },
  {
   "cell_type": "code",
   "execution_count": null,
   "metadata": {},
   "outputs": [],
   "source": [
    "class A:/n",
    "    def greeting(self):/n",
    "        print('안녕하세요. A입니다.')/n",
    "class B(A):/n",
    "    def greeting(self):/n",
    "        print('안녕하세요. B입니다.')/n",
    "class C(A):/n",
    "    def greeting(self):/n",
    "        print('안녕하세요. D입니다.')/n",
    "class D(B,C):/n",
    "   pass/n",
    "x = D()/n",
    "x.greeting()"
   ]
  },
  {
   "cell_type": "markdown",
   "metadata": {},
   "source": [
    "## 메서드 탐색 순서 확인하기 /n",
    "```/n",
    " - 많은 프로그래밍 언어들이 다이아몬드 상속에 대한 해결책을 제시하고 있는데 파이썬에서는 메서드 순서(Method Resolution Order,MRO)를 따름/n",
    " - 다음과 같이 클래스 D에 메서드 mro를 사용해보면 메서드 탐색 순서가 나옴(클래스.__mro__)도 같은 내용/n",
    " "
   ],
   "execution_count": null,
   "outputs": []
  },
  {
   "cell_type": "code",
   "execution_count": null,
   "metadata": {},
   "outputs": [],
   "source": [
    "D.mro()/n",
    "x.greeting()"
   ]
  },
  {
   "cell_type": "code",
   "execution_count": null,
   "metadata": {},
   "outputs": [],
   "source": [
    "D.__mro__"
   ]
  },
  {
   "cell_type": "markdown",
   "metadata": {},
   "source": [
    "##  추상 클래스 사용하기/n"
   ],
   "execution_count": null,
   "outputs": []
  },
  {
   "cell_type": "code",
   "execution_count": null,
   "metadata": {},
   "outputs": [],
   "source": [
    "from abc import */n",
    "/n",
    "class StudentBase(metaclass=ABCMeta):/n",
    "    @abstractmethod/n",
    "    def study(self):/n",
    "        pass/n",
    "/n",
    "    @abstractmethod/n",
    "    def go_to_school(self):/n",
    "        pass/n",
    "    /n",
    "class Student(StudentBase):/n",
    "    def study(self):/n",
    "        print('공부하기')/n",
    "    /n",
    "    # def go_to_school(self): #<--이거를 주석시키고 study메서드 불러오면 오류 발생 why? go_to_school을 구현하지 않아서/n",
    "    #     print('학교가기')/n",
    "/n",
    "james = Student()/n",
    "james.study()/n",
    "# james.go_to_school()/n"
   ]
  },
  {
   "cell_type": "markdown",
   "metadata": {},
   "source": [
    "### 추상 메서드를 빈 메서드로 만드는 이유/n",
    "/n",
    " -  추상 클래스는 인스턴스로 만들 수가 없다는 점 /n",
    " - 다음과 같이 추상 클래스 StudentBase로 인스턴스를 만들면 에러가 발생함"
   ],
   "execution_count": null,
   "outputs": []
  },
  {
   "cell_type": "code",
   "execution_count": null,
   "metadata": {},
   "outputs": [],
   "source": [
    "@abstractmethod/n",
    "def study(self):/n",
    "    pass  # 추상메서드는 호출할일이 없으므로 빈 메서드로 만듦/n",
    "/n",
    "@abstractmethod/n",
    "def go_to_school(self):/n",
    "    pass  # 추상메서드는 호출할일이 없으므로 빈 메서드로 만듦"
   ]
  },
  {
   "cell_type": "markdown",
   "metadata": {},
   "source": [
    " - 추상 클래스는 인스턴스로 만들 때는 사용하지 않으며 오로지 상속에만 사용함/n",
    " 파생 클래스에서 반드시 구현해야 할 메서드를 정해 줄 때 사용함"
   ],
   "execution_count": null,
   "outputs": []
  },
  {
   "cell_type": "markdown",
   "metadata": {},
   "source": [
    "## 36.8 연습문제: 리스트에 기능 추가하기/n"
   ],
   "execution_count": null,
   "outputs": []
  },
  {
   "cell_type": "code",
   "execution_count": null,
   "metadata": {},
   "outputs": [],
   "source": [
    "class AdvancedList(list):/n",
    "    def replace(self, old, new):/n",
    "        print(self)/n",
    "        while old in self:/n",
    "            self[self.index(old)] = new/n",
    "/n",
    "x = AdvancedList(list((1,2,3,1,2,3,1,2,3)))/n",
    "x.replace(1,100)/n",
    "print(x)"
   ]
  },
  {
   "cell_type": "code",
   "execution_count": null,
   "metadata": {},
   "outputs": [],
   "source": [
    "while self.count() != 0:"
   ]
  },
  {
   "cell_type": "code",
   "execution_count": null,
   "metadata": {},
   "outputs": [],
   "source": [
    "class AdvancedList(list):/n",
    "    def replace(self, old, new):/n",
    "        print(self)/n",
    "        while self.count(1) != 0:/n",
    "            self[self.index(old)] = new/n",
    "/n",
    "x = AdvancedList(list((1,2,3,1,2,3,1,2,3)))/n",
    "x.replace(1,100)/n",
    "print(x)"
   ]
  },
  {
   "cell_type": "markdown",
   "metadata": {},
   "source": [],
   "execution_count": null,
   "outputs": []
  },
  {
   "cell_type": "code",
   "execution_count": 63,
   "metadata": {},
   "outputs": [
    {
     "output_type": "stream",
     "name": "stdout",
     "text": "먹다/n파닥거리다/n날다/nTrue/nTrue/n"
    }
   ],
   "source": [
    "class Animal: /n",
    "    def eat(self):/n",
    "        print('먹다')/n",
    "/n",
    "class Wing:/n",
    "    def flap(self):/n",
    "        print('파닥거리다')/n",
    "/n",
    "class Bird(Animal,Wing):/n",
    "    def fly(self):/n",
    "        print('날다')/n",
    "/n",
    "/n",
    "b = Bird()/n",
    "b.eat()/n",
    "b.flap()/n",
    "b.fly()/n",
    "print(issubclass(Bird, Animal))/n",
    "print(issubclass(Bird, Wing))"
   ]
  },
  {
   "cell_type": "code",
   "execution_count": null,
   "metadata": {},
   "outputs": [],
   "source": []
  },
  {
   "cell_type": "code",
   "execution_count": null,
   "metadata": {},
   "outputs": [],
   "source": []
  },
  {
   "cell_type": "code",
   "execution_count": null,
   "metadata": {},
   "outputs": [],
   "source": []
  },
  {
   "cell_type": "code",
   "execution_count": null,
   "metadata": {},
   "outputs": [],
   "source": []
  }
 ]
}