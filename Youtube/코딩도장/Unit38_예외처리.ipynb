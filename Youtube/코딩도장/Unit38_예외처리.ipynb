{
 "nbformat": 4,
 "nbformat_minor": 2,
 "metadata": {
  "language_info": {
   "name": "python",
   "codemirror_mode": {
    "name": "ipython",
    "version": 3
   },
   "version": "3.8.1-final"
  },
  "orig_nbformat": 2,
  "file_extension": ".py",
  "mimetype": "text/x-python",
  "name": "python",
  "npconvert_exporter": "python",
  "pygments_lexer": "ipython3",
  "version": 3,
  "kernelspec": {
   "name": "python38164bitpytorchcondae2e836418e8f4945879c9669572061e2",
   "display_name": "Python 3.8.1 64-bit ('pytorch': conda)"
  }
 },
 "cells": [
  {
   "cell_type": "markdown",
   "metadata": {},
   "source": [
    "## 38 예외 처리 사용하기"
   ],
   "execution_count": null,
   "outputs": []
  },
  {
   "cell_type": "code",
   "execution_count": null,
   "metadata": {},
   "outputs": [],
   "source": [
    "def ten_div(x):/n",
    "    return 10/x/n",
    "ten_div(0)"
   ]
  },
  {
   "cell_type": "markdown",
   "metadata": {},
   "source": [
    "하지만 0을 넣으면 실행하는 중에 에러가 발생합니다. 이런 상황을 예외라고 하는데 여기서는 어떤 숫자를 0으로 나누어서 ZeroDivisionError 예외가 발생했습니다./n",
    "/n",
    "ZeroDivisionError뿐만 아니라 지금까지 만난 AttributeError, NameError, TypeError 등 다양한 에러들도 모두 예외입니다./n",
    "/n",
    "이번에는 예외가 발생했을 때도 스크립트 실행을 중단하지 않고 계속 실행하게 해주는 예외 처리 방법에 대해 알아보겠습니다."
   ]
  },
  {
   "cell_type": "code",
   "execution_count": 3,
   "metadata": {},
   "outputs": [
    {
     "output_type": "stream",
     "name": "stdout",
     "text": "예외가 발생했어요./n"
    }
   ],
   "source": [
    "try : /n",
    "    x = int(input('나눌 숫자를 입력하세요.'))/n",
    "    y = 10/x/n",
    "    print(y)/n",
    "except: #예외 발생시 실행됨/n",
    "    print('예외가 발생했어요.')"
   ]
  },
  {
   "cell_type": "markdown",
   "metadata": {},
   "source": [
    "## 38.1.1 특정 예외만 처리하기/n",
    "/n",
    "이번에는 except에 예외 이름을 지정해서 특정 예외가 발생했을 때만 처리 코드를 실행하도록 만들어보겠습니다."
   ]
  },
  {
   "cell_type": "code",
   "execution_count": null,
   "metadata": {},
   "outputs": [],
   "source": [
    "try:/n",
    "    실행할 코드/n",
    "except 예외이름:/n",
    "    예외가 발생했을 때 처리하는 코드"
   ]
  },
  {
   "cell_type": "markdown",
   "metadata": {},
   "source": [
    "다음과 같이 정수 두 개를 입력받아서 하나는 리스트의 인덱스로 사용하고, 하나는 나누는 값으로 사용합니다. 그리고 except를 두 개 사용하고 각각 ZeroDivisionError와 IndexError를 지정합니다."
   ]
  },
  {
   "cell_type": "code",
   "execution_count": 8,
   "metadata": {},
   "outputs": [
    {
     "output_type": "stream",
     "name": "stdout",
     "text": "숫자를 0으로 나눌 수 없습니다./n"
    }
   ],
   "source": [
    "y = [10,20,30]/n",
    "try: /n",
    "    index, x = map(int, input('인덱스와 나눌 숫자를 입력하세요: ').split())/n",
    "    print(y[index]/x)/n",
    "except ZeroDivisionError: /n",
    "    print('숫자를 0으로 나눌 수 없습니다.')/n",
    "except IndexError:/n",
    "    print('잘못된 인덱스입니다.')"
   ]
  },
  {
   "cell_type": "markdown",
   "metadata": {},
   "source": [
    "## 38.1.2  예외의 에러 메시지 받아오기"
   ]
  },
  {
   "cell_type": "markdown",
   "metadata": {},
   "source": [
    "특히 except에서 as 뒤에 변수를 지정하면 발생한 예외의 에러 메시지를 받아올 수 있습니다."
   ]
  },
  {
   "cell_type": "code",
   "execution_count": null,
   "metadata": {},
   "outputs": [],
   "source": [
    "try:/n",
    "    실행할 코드/n",
    "except 예외 as 변수:"
   ]
  },
  {
   "cell_type": "markdown",
   "metadata": {},
   "source": [
    "앞에서 만든 코드의 except에 as e를 넣습니다. 보통 예외( exception)의 e를 따서 변수 이름을 e로 짓습니다."
   ]
  },
  {
   "cell_type": "code",
   "execution_count": 11,
   "metadata": {},
   "outputs": [
    {
     "output_type": "stream",
     "name": "stdout",
     "text": "잘못된 인덱스. list index out of range/n"
    }
   ],
   "source": [
    "y = [10,20,30]/n",
    "/n",
    "try : /n",
    "    index, x = map(int, input().split())/n",
    "    print(y[index]/x)/n",
    "except ZeroDivisionError as e:/n",
    "    print ('숫자를 0으로 못나눠.',e)/n",
    "except IndexError as e:/n",
    "    print('잘못된 인덱스.',e)"
   ]
  },
  {
   "cell_type": "markdown",
   "metadata": {},
   "source": [
    "## 38.2 else와 finally 사용하기"
   ]
  },
  {
   "cell_type": "code",
   "execution_count": null,
   "metadata": {},
   "outputs": [],
   "source": [
    "try : /n",
    "    실행 코드 /n",
    "except : /n",
    "    예외가 발생했을때 처리하는 코드 /n",
    "else : /n",
    "    예외가 발생하지 않았을때 실행할 코드"
   ]
  },
  {
   "cell_type": "code",
   "execution_count": 14,
   "metadata": {},
   "outputs": [
    {
     "output_type": "stream",
     "name": "stdout",
     "text": "5.0/n"
    }
   ],
   "source": [
    "try : /n",
    "    x = int(input())/n",
    "    y = 10/x/n",
    "except ZeroDivisionError: /n",
    "    print('숫자를 0으로 나눌수 없습니다.')/n",
    "else: /n",
    "    print(y)"
   ]
  },
  {
   "cell_type": "markdown",
   "metadata": {},
   "source": [
    "## 예외와는 상관없이 항상 코드 실행하기 /n"
   ]
  },
  {
   "cell_type": "markdown",
   "metadata": {},
   "source": [
    "finally는 except와 else를 생략할 수 있음/n"
   ]
  },
  {
   "cell_type": "code",
   "execution_count": null,
   "metadata": {},
   "outputs": [],
   "source": [
    "try : /n",
    "    실행 코드 /n",
    "except : /n",
    "    예외가 발생했을때 처리하는 코드 /n",
    "else : /n",
    "    예외가 발생하지 않았을때 실행할 코드/n",
    "finally:/n",
    "    예외 발생 여부와 상관없이 항상 실행할 코드"
   ]
  },
  {
   "cell_type": "code",
   "execution_count": 16,
   "metadata": {},
   "outputs": [
    {
     "output_type": "stream",
     "name": "stdout",
     "text": "1.0/n코드 실행을 종료했습니다./n"
    }
   ],
   "source": [
    "try : /n",
    "    x = int(input())/n",
    "    y = 10/x/n",
    "except ZeroDivisionError: /n",
    "    print('숫자를 0으로 나눌수 없습니다.')/n",
    "else: /n",
    "    print(y)/n",
    "finally: /n",
    "    print('코드 실행을 종료했습니다.')"
   ]
  },
  {
   "cell_type": "markdown",
   "metadata": {},
   "source": [
    "## 38.3 예외 발생시키기/n",
    "> raise 예외('에러메시지')"
   ]
  },
  {
   "cell_type": "code",
   "execution_count": 25,
   "metadata": {},
   "outputs": [
    {
     "output_type": "stream",
     "name": "stdout",
     "text": "예외가 발생했습니다. invalid literal for int() with base 10: ''/n"
    }
   ],
   "source": [
    "try: /n",
    "    x = int(input())/n",
    "    if x % 3 != 0:/n",
    "        raise Exception('3의 배수가 아닙니다.')/n",
    "    print(x)/n",
    "/n",
    "except Exception as e: /n",
    "    print('예외가 발생했습니다.', e)"
   ]
  },
  {
   "cell_type": "markdown",
   "metadata": {},
   "source": [
    "> Raise의 처리과정/n",
    " - 다음은 함수 안에서 raise를 사용하지만 함수 안에는 try except가 없는 상태임 "
   ]
  },
  {
   "cell_type": "code",
   "execution_count": 27,
   "metadata": {},
   "outputs": [
    {
     "output_type": "stream",
     "name": "stdout",
     "text": "예외가 발생했습니다. 3의 배수가 아닙니다./n"
    }
   ],
   "source": [
    "def three_multiple():/n",
    "    x = int(input('3의 배수를 입력하세요: '))/n",
    "    if x % 3 != 0:/n",
    "        raise Exception('3의 배수가 아닙니다.') /n",
    "    print(x)/n",
    "/n",
    "try: /n",
    "    three_multiple()/n",
    "except Exception as e: /n",
    "    print('예외가 발생했습니다.',e)"
   ]
  },
  {
   "cell_type": "markdown",
   "metadata": {},
   "source": [
    "### 현재 예외를 다시 발생 시키기/n",
    " - except 안에서 raise를 사용하면 현재 예외를 다시 발생시킴(re-raise)/n",
    "/n",
    "> raise/n",
    "/n",
    " - 다음은 three_multiple 코드 블록의 예외를 다시 발생시킨 뒤 상위 코드 블록에서 예외를 처리함"
   ]
  },
  {
   "cell_type": "code",
   "execution_count": null,
   "metadata": {},
   "outputs": [],
   "source": []
  },
  {
   "cell_type": "code",
   "execution_count": null,
   "metadata": {},
   "outputs": [],
   "source": []
  },
  {
   "cell_type": "code",
   "execution_count": null,
   "metadata": {},
   "outputs": [],
   "source": []
  },
  {
   "cell_type": "code",
   "execution_count": null,
   "metadata": {},
   "outputs": [],
   "source": []
  },
  {
   "cell_type": "code",
   "execution_count": null,
   "metadata": {},
   "outputs": [],
   "source": []
  },
  {
   "cell_type": "code",
   "execution_count": null,
   "metadata": {},
   "outputs": [],
   "source": []
  },
  {
   "cell_type": "code",
   "execution_count": null,
   "metadata": {},
   "outputs": [],
   "source": []
  },
  {
   "cell_type": "code",
   "execution_count": null,
   "metadata": {},
   "outputs": [],
   "source": []
  },
  {
   "cell_type": "code",
   "execution_count": null,
   "metadata": {},
   "outputs": [],
   "source": []
  },
  {
   "cell_type": "code",
   "execution_count": null,
   "metadata": {},
   "outputs": [],
   "source": []
  },
  {
   "cell_type": "code",
   "execution_count": null,
   "metadata": {},
   "outputs": [],
   "source": []
  },
  {
   "cell_type": "code",
   "execution_count": null,
   "metadata": {},
   "outputs": [],
   "source": []
  },
  {
   "cell_type": "code",
   "execution_count": null,
   "metadata": {},
   "outputs": [],
   "source": []
  },
  {
   "cell_type": "code",
   "execution_count": null,
   "metadata": {},
   "outputs": [],
   "source": []
  },
  {
   "cell_type": "code",
   "execution_count": null,
   "metadata": {},
   "outputs": [],
   "source": []
  },
  {
   "cell_type": "code",
   "execution_count": null,
   "metadata": {},
   "outputs": [],
   "source": []
  },
  {
   "cell_type": "code",
   "execution_count": null,
   "metadata": {},
   "outputs": [],
   "source": []
  },
  {
   "cell_type": "code",
   "execution_count": null,
   "metadata": {},
   "outputs": [],
   "source": []
  }
 ]
}