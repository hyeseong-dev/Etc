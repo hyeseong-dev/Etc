{
 "nbformat": 4,
 "nbformat_minor": 2,
 "metadata": {
  "language_info": {
   "name": "python",
   "codemirror_mode": {
    "name": "ipython",
    "version": 3
   },
   "version": "3.8.1-final"
  },
  "orig_nbformat": 2,
  "file_extension": ".py",
  "mimetype": "text/x-python",
  "name": "python",
  "npconvert_exporter": "python",
  "pygments_lexer": "ipython3",
  "version": 3,
  "kernelspec": {
   "name": "python38164bitpytorchcondae2e836418e8f4945879c9669572061e2",
   "display_name": "Python 3.8.1 64-bit ('pytorch': conda)"
  }
 },
 "cells": [
  {
   "cell_type": "markdown",
   "metadata": {},
   "source": [
    "# Unit 32.람다 표현식 사용하기/n",
    "/n",
    " - 표현식이 간단함. /n",
    " - 다른 함수의 인수로 많이 사용됨."
   ]
  },
  {
   "cell_type": "code",
   "execution_count": 2,
   "metadata": {},
   "outputs": [
    {
     "output_type": "execute_result",
     "data": {
      "text/plain": "11"
     },
     "metadata": {},
     "execution_count": 2
    }
   ],
   "source": [
    "# 일반 함수/n",
    "def plus_ten(x):/n",
    "    return x+10/n",
    "plus_ten(1)"
   ]
  },
  {
   "cell_type": "code",
   "execution_count": 4,
   "metadata": {},
   "outputs": [
    {
     "output_type": "execute_result",
     "data": {
      "text/plain": "11"
     },
     "metadata": {},
     "execution_count": 4
    }
   ],
   "source": [
    "# 위의 코드를 람다식으로 작성해보자/n",
    "a = lambda x: x+ 10 # 호출하기 위해선 변수에 저장해거나 괄호로 묶어준다.야함. /n",
    "a(1) # 변수명을 적고 ()를 적고 그 안에 인자값을 부여함."
   ]
  },
  {
   "cell_type": "code",
   "execution_count": 8,
   "metadata": {},
   "outputs": [
    {
     "output_type": "execute_result",
     "data": {
      "text/plain": "11"
     },
     "metadata": {},
     "execution_count": 8
    }
   ],
   "source": [
    "(lambda x: x+ 10)(1) # 가장 우측에 있는 괄호는 인수/n",
    "# 좌측에 있는 함수는 맨 왼쪽의 x는 인자값이고, 이후 선언부가 된다."
   ]
  },
  {
   "cell_type": "code",
   "execution_count": 14,
   "metadata": {},
   "outputs": [
    {
     "output_type": "error",
     "ename": "SyntaxError",
     "evalue": "invalid syntax (<ipython-input-14-f7c64478e024>, line 2)",
     "traceback": [
      "/u001b[1;36m  File /u001b[1;32m/"<ipython-input-14-f7c64478e024>/"/u001b[1;36m, line /u001b[1;32m2/u001b[0m/n/u001b[1;33m    (lambda x,:y=10; x+y)(1)/u001b[0m/n/u001b[1;37m                ^/u001b[0m/n/u001b[1;31mSyntaxError/u001b[0m/u001b[1;31m:/u001b[0m invalid syntax/n"
     ]
    }
   ],
   "source": [
    "# 32.1.2 람다 표현식 안에서는 변수를 만들 수 없다./n",
    "(lambda x,:y=10; x+y)(1)"
   ]
  },
  {
   "cell_type": "code",
   "execution_count": 15,
   "metadata": {},
   "outputs": [
    {
     "output_type": "execute_result",
     "data": {
      "text/plain": "11"
     },
     "metadata": {},
     "execution_count": 15
    }
   ],
   "source": [
    "y = 10              # 전역변수/n",
    "(lambda x: x+y)(1)  # 전역변수를 받아서 람다에서 처리함"
   ]
  },
  {
   "cell_type": "markdown",
   "metadata": {},
   "source": [
    "### 32.1.3 람다 표현식을 인수로 사용/n",
    "/n",
    "1. 인수 부분에서 간단한 함수 만들기가 가능 /n",
    "예. map/n"
   ]
  },
  {
   "cell_type": "code",
   "execution_count": 16,
   "metadata": {},
   "outputs": [
    {
     "output_type": "execute_result",
     "data": {
      "text/plain": "[11, 12, 13]"
     },
     "metadata": {},
     "execution_count": 16
    }
   ],
   "source": [
    "def plus_ten(x):/n",
    "    return x + 10/n",
    "/n",
    "list(map(plus_ten,[1,2,3]))"
   ]
  },
  {
   "cell_type": "code",
   "execution_count": 20,
   "metadata": {},
   "outputs": [
    {
     "output_type": "execute_result",
     "data": {
      "text/plain": "[11, 12, 13, 14]"
     },
     "metadata": {},
     "execution_count": 20
    }
   ],
   "source": [
    "#위의 소스코드를 람다로 만들어 봅시다. /n",
    "list(map(lambda x: x+10, {1,2,3,4})) # 우측의 시퀀스는 뭐든지 가능"
   ]
  },
  {
   "cell_type": "markdown",
   "metadata": {},
   "source": [
    "### 람다 표현식으로 매개 변수가 없는 함수 만들기 "
   ]
  },
  {
   "cell_type": "code",
   "execution_count": 21,
   "metadata": {},
   "outputs": [
    {
     "output_type": "execute_result",
     "data": {
      "text/plain": "1"
     },
     "metadata": {},
     "execution_count": 21
    }
   ],
   "source": [
    "(lambda : 1)()"
   ]
  },
  {
   "cell_type": "code",
   "execution_count": 22,
   "metadata": {},
   "outputs": [
    {
     "output_type": "execute_result",
     "data": {
      "text/plain": "10"
     },
     "metadata": {},
     "execution_count": 22
    }
   ],
   "source": [
    "x = 10/n",
    "(lambda : x)()"
   ]
  },
  {
   "cell_type": "markdown",
   "metadata": {},
   "source": [
    "### 32.2 람다 표현식과 map,filter, reduce 함수 활용/n"
   ]
  },
  {
   "cell_type": "markdown",
   "metadata": {},
   "source": [
    "### 32.2.1 조건부 표현식 사용/n",
    "lambda 매개변수들 : 식1 if 조건식 else 식2"
   ]
  },
  {
   "cell_type": "code",
   "execution_count": 23,
   "metadata": {},
   "outputs": [
    {
     "output_type": "execute_result",
     "data": {
      "text/plain": "[1, 2, '3', 4, 5, '6', 7, 8, '9', 10]"
     },
     "metadata": {},
     "execution_count": 23
    }
   ],
   "source": [
    "a = range(1,11)/n",
    "list(map(lambda x: str(x) if x%3 == 0 else x,a))"
   ]
  },
  {
   "cell_type": "code",
   "execution_count": 24,
   "metadata": {},
   "outputs": [
    {
     "output_type": "error",
     "ename": "SyntaxError",
     "evalue": "invalid syntax (<ipython-input-24-0bab7954e658>, line 1)",
     "traceback": [
      "/u001b[1;36m  File /u001b[1;32m/"<ipython-input-24-0bab7954e658>/"/u001b[1;36m, line /u001b[1;32m1/u001b[0m/n/u001b[1;33m    list(map(lambda x: str(x) if x%3 ==0,a))/u001b[0m/n/u001b[1;37m                                        ^/u001b[0m/n/u001b[1;31mSyntaxError/u001b[0m/u001b[1;31m:/u001b[0m invalid syntax/n"
     ]
    }
   ],
   "source": [
    "list(map(lambda x: str(x) if x%3 ==0,a)) /n",
    "# if조건문만 사용하면 오류가남! 반드시 else도 작성하자."
   ]
  },
  {
   "cell_type": "markdown",
   "metadata": {},
   "source": [
    "### elif를 사용 할수 없음/n",
    "### 식1 if 조건식1 else 식2 if 조건식2 else 식3 형식처럼 if를 연속 사용. /n"
   ]
  },
  {
   "cell_type": "code",
   "execution_count": 27,
   "metadata": {},
   "outputs": [
    {
     "output_type": "execute_result",
     "data": {
      "text/plain": "['1', 2.0, 13, 14, 15, 16, 17, 18, 19, 20]"
     },
     "metadata": {},
     "execution_count": 27
    }
   ],
   "source": [
    "a = range(1,11)/n",
    "list(map(lambda x: str(x) if x ==1 else float(x) if x == 2 else x+10, a))"
   ]
  },
  {
   "cell_type": "code",
   "execution_count": 29,
   "metadata": {},
   "outputs": [
    {
     "output_type": "execute_result",
     "data": {
      "text/plain": "['1', 2.0, 13, 14, 15, 16, 17, 18, 19, 20]"
     },
     "metadata": {},
     "execution_count": 29
    }
   ],
   "source": [
    "# 위코드는 아래와 같이 작성하면 보기 편하다. /n",
    "def f(x):/n",
    "    if x == 1: /n",
    "        return str(x)/n",
    "    elif x == 2:/n",
    "        return float(x)/n",
    "    else: /n",
    "        return x+10/n",
    "/n",
    "a = range(1,11)/n",
    "list(map(f,a))"
   ]
  },
  {
   "cell_type": "markdown",
   "metadata": {},
   "source": [
    "## 32.2.2 map에 객체를 여러 개 넣기/n",
    "람다식의 x,y의 매개변수 2개가 가능한건 a,b 인자값이 두개이기 때문 "
   ]
  },
  {
   "cell_type": "code",
   "execution_count": 36,
   "metadata": {},
   "outputs": [
    {
     "output_type": "stream",
     "name": "stdout",
     "text": "[2, 8, 18, 32, 50]/n"
    }
   ],
   "source": [
    "a = list(range(1,6))                    # 1부터 5까지/n",
    "b = [i for i in range(1,11) if i%2==0 ] # 2의배수만/n",
    "/n",
    "c = list(map(lambda x,y: x*y, a, b))/n",
    "print(c)"
   ]
  },
  {
   "cell_type": "markdown",
   "metadata": {},
   "source": [
    "## 32.2.3 filter 사용/n",
    "/n",
    "/n",
    "이번에는 filter를 사용해보겠습니다. filter는 반복/n",
    "    가능한 객체에서 특정 조건에 맞는 요소만 가져오는데,/n",
    "         filter에 지정한 함수의 반환값이 True일 때만/n",
    "          해당 요소를     가져옵니다.    /n",
    "/n",
    "/n",
    "> filter(함수, 반복가능한객체)    /n",
    "/n",
    "먼저 def로 함수를 만들어서 filter를 사용해보겠습니다.   /n",
    " 다음은 리스트에서 5보다 크면서 10보다 작은 숫자를  /n",
    " 가져옵니다. /n"
   ]
  },
  {
   "cell_type": "code",
   "execution_count": 102,
   "metadata": {},
   "outputs": [
    {
     "output_type": "stream",
     "name": "stdout",
     "text": "[9, 7, 8, 3, 2, 1, 4, 4, 2, 7]/n[True, True, True, False, False, False, False, False, False, True]/n[9, 7, 8, 7]/n"
    }
   ],
   "source": [
    "from random import randint/n",
    "def f(x):/n",
    "    return x>5 and x<10/n",
    "/n",
    "a = [randint(1,10) for _ in range(0,10)]/n",
    "print(a)/n",
    "print( list(map(f,a)) ) #map의 경우는 모든 요소의 True,False를 다 보여준다./n",
    "print( list(filter(f,a)) ) # filter는 참인값의 요소만!!보여준다. 값을 보여줌. True를 보여주는게 아님."
   ]
  },
  {
   "cell_type": "code",
   "execution_count": 103,
   "metadata": {},
   "outputs": [
    {
     "output_type": "execute_result",
     "data": {
      "text/plain": "[8, 7, 6, 9]"
     },
     "metadata": {},
     "execution_count": 103
    }
   ],
   "source": [
    "list(filter(lambda x: x>5 and x<10, [randint(1,10) for _ in range(0,10)] ))"
   ]
  },
  {
   "cell_type": "markdown",
   "metadata": {},
   "source": [
    "## 32.2.4 reduce 사용하기/n",
    "/n",
    " reduce는 반복 가능한 객체의 각 요소를 지정된 함수로 /n",
    " 처리한 뒤 이전 결과와 누적해서 반환하는 함수입니다/n",
    " (reduce는 파이썬 3부터 내장 함수가 아닙니다. 따라서/n",
    "  functools 모듈에서 reduce 함수를 가져와야 합니다)/n",
    "  /n",
    "> from functools import reduce/n",
    "> reduce(함수, 반복가능한객체)/n",
    "/n",
    "다음은 리스트에 저장된 요소를 순서대로 더한 뒤 누적된 /n",
    "결과를 반환합니다./n"
   ]
  },
  {
   "cell_type": "code",
   "execution_count": 105,
   "metadata": {},
   "outputs": [
    {
     "output_type": "execute_result",
     "data": {
      "text/plain": "15"
     },
     "metadata": {},
     "execution_count": 105
    }
   ],
   "source": [
    "from functools import reduce /n",
    "/n",
    "def f(x,y):/n",
    "    return x + y/n",
    "/n",
    "a = range(1,6)/n",
    "reduce(f,a)"
   ]
  },
  {
   "cell_type": "markdown",
   "metadata": {},
   "source": [
    "### 위의 소스코드를 람다로 만들어 봅시다."
   ]
  },
  {
   "cell_type": "code",
   "execution_count": 106,
   "metadata": {},
   "outputs": [
    {
     "output_type": "execute_result",
     "data": {
      "text/plain": "15"
     },
     "metadata": {},
     "execution_count": 106
    }
   ],
   "source": [
    "reduce(lambda x,y: x + y, range(1,6))"
   ]
  },
  {
   "cell_type": "markdown",
   "metadata": {},
   "source": [
    "## map,filter,reduce와 리스트 표현식/n",
    "/n",
    "리스트(딕셔너리, 세트) 표현식으로 처리할 수 있는 /n",
    "경우에는 map, filter와 람다 표현식 대신 리스트 표현식을 /n",
    "사용하는 것이 좋습니다. list(filter(lambda x: x > 5 /n",
    "and x < 10, a))는 다음과 같이 리스트 표현식으로도 만들 /n",
    "수 있습니다./n"
   ]
  },
  {
   "cell_type": "code",
   "execution_count": 109,
   "metadata": {},
   "outputs": [
    {
     "output_type": "execute_result",
     "data": {
      "text/plain": "[8, 6, 7, 9, 9]"
     },
     "metadata": {},
     "execution_count": 109
    }
   ],
   "source": [
    "from random import randint/n",
    "/n",
    "a = [randint(1,16) for _ in range(10)]/n",
    "[ i  for i in a if i>5 and i<10]"
   ]
  },
  {
   "cell_type": "markdown",
   "metadata": {},
   "source": [
    "리스트 표현식이 좀 더 알아보기 쉽고 속도도 더 빠릅니다./n",
    "/n",
    "또한, for, while 반복문으로 처리할 수 있는 경우에도/n",
    " reduce 대신 for, while을 사용하는 것이 좋습니다. /n",
    " 왜냐하면 reduce는 코드가 조금만 복잡해져도 의미하는 /n",
    " 바를 한 눈에 알아보기가 힘들기 때문입니다. 이러한 /n",
    " 이유로 파이썬 3부터는 reduce가 내장 함수에서 /n",
    " 제외되었습니다./n",
    "/n",
    "reduce(lambda x, y: x + y, a)는 다음과 같이 for /n",
    "반복문으로 표현할 수 있습니다./n"
   ]
  },
  {
   "cell_type": "code",
   "execution_count": 117,
   "metadata": {},
   "outputs": [
    {
     "output_type": "stream",
     "name": "stdout",
     "text": "15/n"
    }
   ],
   "source": [
    "a = range(1,6)/n",
    "x = a[0]/n",
    "/n",
    "for i in range(len(a)-1):/n",
    "    x = x +a[i + 1]/n",
    "print(x)"
   ]
  },
  {
   "cell_type": "code",
   "execution_count": 119,
   "metadata": {},
   "outputs": [
    {
     "output_type": "execute_result",
     "data": {
      "text/plain": "['1.png', '10.jpg', '2.jpg', '3.png']"
     },
     "metadata": {},
     "execution_count": 119
    }
   ],
   "source": [
    "files = ['font', '1.png', '10.jpg', '11.gif', '2.jpg', '3.png', 'table.xslx', 'spec.docx']/n",
    "/n",
    "list(filter(lambda x : x.find('.jpg') != -1 or x.find('.png') !=-1,files))"
   ]
  },
  {
   "cell_type": "code",
   "execution_count": null,
   "metadata": {},
   "outputs": [],
   "source": []
  },
  {
   "cell_type": "code",
   "execution_count": null,
   "metadata": {},
   "outputs": [],
   "source": []
  },
  {
   "cell_type": "code",
   "execution_count": null,
   "metadata": {},
   "outputs": [],
   "source": []
  },
  {
   "cell_type": "code",
   "execution_count": null,
   "metadata": {},
   "outputs": [],
   "source": []
  },
  {
   "cell_type": "code",
   "execution_count": null,
   "metadata": {},
   "outputs": [],
   "source": []
  },
  {
   "cell_type": "code",
   "execution_count": null,
   "metadata": {},
   "outputs": [],
   "source": []
  },
  {
   "cell_type": "code",
   "execution_count": null,
   "metadata": {},
   "outputs": [],
   "source": []
  },
  {
   "cell_type": "code",
   "execution_count": null,
   "metadata": {},
   "outputs": [],
   "source": []
  },
  {
   "cell_type": "code",
   "execution_count": null,
   "metadata": {},
   "outputs": [],
   "source": []
  },
  {
   "cell_type": "code",
   "execution_count": null,
   "metadata": {},
   "outputs": [],
   "source": []
  },
  {
   "cell_type": "code",
   "execution_count": null,
   "metadata": {},
   "outputs": [],
   "source": []
  },
  {
   "cell_type": "code",
   "execution_count": null,
   "metadata": {},
   "outputs": [],
   "source": []
  },
  {
   "cell_type": "code",
   "execution_count": null,
   "metadata": {},
   "outputs": [],
   "source": []
  },
  {
   "cell_type": "code",
   "execution_count": null,
   "metadata": {},
   "outputs": [],
   "source": []
  },
  {
   "cell_type": "code",
   "execution_count": null,
   "metadata": {},
   "outputs": [],
   "source": []
  },
  {
   "cell_type": "code",
   "execution_count": null,
   "metadata": {},
   "outputs": [],
   "source": []
  },
  {
   "cell_type": "code",
   "execution_count": null,
   "metadata": {},
   "outputs": [],
   "source": []
  },
  {
   "cell_type": "code",
   "execution_count": null,
   "metadata": {},
   "outputs": [],
   "source": []
  },
  {
   "cell_type": "code",
   "execution_count": null,
   "metadata": {},
   "outputs": [],
   "source": []
  },
  {
   "cell_type": "code",
   "execution_count": null,
   "metadata": {},
   "outputs": [],
   "source": []
  },
  {
   "cell_type": "code",
   "execution_count": null,
   "metadata": {},
   "outputs": [],
   "source": []
  },
  {
   "cell_type": "code",
   "execution_count": null,
   "metadata": {},
   "outputs": [],
   "source": []
  },
  {
   "cell_type": "code",
   "execution_count": null,
   "metadata": {},
   "outputs": [],
   "source": []
  }
 ]
}