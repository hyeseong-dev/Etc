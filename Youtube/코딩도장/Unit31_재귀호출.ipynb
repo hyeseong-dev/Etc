{
 "nbformat": 4,
 "nbformat_minor": 2,
 "metadata": {
  "language_info": {
   "name": "python",
   "codemirror_mode": {
    "name": "ipython",
    "version": 3
   },
   "version": "3.8.1-final"
  },
  "orig_nbformat": 2,
  "file_extension": ".py",
  "mimetype": "text/x-python",
  "name": "python",
  "npconvert_exporter": "python",
  "pygments_lexer": "ipython3",
  "version": 3,
  "kernelspec": {
   "name": "python38164bitpytorchcondae2e836418e8f4945879c9669572061e2",
   "display_name": "Python 3.8.1 64-bit ('pytorch': conda)"
  }
 },
 "cells": [
  {
   "cell_type": "markdown",
   "metadata": {},
   "source": [
    "# 31 함수에서 재귀호출 사용하기\n",
    "\n",
    "함수 안에서 함수 자기자신을 호출하는 방식을 재귀호출\n",
    "  (recursive call)이라고 합니다. 재귀호출은 일반적인\n",
    "   상황에서는 잘 사용하지 않지만 알고리즘을 구현할 때\n",
    "    매우 유용합니다(구현은 만들다와 같은 뜻입니다). 보통\n",
    "     알고리즘에 따라서 반복문으로 구현한 코드보다\n",
    "      재귀호출로 구현한 코드가 좀 더 직관적이고 이해하기\n",
    "       쉬운 경우가 많습니다.\n",
    "\n",
    "       이번에는 재귀호출을 사용하는 방법과 주의점을 \n",
    "       알아보겠습니다. 참고로 재귀호출은 코드가 간단한\n",
    "        편이지만 머릿속으로 생각을 많이 해야 됩니다. \n",
    "        그래서 초보자들은 한 번에 이해가 되지 않을 수도\n",
    "         있습니다."
   ],
   "execution_count": null,
   "outputs": []
  },
  {
   "cell_type": "markdown",
   "metadata": {},
   "source": [],
   "execution_count": null,
   "outputs": []
  },
  {
   "cell_type": "markdown",
   "metadata": {},
   "source": [
    "## 31.1 재귀호출 사용하기"
   ],
   "execution_count": null,
   "outputs": []
  },
  {
   "cell_type": "code",
   "execution_count": null,
   "metadata": {
    "tags": [
     "outputPrepend",
     "outputPrepend"
    ]
   },
   "outputs": [],
   "source": [
    "def hello():\n",
    "    print('hello world!')\n",
    "    hello()\n",
    "    \n",
    "hello()()"
   ]
  },
  {
   "cell_type": "markdown",
   "metadata": {},
   "source": [
    "hello 함수 안에서 다시 hello 함수를 호출하고 있습니다.\n",
    "\n",
    "소스 코드를 실행해보면 'Hello, world!' 문자열이 계속 출력되다가 에러가 발생합니다. 왜냐하면 파이썬에서는 최대 재귀 깊이(maximum recursion depth)가 1,000으로 정해져 있어서 그렇습니다. 즉, hello 함수가 자기자신을 계속 호출하다가 최대 재귀 깊이를 초과하면 RecursionError가 발생합니다.\n",
    "\n",
    "재귀호출을 그림으로 나타내면 다음과 같은 모양이 됩니다."
   ]
  },
  {
   "cell_type": "markdown",
   "metadata": {},
   "source": [
    "## 31.1.1 재귀호출에 종료 조건 만들기"
   ]
  },
  {
   "cell_type": "code",
   "execution_count": 2,
   "metadata": {},
   "outputs": [
    {
     "output_type": "stream",
     "name": "stdout",
     "text": "hello world! 5\nhello world! 4\nhello world! 3\nhello world! 2\nhello world! 1\n"
    }
   ],
   "source": [
    "def hello(count):\n",
    "    if count == 0: # 종료 조건을 만듦. count가 0이면 다시 hello 함수를 호출하지 않고 끝냄\n",
    "        return \n",
    "    print('hello world!',count)\n",
    "\n",
    "    count -= 1      # count를 1감소시킨 뒤\n",
    "    hello(count)    # 다시 hello에 넣음\n",
    "\n",
    "hello(5)"
   ]
  },
  {
   "cell_type": "code",
   "execution_count": null,
   "metadata": {},
   "outputs": [],
   "source": []
  },
  {
   "cell_type": "code",
   "execution_count": null,
   "metadata": {},
   "outputs": [],
   "source": []
  },
  {
   "cell_type": "markdown",
   "metadata": {},
   "source": [
    "## 31.2 재귀호출로 팩토리얼 구현하기\n"
   ]
  },
  {
   "cell_type": "code",
   "execution_count": 3,
   "metadata": {},
   "outputs": [
    {
     "output_type": "stream",
     "name": "stdout",
     "text": "120\n"
    }
   ],
   "source": [
    "def factorial(n):\n",
    "    if n == 1:    # n이 1일때\n",
    "        return 1 # 1을 반환하고 재귀호출을 끝냄\n",
    "    return n*factorial(n-1) # n과 factorial함수에 n-1을 넣어서 반환된 값을 곱함\n",
    "\n",
    "print(factorial(5))"
   ]
  },
  {
   "cell_type": "markdown",
   "metadata": {},
   "source": [
    "연습문제 회문 판독 방법(재귀함수 사용)"
   ]
  },
  {
   "cell_type": "code",
   "execution_count": 14,
   "metadata": {},
   "outputs": [
    {
     "output_type": "stream",
     "name": "stdout",
     "text": "False\nTrue\n"
    }
   ],
   "source": [
    "def is_palindrome(word):\n",
    "    if len(word) < 2:\n",
    "        return True\n",
    "    if word[0] != word[-1]:\n",
    "        return False\n",
    "    return is_palindrome(word[1:-1])                       \n",
    " \n",
    "print(is_palindrome('ab'))\n",
    "print(is_palindrome('level'))"
   ]
  },
  {
   "cell_type": "code",
   "execution_count": 11,
   "metadata": {},
   "outputs": [
    {
     "output_type": "stream",
     "name": "stdout",
     "text": "1\n"
    }
   ],
   "source": [
    "print(1)"
   ]
  },
  {
   "cell_type": "code",
   "execution_count": null,
   "metadata": {},
   "outputs": [],
   "source": []
  },
  {
   "cell_type": "code",
   "execution_count": null,
   "metadata": {},
   "outputs": [],
   "source": []
  },
  {
   "cell_type": "code",
   "execution_count": null,
   "metadata": {},
   "outputs": [],
   "source": []
  },
  {
   "cell_type": "code",
   "execution_count": null,
   "metadata": {},
   "outputs": [],
   "source": []
  },
  {
   "cell_type": "code",
   "execution_count": null,
   "metadata": {},
   "outputs": [],
   "source": []
  },
  {
   "cell_type": "code",
   "execution_count": null,
   "metadata": {},
   "outputs": [],
   "source": []
  },
  {
   "cell_type": "code",
   "execution_count": null,
   "metadata": {},
   "outputs": [],
   "source": []
  },
  {
   "cell_type": "code",
   "execution_count": null,
   "metadata": {},
   "outputs": [],
   "source": [
    "ㅠ"
   ]
  },
  {
   "cell_type": "code",
   "execution_count": null,
   "metadata": {},
   "outputs": [],
   "source": []
  },
  {
   "cell_type": "code",
   "execution_count": null,
   "metadata": {},
   "outputs": [],
   "source": []
  },
  {
   "cell_type": "code",
   "execution_count": null,
   "metadata": {},
   "outputs": [],
   "source": []
  },
  {
   "cell_type": "code",
   "execution_count": null,
   "metadata": {},
   "outputs": [],
   "source": []
  },
  {
   "cell_type": "code",
   "execution_count": null,
   "metadata": {},
   "outputs": [],
   "source": []
  },
  {
   "cell_type": "code",
   "execution_count": null,
   "metadata": {},
   "outputs": [],
   "source": []
  },
  {
   "cell_type": "code",
   "execution_count": null,
   "metadata": {},
   "outputs": [],
   "source": []
  },
  {
   "cell_type": "code",
   "execution_count": null,
   "metadata": {},
   "outputs": [],
   "source": []
  },
  {
   "cell_type": "code",
   "execution_count": null,
   "metadata": {},
   "outputs": [],
   "source": []
  }
 ]
}