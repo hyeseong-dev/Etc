{
 "nbformat": 4,
 "nbformat_minor": 2,
 "metadata": {
  "language_info": {
   "name": "python",
   "codemirror_mode": {
    "name": "ipython",
    "version": 3
   },
   "version": "3.8.1-final"
  },
  "orig_nbformat": 2,
  "file_extension": ".py",
  "mimetype": "text/x-python",
  "name": "python",
  "npconvert_exporter": "python",
  "pygments_lexer": "ipython3",
  "version": 3,
  "kernelspec": {
   "name": "python38164bitpytorchcondae2e836418e8f4945879c9669572061e2",
   "display_name": "Python 3.8.1 64-bit ('pytorch': conda)"
  }
 },
 "cells": [
  {
   "cell_type": "code",
   "execution_count": 28,
   "metadata": {},
   "outputs": [
    {
     "output_type": "error",
     "ename": "SyntaxError",
     "evalue": "can't use starred expression here (<ipython-input-28-0d7b7e0d7434>, line 3)",
     "traceback": [
      "/u001b[1;36m  File /u001b[1;32m/"<ipython-input-28-0d7b7e0d7434>/"/u001b[1;36m, line /u001b[1;32m3/u001b[0m/n/u001b[1;33m    a = *x/u001b[0m/n/u001b[1;37m        ^/u001b[0m/n/u001b[1;31mSyntaxError/u001b[0m/u001b[1;31m:/u001b[0m can't use starred expression here/n"
     ]
    }
   ],
   "source": [
    "# 전역변수와 지역변수가 명확히 구분되어 함수안의 x와 함수 밖의 x가 별개다라는걸 인식해야함/n",
    "x = 10/n",
    "/n",
    "def foo():/n",
    "    x = 20/n",
    "    return x/n",
    "/n",
    "print(id(foo()))/n",
    "print(id(x))"
   ]
  },
  {
   "cell_type": "code",
   "execution_count": 22,
   "metadata": {},
   "outputs": [
    {
     "output_type": "stream",
     "name": "stdout",
     "text": "140710430382448/n140710430382448/n"
    }
   ],
   "source": [
    "x = 10/n",
    "/n",
    "def foo():/n",
    "    global x/n",
    "    x = 20/n",
    "    return x/n",
    "/n",
    "print(id(foo()))/n",
    "print(id(x))"
   ]
  },
  {
   "cell_type": "markdown",
   "metadata": {},
   "source": [
    "33.2 함수 안에서 함수 만들기"
   ]
  },
  {
   "cell_type": "code",
   "execution_count": 33,
   "metadata": {},
   "outputs": [
    {
     "output_type": "stream",
     "name": "stdout",
     "text": "hello world!/n"
    }
   ],
   "source": [
    "def print_hello():/n",
    "    hello = 'hello world!'/n",
    "    def print_message():/n",
    "        print(hello)/n",
    "    print_message()/n",
    "/n",
    "print_hello()"
   ]
  },
  {
   "cell_type": "markdown",
   "metadata": {},
   "source": [
    "### 지역 변수의 범위 /n",
    "/n",
    "안쪽 함수 print_message에서는 바깥쪽 함수 print_hello의 지역 변수 hello를 사용할 수 있음/n"
   ]
  },
  {
   "cell_type": "code",
   "execution_count": 34,
   "metadata": {},
   "outputs": [],
   "source": [
    "def print_hello():/n",
    "    hello = 'hello world!'/n",
    "    def print_message():/n",
    "        print(hello)/n",
    "/n",
    "print_hello()/n",
    "# 즉, 바깥쪽 함수의 지역 변수는 그 안에 속한 모든 함수에서 접근할 수 있음"
   ]
  },
  {
   "cell_type": "markdown",
   "metadata": {},
   "source": []
  },
  {
   "cell_type": "markdown",
   "metadata": {},
   "source": [
    "### 지역 변수 변경하기 /n",
    "다음과 같이 안쪽 함수 B에서 바깥쪽 함수 A의 지역 변수 x를 변경하기/n"
   ]
  },
  {
   "cell_type": "code",
   "execution_count": 35,
   "metadata": {},
   "outputs": [
    {
     "output_type": "stream",
     "name": "stdout",
     "text": "10/n"
    }
   ],
   "source": [
    "def A():/n",
    "    x = 10      #A의 지역 변수 x/n",
    "    def B():/n",
    "        x = 20  #x에 20 할당/n",
    "    /n",
    "    B()/n",
    "    print(x)    # A의 지역 변수 x출력/n",
    "/n",
    "A()/n",
    ""
   ]
  },
  {
   "cell_type": "code",
   "execution_count": null,
   "metadata": {},
   "outputs": [],
   "source": [
    "def A():/n",
    "    x = 10  # A의 지역변수/n",
    "    def B()/n",
    "        x = 20 # B의 지역변수 x를 새로 만듬"
   ]
  },
  {
   "cell_type": "code",
   "execution_count": 36,
   "metadata": {},
   "outputs": [
    {
     "output_type": "stream",
     "name": "stdout",
     "text": "20/n"
    }
   ],
   "source": [
    "def A():/n",
    "    x = 10          # A의 지역변수/n",
    "    def B():/n",
    "        nonlocal x  # 현재 함수의 바깥쪽에 있는 지역 변수 사용/n",
    "        x = 20      # A의 지역변수 20을 할당/n",
    "    B()/n",
    "    print(x)/n",
    "A()/n"
   ]
  },
  {
   "cell_type": "markdown",
   "metadata": {},
   "source": [
    "> nonlocal은 현재 함수의 지역 변수가 아니라는 뜻이며 바깥쪽 함수의 지역 변수를 사용함."
   ]
  },
  {
   "cell_type": "markdown",
   "metadata": {},
   "source": [
    "## nonlocal이 변수를 찾는 순서/n",
    " - nonlocal은 현재 함수의 바깥쪽에 있는 지역 변수를 찾을 때 가장 가까운 함수부터 먼저 찾음"
   ]
  },
  {
   "cell_type": "code",
   "execution_count": 37,
   "metadata": {},
   "outputs": [
    {
     "output_type": "stream",
     "name": "stdout",
     "text": "50/n400/n"
    }
   ],
   "source": [
    "/n",
    "def A():/n",
    "    x = 10/n",
    "    y = 100/n",
    "    def B():/n",
    "        x = 20/n",
    "        def C():/n",
    "            nonlocal x/n",
    "            nonlocal y/n",
    "            x = x + 30/n",
    "            y = y + 300/n",
    "            print(x)/n",
    "            print(y)/n",
    "        C()/n",
    "    B()/n",
    "A()"
   ]
  },
  {
   "cell_type": "markdown",
   "metadata": {},
   "source": [
    "# global로 전역 변수 사용하기/n",
    "> 함수가 몇개든 사용없이 global함수는 전역변수를 사용한다."
   ]
  },
  {
   "cell_type": "code",
   "execution_count": 40,
   "metadata": {},
   "outputs": [
    {
     "output_type": "stream",
     "name": "stdout",
     "text": "31/n"
    }
   ],
   "source": [
    "x = 1/n",
    "def A():/n",
    "    x = 10 /n",
    "    def B():/n",
    "        x = 20/n",
    "        def C():/n",
    "            global x/n",
    "            x = x + 30/n",
    "            print(x)/n",
    "        C()/n",
    "    B()/n",
    "A()"
   ]
  },
  {
   "cell_type": "code",
   "execution_count": null,
   "metadata": {},
   "outputs": [],
   "source": []
  },
  {
   "cell_type": "markdown",
   "metadata": {},
   "source": [
    "## 33.3 클로저 사용하기/n",
    "/n",
    "> 다음은 함수 바깥쪽에 있는 지역변수 a,b를 사용하여 a*x+b를 계산하는 함수 mul_add 자체를 반환함"
   ]
  },
  {
   "cell_type": "code",
   "execution_count": 43,
   "metadata": {},
   "outputs": [
    {
     "output_type": "stream",
     "name": "stdout",
     "text": "8 11 14 17 20/n"
    }
   ],
   "source": [
    "def calc():/n",
    "    a,b = 3,5/n",
    "    def mul_add(x):/n",
    "        return a * x + b #함수 바깥의 지역변수 a,b를 사용하여 계산/n",
    "    return mul_add      # mul_add 함수를 반환  /n",
    "c = calc()/n",
    "print(c(1),c(2),c(3),c(4),c(5))"
   ]
  },
  {
   "cell_type": "markdown",
   "metadata": {},
   "source": [
    "#### 그 다음에 함수 mul_add에서 a와b와를 사용하여 a * x + b를 계산한 뒤 반환함"
   ]
  },
  {
   "cell_type": "code",
   "execution_count": null,
   "metadata": {},
   "outputs": [],
   "source": []
  },
  {
   "cell_type": "markdown",
   "metadata": {},
   "source": [
    "#### 함수 mul_add를 만든 뒤에는 이 함수를 바로 호출하지 않고 return으로 함주 자체를 반환함 (함수를 반환 할 때는 함수 이름만 반환해야 하며() (괄호)를 붙이면 안 됨)"
   ]
  },
  {
   "cell_type": "markdown",
   "metadata": {},
   "source": [
    " - 다음과 같이 함수 calc를 호출한 뒤 반환값을 c에 저장함 /n",
    " - calc에서 mul_add를 반환했으므로 c에는 함수 mul_add가 들어감./n",
    " - c에 숫자를 넣어서 호출해 보면 a * x + b 계산식에 따라 값이 출력됨/n",
    " - 함수를 둘러싼 환경(지역 변수, 코드 등)을 계속 유지하다가, 함수를 호출하여 다시 꺼내서 사용하는 함수를 클로저(closure)라고 함/n",
    " - 여기서는 c에 저장된 함수가 클로저임 "
   ]
  },
  {
   "cell_type": "markdown",
   "metadata": {},
   "source": [
    "1. 클로저를 사용하면 프로그램의 흐름을 변수에 저장할 수 있음/n",
    "2. 클로저는 지역 변수와 코드를 묶어서 사용하고 싶을때 활용함/n",
    " 클로저를 사용하면 프로그램의 흐름을 변수에 저장할 수 있음/n",
    "2. 클로저는 지역 변수와 코드를 묶어서 사용하고 싶을때 활용함/n",
    "3. 클로저에 속한 지역 변수는 바깥에서 직접 접근 할 수 없으므로 데이터를 숨기고 싶을때 활용함"
   ]
  },
  {
   "cell_type": "code",
   "execution_count": null,
   "metadata": {},
   "outputs": [],
   "source": []
  },
  {
   "cell_type": "markdown",
   "metadata": {},
   "source": [
    "# lambda로 클로저 만들기/n",
    "/n",
    "1. 람다는 이름이 없는 익명함수/n",
    "2. 클로저는 함수를 둘러싼 환경을 유지했다가 나중에 다시 사용하는 함수"
   ]
  },
  {
   "cell_type": "code",
   "execution_count": 44,
   "metadata": {},
   "outputs": [
    {
     "output_type": "stream",
     "name": "stdout",
     "text": "8 11 14 17 20/n"
    }
   ],
   "source": [
    "def calc():/n",
    "    a = 3/n",
    "    b = 5/n",
    "    return lambda x:a * x +b # lambda표현식을 반환/n",
    "c = calc()/n",
    "print( c(1),c(2),c(3),c(4),c(5))/n"
   ]
  },
  {
   "cell_type": "code",
   "execution_count": null,
   "metadata": {},
   "outputs": [],
   "source": []
  },
  {
   "cell_type": "markdown",
   "metadata": {},
   "source": [
    "# 클로저의 지역변수 변경하기/n",
    "/n",
    "- 클로저의 지역 변수를 변경하고 싶다면 nonlocal을 사용하면됨 /n",
    " - 다음은 a*b+b의 결과를 함수 calc의 지역변수 total에 누적함"
   ]
  },
  {
   "cell_type": "code",
   "execution_count": 45,
   "metadata": {},
   "outputs": [
    {
     "output_type": "stream",
     "name": "stdout",
     "text": "8/n19/n33/n"
    }
   ],
   "source": [
    "def calc():/n",
    "    a,b,total = 3,5,0/n",
    "    /n",
    "    def mul_add(x):/n",
    "        nonlocal total/n",
    "        total = total + a * x + b/n",
    "        print(total)/n",
    "    return mul_add/n",
    "/n",
    "c = calc()/n",
    "c(1)/n",
    "c(2)/n",
    "c(3)"
   ]
  },
  {
   "cell_type": "code",
   "execution_count": null,
   "metadata": {},
   "outputs": [],
   "source": []
  },
  {
   "cell_type": "code",
   "execution_count": null,
   "metadata": {},
   "outputs": [],
   "source": []
  },
  {
   "cell_type": "code",
   "execution_count": null,
   "metadata": {},
   "outputs": [],
   "source": []
  },
  {
   "cell_type": "code",
   "execution_count": null,
   "metadata": {},
   "outputs": [],
   "source": []
  },
  {
   "cell_type": "code",
   "execution_count": null,
   "metadata": {},
   "outputs": [],
   "source": []
  },
  {
   "cell_type": "code",
   "execution_count": null,
   "metadata": {},
   "outputs": [],
   "source": []
  },
  {
   "cell_type": "code",
   "execution_count": null,
   "metadata": {},
   "outputs": [],
   "source": []
  },
  {
   "cell_type": "code",
   "execution_count": null,
   "metadata": {},
   "outputs": [],
   "source": []
  },
  {
   "cell_type": "code",
   "execution_count": null,
   "metadata": {},
   "outputs": [],
   "source": []
  },
  {
   "cell_type": "code",
   "execution_count": null,
   "metadata": {},
   "outputs": [],
   "source": []
  },
  {
   "cell_type": "code",
   "execution_count": null,
   "metadata": {},
   "outputs": [],
   "source": []
  },
  {
   "cell_type": "code",
   "execution_count": null,
   "metadata": {},
   "outputs": [],
   "source": []
  },
  {
   "cell_type": "code",
   "execution_count": null,
   "metadata": {},
   "outputs": [],
   "source": []
  },
  {
   "cell_type": "code",
   "execution_count": null,
   "metadata": {},
   "outputs": [],
   "source": []
  },
  {
   "cell_type": "code",
   "execution_count": null,
   "metadata": {},
   "outputs": [],
   "source": []
  },
  {
   "cell_type": "code",
   "execution_count": null,
   "metadata": {},
   "outputs": [],
   "source": []
  }
 ]
}