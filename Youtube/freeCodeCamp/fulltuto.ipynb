{
 "cells": [
  {
   "cell_type": "markdown",
   "metadata": {},
   "source": [
    "## 1 Setup & Workflow\n",
    "## 2 Get a basic app running\n",
    "## 3 Templates and Static Content\n",
    "## 4 Setting up and using Database(SQLite)\n",
    "## 5 Create a basic CRUC application\n",
    "## 6 Deploy to Heroku"
   ]
  },
  {
   "cell_type": "code",
   "execution_count": 1,
   "metadata": {},
   "outputs": [],
   "source": [
    "import flask\n",
    "# pip install flask 라고 터미널에 명령어를 친다."
   ]
  },
  {
   "cell_type": "code",
   "execution_count": null,
   "metadata": {},
   "outputs": [],
   "source": []
  }
 ],
 "metadata": {
  "language_info": {
   "codemirror_mode": {
    "name": "ipython",
    "version": 3
   },
   "file_extension": ".py",
   "mimetype": "text/x-python",
   "name": "python",
   "nbconvert_exporter": "python",
   "pygments_lexer": "ipython3",
   "version": "3.8.1-final"
  },
  "orig_nbformat": 2,
  "kernelspec": {
   "name": "python38164bitpytorchcondae2e836418e8f4945879c9669572061e2",
   "display_name": "Python 3.8.1 64-bit ('pytorch': conda)"
  }
 },
 "nbformat": 4,
 "nbformat_minor": 2
}