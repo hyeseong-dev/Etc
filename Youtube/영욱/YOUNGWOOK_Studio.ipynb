{
 "nbformat": 4,
 "nbformat_minor": 2,
 "metadata": {
  "language_info": {
   "name": "python",
   "codemirror_mode": {
    "name": "ipython",
    "version": 3
   },
   "version": "3.8.1-final"
  },
  "orig_nbformat": 2,
  "file_extension": ".py",
  "mimetype": "text/x-python",
  "name": "python",
  "npconvert_exporter": "python",
  "pygments_lexer": "ipython3",
  "version": 3,
  "kernelspec": {
   "name": "python38164bitpytorchcondae2e836418e8f4945879c9669572061e2",
   "display_name": "Python 3.8.1 64-bit ('pytorch': conda)"
  }
 },
 "cells": [
  {
   "cell_type": "code",
   "execution_count": 1,
   "metadata": {},
   "outputs": [
    {
     "output_type": "execute_result",
     "data": {
      "text/plain": "str"
     },
     "metadata": {},
     "execution_count": 1
    }
   ],
   "source": [
    "type('가')"
   ]
  },
  {
   "cell_type": "code",
   "execution_count": 3,
   "metadata": {},
   "outputs": [
    {
     "output_type": "execute_result",
     "data": {
      "text/plain": "bytes"
     },
     "metadata": {},
     "execution_count": 3
    }
   ],
   "source": [
    "type('가'.encode('utf8'))"
   ]
  },
  {
   "cell_type": "code",
   "execution_count": 34,
   "metadata": {},
   "outputs": [],
   "source": [
    "a= {i for i in range(20)}/n",
    "# print(a)/n",
    "b= {i for i in range(4,11)}/n",
    ""
   ]
  },
  {
   "cell_type": "code",
   "execution_count": 35,
   "metadata": {},
   "outputs": [
    {
     "output_type": "stream",
     "name": "stdout",
     "text": "{0, 1, 2, 3, 4, 5, 6, 7, 8, 9, 10, 11, 12, 13, 14, 15, 16, 17, 18, 19}/n{0, 1, 2, 3, 4, 5, 6, 7, 8, 9, 10, 11, 12, 13, 14, 15, 16, 17, 18, 19}/n"
    }
   ],
   "source": [
    "print( a.union(b) )# 합집합을 의미함/n",
    "print( a|b ) # 합집합을 기호로 표시함. "
   ]
  },
  {
   "cell_type": "code",
   "execution_count": 27,
   "metadata": {},
   "outputs": [
    {
     "output_type": "stream",
     "name": "stdout",
     "text": "{4, 5, 6}/n{4, 5, 6}/n"
    }
   ],
   "source": [
    "a ={1,2,3,4,5,6}/n",
    "b = {1,2,3,1,2,3,1,2,3}/n",
    "print(a-b) #차집합을 표현합니다. /n",
    "print(a.difference(b) )# 차집합을 difference 메소드로 표현"
   ]
  },
  {
   "cell_type": "code",
   "execution_count": 31,
   "metadata": {},
   "outputs": [
    {
     "output_type": "stream",
     "name": "stdout",
     "text": "{1, 2, 3}/n{1, 2, 3}/n"
    }
   ],
   "source": [
    "# 교집합, 값을 출력해줄뿐 다시 저장하지 않음./n",
    "a ={1,2,3,4,5,6}/n",
    "b = {1,2,3,1,2,3,1,2,3}/n",
    "print( a&b )/n",
    "print( a.intersection(b) )/n",
    ""
   ]
  },
  {
   "cell_type": "markdown",
   "metadata": {},
   "source": [
    "#튜플(tuple)/n",
    "> List [] , set {} Tuple()  /n",
    "/n",
    "> 튜플은 속도가 빠르지만 기능이 거의 없다. 읽기 전용으로 많이 쓰임. "
   ]
  },
  {
   "cell_type": "code",
   "execution_count": 37,
   "metadata": {},
   "outputs": [
    {
     "output_type": "stream",
     "name": "stdout",
     "text": "10 20/n"
    }
   ],
   "source": [
    "a,b = 10,20/n",
    "print(a,b)"
   ]
  },
  {
   "cell_type": "code",
   "execution_count": 43,
   "metadata": {},
   "outputs": [
    {
     "output_type": "stream",
     "name": "stdout",
     "text": "10 20/n"
    }
   ],
   "source": [
    "(a,b) = 10,20/n",
    "print(a,b)"
   ]
  },
  {
   "cell_type": "code",
   "execution_count": 44,
   "metadata": {},
   "outputs": [
    {
     "output_type": "stream",
     "name": "stdout",
     "text": "10 20/n20 10/n"
    }
   ],
   "source": [
    "print(a,b)/n",
    "a,b = b,a/n",
    "print(a,b)"
   ]
  },
  {
   "cell_type": "markdown",
   "metadata": {},
   "source": [
    "### 자료형(5) 사전(dict)과 부울(bool)"
   ]
  },
  {
   "cell_type": "code",
   "execution_count": 49,
   "metadata": {},
   "outputs": [
    {
     "output_type": "stream",
     "name": "stdout",
     "text": "0 one/n1 two/n2 three/n"
    }
   ],
   "source": [
    "num = dict(one=1, two=2, three=3)/n",
    "for i,j in enumerate(num):/n",
    "    print(i,j)"
   ]
  },
  {
   "cell_type": "code",
   "execution_count": 50,
   "metadata": {},
   "outputs": [
    {
     "output_type": "stream",
     "name": "stdout",
     "text": "{'twice': 'jyp', 'redvelvelt': 'SM', 'promisnine': 'offtherecord'}/n"
    }
   ],
   "source": [
    "g_group = {'twice':'jyp','redvelvelt':'SM','promisnine':'offtherecord'}/n",
    "print(g_group)"
   ]
  },
  {
   "cell_type": "code",
   "execution_count": 51,
   "metadata": {},
   "outputs": [
    {
     "output_type": "execute_result",
     "data": {
      "text/plain": "'SM'"
     },
     "metadata": {},
     "execution_count": 51
    }
   ],
   "source": [
    "g_group['redvelvelt'] #JSON타입과 많이 호환됨"
   ]
  },
  {
   "cell_type": "code",
   "execution_count": 52,
   "metadata": {},
   "outputs": [
    {
     "output_type": "error",
     "ename": "KeyError",
     "evalue": "0",
     "traceback": [
      "/u001b[1;31m---------------------------------------------------------------------------/u001b[0m",
      "/u001b[1;31mKeyError/u001b[0m                                  Traceback (most recent call last)",
      "/u001b[1;32m<ipython-input-52-f68ffa6a2a2e>/u001b[0m in /u001b[0;36m<module>/u001b[1;34m/u001b[0m/n/u001b[1;32m----> 1/u001b[1;33m /u001b[0mg_group/u001b[0m/u001b[1;33m[/u001b[0m/u001b[1;36m0/u001b[0m/u001b[1;33m]/u001b[0m/u001b[1;33m/u001b[0m/u001b[1;33m/u001b[0m/u001b[0m/n/u001b[0m",
      "/u001b[1;31mKeyError/u001b[0m: 0"
     ]
    }
   ],
   "source": [
    "g_group[0]"
   ]
  },
  {
   "cell_type": "code",
   "execution_count": 53,
   "metadata": {},
   "outputs": [],
   "source": [
    "g_group['오마이걸']='WM엔터테인먼트'"
   ]
  },
  {
   "cell_type": "code",
   "execution_count": 58,
   "metadata": {},
   "outputs": [
    {
     "output_type": "stream",
     "name": "stdout",
     "text": "dict_keys(['twice', 'redvelvelt', 'promisnine', '오마이걸'])/n"
    }
   ],
   "source": [
    "# print(g_group)/n",
    "print( g_group.keys() )/n",
    "/n"
   ]
  },
  {
   "cell_type": "code",
   "execution_count": 59,
   "metadata": {},
   "outputs": [
    {
     "output_type": "stream",
     "name": "stdout",
     "text": "dict_values(['jyp', 'SM', 'offtherecord', 'WM엔터테인먼트'])/n"
    }
   ],
   "source": [
    "print( g_group.values() )"
   ]
  },
  {
   "cell_type": "code",
   "execution_count": 60,
   "metadata": {},
   "outputs": [
    {
     "output_type": "stream",
     "name": "stdout",
     "text": "dict_items([('twice', 'jyp'), ('redvelvelt', 'SM'), ('promisnine', 'offtherecord'), ('오마이걸', 'WM엔터테인먼트')])/n"
    }
   ],
   "source": [
    "print( g_group.items() ) #값을 쌍으로 가져온다/n",
    ""
   ]
  },
  {
   "cell_type": "code",
   "execution_count": 64,
   "metadata": {},
   "outputs": [
    {
     "output_type": "stream",
     "name": "stdout",
     "text": "jyp/njyp/n"
    }
   ],
   "source": [
    "print( g_group.get('twice') ) # 방법1 Key값이 아닌 Value값 가져오기 /n",
    "print( g_group['twice'] ) # 방법2 "
   ]
  },
  {
   "cell_type": "code",
   "execution_count": null,
   "metadata": {},
   "outputs": [],
   "source": []
  },
  {
   "cell_type": "code",
   "execution_count": null,
   "metadata": {},
   "outputs": [],
   "source": []
  }
 ]
}