{
 "nbformat": 4,
 "nbformat_minor": 2,
 "metadata": {
  "language_info": {
   "name": "python",
   "codemirror_mode": {
    "name": "ipython",
    "version": 3
   },
   "version": "3.8.1-final"
  },
  "orig_nbformat": 2,
  "file_extension": ".py",
  "mimetype": "text/x-python",
  "name": "python",
  "npconvert_exporter": "python",
  "pygments_lexer": "ipython3",
  "version": 3,
  "kernelspec": {
   "name": "python38164bitpytorchcondae2e836418e8f4945879c9669572061e2",
   "display_name": "Python 3.8.1 64-bit ('pytorch': conda)"
  }
 },
 "cells": [
  {
   "cell_type": "code",
   "execution_count": 1,
   "metadata": {},
   "outputs": [
    {
     "output_type": "stream",
     "name": "stdout",
     "text": "hello world/n"
    }
   ],
   "source": [
    "def HelloPrint():/n",
    "    print('hello world')/n",
    "/n",
    "HelloPrint()"
   ]
  },
  {
   "cell_type": "code",
   "execution_count": 2,
   "metadata": {},
   "outputs": [
    {
     "output_type": "execute_result",
     "data": {
      "text/plain": "101"
     },
     "metadata": {},
     "execution_count": 2
    }
   ],
   "source": [
    "def add(a,b):/n",
    "    return a+b/n",
    "add(100,1)"
   ]
  },
  {
   "cell_type": "code",
   "execution_count": 5,
   "metadata": {},
   "outputs": [
    {
     "output_type": "stream",
     "name": "stdout",
     "text": "101 99 100 100.0/n"
    }
   ],
   "source": [
    "def add(a,b):/n",
    "    return a+b,a-b,a*b,a/b/n",
    "    /n",
    "result1,result2,result3,result4 = add(100,1)/n",
    "print( result1, result2, result3, result4)"
   ]
  },
  {
   "cell_type": "markdown",
   "metadata": {},
   "source": []
  },
  {
   "cell_type": "code",
   "execution_count": 6,
   "metadata": {},
   "outputs": [],
   "source": [
    "x = [1,2,3]"
   ]
  },
  {
   "cell_type": "code",
   "execution_count": 7,
   "metadata": {},
   "outputs": [],
   "source": [
    "def muladd(a,b,c):/n",
    "    d = a+b+c/n",
    "    return d/n",
    "result = muladd(*x)"
   ]
  },
  {
   "cell_type": "code",
   "execution_count": 8,
   "metadata": {},
   "outputs": [
    {
     "output_type": "execute_result",
     "data": {
      "text/plain": "6"
     },
     "metadata": {},
     "execution_count": 8
    }
   ],
   "source": [
    "result"
   ]
  },
  {
   "cell_type": "code",
   "execution_count": null,
   "metadata": {},
   "outputs": [],
   "source": []
  },
  {
   "cell_type": "code",
   "execution_count": 9,
   "metadata": {},
   "outputs": [],
   "source": [
    "x = [345,345,654]/n",
    ""
   ]
  },
  {
   "cell_type": "code",
   "execution_count": 10,
   "metadata": {},
   "outputs": [],
   "source": [
    "def add(a,b,c):/n",
    "    d = a + b + c/n",
    "    return d/n",
    ""
   ]
  },
  {
   "cell_type": "code",
   "execution_count": 11,
   "metadata": {},
   "outputs": [
    {
     "output_type": "execute_result",
     "data": {
      "text/plain": "1344"
     },
     "metadata": {},
     "execution_count": 11
    }
   ],
   "source": [
    "add(*x)"
   ]
  },
  {
   "cell_type": "code",
   "execution_count": null,
   "metadata": {},
   "outputs": [],
   "source": []
  },
  {
   "cell_type": "code",
   "execution_count": 12,
   "metadata": {},
   "outputs": [],
   "source": [
    "x = [10,20]"
   ]
  },
  {
   "cell_type": "code",
   "execution_count": 13,
   "metadata": {},
   "outputs": [],
   "source": [
    "def add(a,b,c):/n",
    "    d = a + b + c/n",
    "    return d/n",
    ""
   ]
  },
  {
   "cell_type": "code",
   "execution_count": 15,
   "metadata": {},
   "outputs": [
    {
     "output_type": "error",
     "ename": "TypeError",
     "evalue": "add() missing 1 required positional argument: 'c'",
     "traceback": [
      "/u001b[1;31m---------------------------------------------------------------------------/u001b[0m",
      "/u001b[1;31mTypeError/u001b[0m                                 Traceback (most recent call last)",
      "/u001b[1;32m<ipython-input-15-a0c813ff9a2f>/u001b[0m in /u001b[0;36m<module>/u001b[1;34m/u001b[0m/n/u001b[1;32m----> 1/u001b[1;33m /u001b[0madd/u001b[0m/u001b[1;33m(/u001b[0m/u001b[1;33m*/u001b[0m/u001b[0mx/u001b[0m/u001b[1;33m)/u001b[0m /u001b[1;31m# def add(a,b,c):에서 인자 또는 파라미터가 3개이고 호출하는 함수/u001b[0m/u001b[1;33m/u001b[0m/u001b[1;33m/u001b[0m/u001b[0m/n/u001b[0m",
      "/u001b[1;31mTypeError/u001b[0m: add() missing 1 required positional argument: 'c'"
     ]
    }
   ],
   "source": [
    "add(*x) # def add(a,b,c):에서 인자 또는 파라미터가 3개이고 호출하는 함수의 값이 두개라서 unmatching되기 때문."
   ]
  },
  {
   "cell_type": "code",
   "execution_count": null,
   "metadata": {},
   "outputs": [],
   "source": []
  },
  {
   "cell_type": "code",
   "execution_count": 18,
   "metadata": {},
   "outputs": [
    {
     "output_type": "execute_result",
     "data": {
      "text/plain": "170"
     },
     "metadata": {},
     "execution_count": 18
    }
   ],
   "source": [
    "#item의 개수를 알수 없을때 유용하게 사용함. /n",
    "/n",
    "x = [10,20,30,40,50,20]/n",
    "def add(*p):/n",
    "    d=0/n",
    "    for i in p:/n",
    "        d = d + i /n",
    "    return d/n",
    "add(*x)"
   ]
  },
  {
   "cell_type": "code",
   "execution_count": null,
   "metadata": {},
   "outputs": [],
   "source": []
  },
  {
   "cell_type": "markdown",
   "metadata": {},
   "source": []
  },
  {
   "cell_type": "code",
   "execution_count": 29,
   "metadata": {},
   "outputs": [],
   "source": [
    "def GreatWall(menu, count=1, size='보통'):/n",
    "    print('메뉴:', menu)/n",
    "    print('수량:', count)/n",
    "    print('크기:', size)"
   ]
  },
  {
   "cell_type": "code",
   "execution_count": 31,
   "metadata": {},
   "outputs": [
    {
     "output_type": "stream",
     "name": "stdout",
     "text": "메뉴: 짬뽕/n수량: 1/n크기: 보통/n"
    }
   ],
   "source": [
    "# 기본값으로 함수의 인자값에 초기화를 했음/n",
    "GreatWall('짬뽕')"
   ]
  },
  {
   "cell_type": "code",
   "execution_count": 26,
   "metadata": {},
   "outputs": [
    {
     "output_type": "stream",
     "name": "stdout",
     "text": "메뉴: 짜장면/n수량: 2/n크기: 대짜/n"
    }
   ],
   "source": [
    "GreatWall(/"짜장면/",2,'대짜')"
   ]
  },
  {
   "cell_type": "code",
   "execution_count": 27,
   "metadata": {},
   "outputs": [
    {
     "output_type": "stream",
     "name": "stdout",
     "text": "메뉴: 짜장면/n수량: 5/n크기: 보통/n"
    }
   ],
   "source": [
    "GreatWall(menu='짜장면',size='보통',count=5)"
   ]
  },
  {
   "cell_type": "code",
   "execution_count": 34,
   "metadata": {},
   "outputs": [
    {
     "output_type": "stream",
     "name": "stdout",
     "text": "메뉴: 짜장면/n수량: 3/n크기: 곱배기/n"
    }
   ],
   "source": [
    "# *별표하나면 Key값이 나오고/n",
    "# ** dictionary의 Value값이 전달됨/n",
    "x = {'menu':'짜장면','count':3,'size':'곱배기'}/n",
    "GreatWall(**x)"
   ]
  },
  {
   "cell_type": "code",
   "execution_count": null,
   "metadata": {},
   "outputs": [],
   "source": []
  },
  {
   "cell_type": "code",
   "execution_count": null,
   "metadata": {},
   "outputs": [],
   "source": []
  },
  {
   "cell_type": "code",
   "execution_count": null,
   "metadata": {},
   "outputs": [],
   "source": []
  },
  {
   "cell_type": "code",
   "execution_count": null,
   "metadata": {},
   "outputs": [],
   "source": []
  },
  {
   "cell_type": "code",
   "execution_count": null,
   "metadata": {},
   "outputs": [],
   "source": []
  },
  {
   "cell_type": "code",
   "execution_count": null,
   "metadata": {},
   "outputs": [],
   "source": []
  },
  {
   "cell_type": "code",
   "execution_count": null,
   "metadata": {},
   "outputs": [],
   "source": []
  },
  {
   "cell_type": "code",
   "execution_count": null,
   "metadata": {},
   "outputs": [],
   "source": []
  },
  {
   "cell_type": "code",
   "execution_count": null,
   "metadata": {},
   "outputs": [],
   "source": []
  }
 ]
}