{
 "nbformat": 4,
 "nbformat_minor": 2,
 "metadata": {
  "language_info": {
   "name": "python",
   "codemirror_mode": {
    "name": "ipython",
    "version": 3
   },
   "version": "3.8.1-final"
  },
  "orig_nbformat": 2,
  "file_extension": ".py",
  "mimetype": "text/x-python",
  "name": "python",
  "npconvert_exporter": "python",
  "pygments_lexer": "ipython3",
  "version": 3,
  "kernelspec": {
   "name": "python38164bitpytorchcondae2e836418e8f4945879c9669572061e2",
   "display_name": "Python 3.8.1 64-bit ('pytorch': conda)"
  }
 },
 "cells": [
  {
   "cell_type": "markdown",
   "metadata": {},
   "source": [
    "# 클래스의 개념과 정의/n"
   ],
   "execution_count": null,
   "outputs": []
  },
  {
   "cell_type": "markdown",
   "metadata": {},
   "source": [
    "> 속성 : 이름, 나이, 색, 속력--> Property, Attribute   /n",
    "행동 : 먹는다, 잔다, 달린다. --> Method/n"
   ],
   "execution_count": null,
   "outputs": []
  },
  {
   "cell_type": "code",
   "execution_count": null,
   "metadata": {},
   "outputs": [],
   "source": [
    "class Person:/n",
    "    /n",
    "    def greeting(self): #self는 스스로를 지칭함.Person이라는 클래스의 키워드다./n",
    "        print('안녕하세요.')/n",
    "    def sing(self):/n",
    "        self.greeting()/n",
    "        print('나는 야인이 될거야~ 거친 비바람 몰아쳐도~')/n",
    "/n",
    "youngwook = Person()/n",
    "youngwook.sing()"
   ]
  },
  {
   "cell_type": "code",
   "execution_count": null,
   "metadata": {},
   "outputs": [],
   "source": [
    "class Person: /n",
    "    def __init__(self,name,age,live):/n",
    "        self.name = name/n",
    "        self.age = age/n",
    "        self.live = live/n",
    "    def greeting(self):/n",
    "        print('안녕하세요')/n",
    "/n",
    "youngwook = Person('이민수',23,'이천송도')/n",
    "mina = Person('이민아',203,'51구역')/n",
    "민호 = Person('박민호',2003,'안드로메다 24행성')"
   ]
  },
  {
   "cell_type": "code",
   "execution_count": null,
   "metadata": {},
   "outputs": [],
   "source": [
    "print(민호.name,민호.age,민호.live)"
   ]
  },
  {
   "cell_type": "code",
   "execution_count": null,
   "metadata": {},
   "outputs": [],
   "source": [
    "민호.greeting()"
   ]
  },
  {
   "cell_type": "code",
   "execution_count": 35,
   "metadata": {},
   "outputs": [],
   "source": [
    "class Person: /n",
    "    sex = /"/"/n",
    "    __items = [] # __변수명, 이렇게 쓰면 외부 접근 안됨./n",
    "/n",
    "    def __init__(self,name, age, live):/n",
    "        self.name = name/n",
    "        self.__age = age/n",
    "        self.live = live/n",
    "/n",
    "    def addItem(self, item):/n",
    "        self.__items.append(item)/n",
    "        print( __item+ '을(를) 추가했습니다.')/n",
    "/n",
    "    def getItem(self):/n",
    "        print(self.__items)/n",
    "    /n",
    "    def getAge(self):/n",
    "        print(self.__age - 5)"
   ]
  },
  {
   "cell_type": "code",
   "execution_count": 36,
   "metadata": {},
   "outputs": [],
   "source": [
    "youngwook = Person('김영욱',22, '이천송도')"
   ]
  },
  {
   "cell_type": "code",
   "execution_count": 37,
   "metadata": {},
   "outputs": [
    {
     "output_type": "error",
     "ename": "AttributeError",
     "evalue": "'Person' object has no attribute '__items'",
     "traceback": [
      "/u001b[1;31m---------------------------------------------------------------------------/u001b[0m",
      "/u001b[1;31mAttributeError/u001b[0m                            Traceback (most recent call last)",
      "/u001b[1;32m<ipython-input-37-d085556b6e93>/u001b[0m in /u001b[0;36m<module>/u001b[1;34m/u001b[0m/n/u001b[1;32m----> 1/u001b[1;33m /u001b[0myoungwook/u001b[0m/u001b[1;33m./u001b[0m/u001b[0m__items/u001b[0m/u001b[1;33m./u001b[0m/u001b[0mappend/u001b[0m/u001b[1;33m(/u001b[0m/u001b[1;34m'랩탑'/u001b[0m/u001b[1;33m)/u001b[0m/u001b[1;33m/u001b[0m/u001b[1;33m/u001b[0m/u001b[0m/n/u001b[0m",
      "/u001b[1;31mAttributeError/u001b[0m: 'Person' object has no attribute '__items'"
     ]
    }
   ],
   "source": [
    "youngwook.__items.append('랩탑')"
   ]
  },
  {
   "cell_type": "code",
   "execution_count": 38,
   "metadata": {},
   "outputs": [
    {
     "output_type": "error",
     "ename": "AttributeError",
     "evalue": "'Person' object has no attribute '__items'",
     "traceback": [
      "/u001b[1;31m---------------------------------------------------------------------------/u001b[0m",
      "/u001b[1;31mAttributeError/u001b[0m                            Traceback (most recent call last)",
      "/u001b[1;32m<ipython-input-38-d480fe1ff81f>/u001b[0m in /u001b[0;36m<module>/u001b[1;34m/u001b[0m/n/u001b[1;32m----> 1/u001b[1;33m /u001b[0myoungwook/u001b[0m/u001b[1;33m./u001b[0m/u001b[0m__items/u001b[0m/u001b[1;33m/u001b[0m/u001b[1;33m/u001b[0m/u001b[0m/n/u001b[0m",
      "/u001b[1;31mAttributeError/u001b[0m: 'Person' object has no attribute '__items'"
     ]
    }
   ],
   "source": [
    "youngwook.__items"
   ]
  },
  {
   "cell_type": "code",
   "execution_count": 39,
   "metadata": {},
   "outputs": [
    {
     "output_type": "error",
     "ename": "NameError",
     "evalue": "name '_Person__item' is not defined",
     "traceback": [
      "/u001b[1;31m---------------------------------------------------------------------------/u001b[0m",
      "/u001b[1;31mNameError/u001b[0m                                 Traceback (most recent call last)",
      "/u001b[1;32m<ipython-input-39-f6c7228e94f0>/u001b[0m in /u001b[0;36m<module>/u001b[1;34m/u001b[0m/n/u001b[1;32m----> 1/u001b[1;33m /u001b[0myoungwook/u001b[0m/u001b[1;33m./u001b[0m/u001b[0maddItem/u001b[0m/u001b[1;33m(/u001b[0m/u001b[1;34m'휴대폰'/u001b[0m/u001b[1;33m)/u001b[0m/u001b[1;33m/u001b[0m/u001b[1;33m/u001b[0m/u001b[0m/n/u001b[0m",
      "/u001b[1;32m<ipython-input-35-ebe24dcde186>/u001b[0m in /u001b[0;36maddItem/u001b[1;34m(self, item)/u001b[0m/n/u001b[0;32m     10/u001b[0m     /u001b[1;32mdef/u001b[0m /u001b[0maddItem/u001b[0m/u001b[1;33m(/u001b[0m/u001b[0mself/u001b[0m/u001b[1;33m,/u001b[0m /u001b[0mitem/u001b[0m/u001b[1;33m)/u001b[0m/u001b[1;33m:/u001b[0m/u001b[1;33m/u001b[0m/u001b[1;33m/u001b[0m/u001b[0m/n/u001b[0;32m     11/u001b[0m         /u001b[0mself/u001b[0m/u001b[1;33m./u001b[0m/u001b[0m__items/u001b[0m/u001b[1;33m./u001b[0m/u001b[0mappend/u001b[0m/u001b[1;33m(/u001b[0m/u001b[0mitem/u001b[0m/u001b[1;33m)/u001b[0m/u001b[1;33m/u001b[0m/u001b[1;33m/u001b[0m/u001b[0m/n/u001b[1;32m---> 12/u001b[1;33m         /u001b[0mprint/u001b[0m/u001b[1;33m(/u001b[0m /u001b[0m__item/u001b[0m/u001b[1;33m+/u001b[0m /u001b[1;34m'을(를) 추가했습니다.'/u001b[0m/u001b[1;33m)/u001b[0m/u001b[1;33m/u001b[0m/u001b[1;33m/u001b[0m/u001b[0m/n/u001b[0m/u001b[0;32m     13/u001b[0m /u001b[1;33m/u001b[0m/u001b[0m/n/u001b[0;32m     14/u001b[0m     /u001b[1;32mdef/u001b[0m /u001b[0mgetItem/u001b[0m/u001b[1;33m(/u001b[0m/u001b[0mself/u001b[0m/u001b[1;33m)/u001b[0m/u001b[1;33m:/u001b[0m/u001b[1;33m/u001b[0m/u001b[1;33m/u001b[0m/u001b[0m/n",
      "/u001b[1;31mNameError/u001b[0m: name '_Person__item' is not defined"
     ]
    }
   ],
   "source": [
    "youngwook.addItem('휴대폰')"
   ]
  },
  {
   "cell_type": "code",
   "execution_count": 40,
   "metadata": {},
   "outputs": [
    {
     "output_type": "error",
     "ename": "AttributeError",
     "evalue": "'Person' object has no attribute 'age'",
     "traceback": [
      "/u001b[1;31m---------------------------------------------------------------------------/u001b[0m",
      "/u001b[1;31mAttributeError/u001b[0m                            Traceback (most recent call last)",
      "/u001b[1;32m<ipython-input-40-9203e346b501>/u001b[0m in /u001b[0;36m<module>/u001b[1;34m/u001b[0m/n/u001b[1;32m----> 1/u001b[1;33m /u001b[0myoungwook/u001b[0m/u001b[1;33m./u001b[0m/u001b[0mage/u001b[0m/u001b[1;33m/u001b[0m/u001b[1;33m/u001b[0m/u001b[0m/n/u001b[0m",
      "/u001b[1;31mAttributeError/u001b[0m: 'Person' object has no attribute 'age'"
     ]
    }
   ],
   "source": [
    "youngwook.age"
   ]
  },
  {
   "cell_type": "code",
   "execution_count": 41,
   "metadata": {},
   "outputs": [
    {
     "output_type": "stream",
     "name": "stdout",
     "text": "17/n"
    }
   ],
   "source": [
    "youngwook.getAge()"
   ]
  },
  {
   "cell_type": "code",
   "execution_count": null,
   "metadata": {},
   "outputs": [],
   "source": []
  },
  {
   "cell_type": "markdown",
   "metadata": {},
   "source": [
    "## 정적 메소드(static method)"
   ],
   "execution_count": null,
   "outputs": []
  },
  {
   "cell_type": "code",
   "execution_count": 47,
   "metadata": {},
   "outputs": [
    {
     "output_type": "execute_result",
     "data": {
      "text/plain": "30"
     },
     "metadata": {},
     "execution_count": 47
    }
   ],
   "source": [
    "class Calc:/n",
    "    /n",
    "    def add1(self,a,b):/n",
    "        return a+b/n",
    "/n",
    "    @staticmethod/n",
    "    def add(a, b): # 정적 메소드에서는 self가 필요없음/n",
    "        return a + b/n",
    "/n",
    "Calc.add(10,20) #정적메소드로 구현한것"
   ]
  },
  {
   "cell_type": "code",
   "execution_count": null,
   "metadata": {},
   "outputs": [],
   "source": [
    "calculator1 = Calc() #정적메소드(X), 클래스의 인스턴스화 진행한거/n",
    "calculator1.add1(10,20)"
   ]
  },
  {
   "cell_type": "code",
   "execution_count": null,
   "metadata": {},
   "outputs": [],
   "source": []
  },
  {
   "cell_type": "markdown",
   "metadata": {},
   "source": [
    "# 상속"
   ],
   "execution_count": null,
   "outputs": []
  },
  {
   "cell_type": "code",
   "execution_count": 48,
   "metadata": {},
   "outputs": [],
   "source": [
    "class Person:/n",
    "    /n",
    "    def __init__(self, name, age):/n",
    "        self.name = name/n",
    "        self.age = age/n",
    "    /n",
    "    def greeting(self):/n",
    "        print('안녕하세요. 사람입니다.')/n",
    "#클래스의 사용목적은 재사용, 재활용성이다."
   ]
  },
  {
   "cell_type": "code",
   "execution_count": 49,
   "metadata": {},
   "outputs": [],
   "source": [
    "p1 = Person('김영욱',20)"
   ]
  },
  {
   "cell_type": "code",
   "execution_count": 50,
   "metadata": {},
   "outputs": [
    {
     "output_type": "stream",
     "name": "stdout",
     "text": "안녕하세요. 사람입니다./n"
    }
   ],
   "source": [
    "p1.greeting()"
   ]
  },
  {
   "cell_type": "code",
   "execution_count": 51,
   "metadata": {},
   "outputs": [],
   "source": [
    "class Student(Person):/n",
    "/n",
    "    def __init__(self,name,age,student_id):/n",
    "        self.name = name/n",
    "        self.age =age/n",
    "        self.student_id =student_id/n",
    "/n",
    "    def greeting(self):/n",
    "        print('안녕하세요. 학생입니다.')/n",
    "        super().greeting()/n",
    "        /n",
    "    def study(self):/n",
    "        print('열공중')/n",
    ""
   ]
  },
  {
   "cell_type": "code",
   "execution_count": 52,
   "metadata": {},
   "outputs": [],
   "source": [
    "s1 = Student('김학생',18,'12345')"
   ]
  },
  {
   "cell_type": "code",
   "execution_count": 53,
   "metadata": {},
   "outputs": [
    {
     "output_type": "stream",
     "name": "stdout",
     "text": "안녕하세요. 학생입니다./n안녕하세요. 사람입니다./n"
    }
   ],
   "source": [
    "s1.greeting()"
   ]
  },
  {
   "cell_type": "code",
   "execution_count": 54,
   "metadata": {},
   "outputs": [
    {
     "output_type": "stream",
     "name": "stdout",
     "text": "열공중/n"
    }
   ],
   "source": [
    "s1.study()"
   ]
  },
  {
   "cell_type": "code",
   "execution_count": 55,
   "metadata": {},
   "outputs": [],
   "source": [
    "class CollegeStudent(Student):/n",
    "    community = /"/""
   ]
  },
  {
   "cell_type": "code",
   "execution_count": 56,
   "metadata": {},
   "outputs": [],
   "source": [
    "c1 = CollegeStudent('김대학생',22,12345)"
   ]
  },
  {
   "cell_type": "code",
   "execution_count": 57,
   "metadata": {},
   "outputs": [
    {
     "output_type": "stream",
     "name": "stdout",
     "text": "안녕하세요. 학생입니다./n안녕하세요. 사람입니다./n"
    }
   ],
   "source": [
    "c1.greeting()"
   ]
  },
  {
   "cell_type": "code",
   "execution_count": 58,
   "metadata": {},
   "outputs": [],
   "source": [
    "class University:/n",
    "    Uni_name = /"/"/n",
    "    Uni_address = /"/""
   ]
  },
  {
   "cell_type": "code",
   "execution_count": 59,
   "metadata": {},
   "outputs": [],
   "source": [
    "class CollegeStudent(Student, University):/n",
    "    pass"
   ]
  },
  {
   "cell_type": "code",
   "execution_count": 60,
   "metadata": {},
   "outputs": [],
   "source": [
    "c1 = CollegeStudent('김대학생',20,45678)"
   ]
  },
  {
   "cell_type": "code",
   "execution_count": 61,
   "metadata": {},
   "outputs": [],
   "source": [
    "c1.Uni_name = '경포대'"
   ]
  },
  {
   "cell_type": "code",
   "execution_count": 62,
   "metadata": {},
   "outputs": [
    {
     "output_type": "execute_result",
     "data": {
      "text/plain": "'경포대'"
     },
     "metadata": {},
     "execution_count": 62
    }
   ],
   "source": [
    "c1.Uni_name"
   ]
  },
  {
   "cell_type": "code",
   "execution_count": 63,
   "metadata": {},
   "outputs": [
    {
     "output_type": "stream",
     "name": "stdout",
     "text": "안녕하세요. 학생입니다./n안녕하세요. 사람입니다./n"
    }
   ],
   "source": [
    "c1.greeting()/n",
    ""
   ]
  },
  {
   "cell_type": "markdown",
   "metadata": {},
   "source": [
    "> 다중 상속을 최소한하는 것이 바람직합니다. /n",
    "안의 내부 속성과 메소드 사용에 혼선을 줄수 있다./n",
    "C#이나 JAVA는 다중상속을 막아두었지만 대신 인터페이스를 사용함."
   ],
   "execution_count": null,
   "outputs": []
  },
  {
   "cell_type": "code",
   "execution_count": null,
   "metadata": {},
   "outputs": [],
   "source": []
  }
 ]
}