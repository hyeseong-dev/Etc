{
 "cells": [
  {
   "cell_type": "code",
   "execution_count": 1,
   "metadata": {},
   "outputs": [
    {
     "output_type": "stream",
     "name": "stdout",
     "text": "?\n"
    }
   ],
   "source": [
    "n = input().upper() # 입력 및 대문자화  \n",
    "\n",
    "t = [] # 알파벳 개수 저장할 list \n",
    "for i in set(n): # 입력받은 알파벳 중 unique한 알파벳만 \n",
    "    t.append(n.count(i)) # 개수 \n",
    "idx = [i for i,x in enumerate(t) if x == max(t)] # 최대값 위치 \n",
    "if len(idx)>1: print(\"?\") # 최대값이 여러개면 ? 출력 \n",
    "else : print(list(set(n))[t.index(max(t))]) # 최대값이 하나면 해당 알파벳 출력\n",
    "\n"
   ]
  },
  {
   "cell_type": "markdown",
   "metadata": {},
   "source": [
    "# 코드 설명 "
   ]
  },
  {
   "cell_type": "code",
   "execution_count": 2,
   "metadata": {},
   "outputs": [
    {
     "output_type": "error",
     "ename": "SyntaxError",
     "evalue": "invalid syntax (<ipython-input-2-43e964a45c40>, line 1)",
     "traceback": [
      "\u001b[1;36m  File \u001b[1;32m\"<ipython-input-2-43e964a45c40>\"\u001b[1;36m, line \u001b[1;32m1\u001b[0m\n\u001b[1;33m    \"Mississipi\"라는 단어를 처음 입력하자마자, upper() 메소드에 의해서 전부\u001b[0m\n\u001b[1;37m                ^\u001b[0m\n\u001b[1;31mSyntaxError\u001b[0m\u001b[1;31m:\u001b[0m invalid syntax\n"
     ]
    }
   ],
   "source": [
    "\"Mississipi\"라는 단어를 처음 입력하자마자, upper() 메소드에 의해서 전부 \n",
    "MISSISSIPI라는 문자열로 바뀌어 변수 m에 담귄다.\n",
    "\n",
    "t = [] 입력받은 알파벳 개수를 담을 그릇이다. \n",
    "for 문에서 set()메서드는 중복되는 요소드는 날려버리고 iterable한 객체로 다시 되돌려준다. \n",
    "set('MISSISSIPI') -> ('M','I','S','P') 요 네게의 원소만 담겨서 for문은 4번 돌게 된다. \n",
    "\n",
    "count()메소드는 객체.count('value')로 사용되어서 해당 value가 객체에 몇개 있는지 돌려준다. \n",
    "\n",
    "그래서 t.append(n.count('M'))을 시작으로 ~~~ t.append(n.count('P'))까지 4번 돌게된다.\n",
    "\n",
    "M은 1개 I는 4개, S도 4개, P는 1개 총 10개 알파벳임. \n",
    "t = [1,4,4,1]인 상태이다. \n",
    "\n",
    "다음은 최대값의 위치를 알아봐야한다. \n",
    "리스트 컴프리헨션으로 콤팩트하게 표현하였다. \n",
    "for i,x in enumerate(t)는 이해했고 그 아래의 if x == max(t)를 보게 되면 \n",
    "x에 처음 if 1 == 4 같니? 라고 하면 아니지. \n",
    "다음 두번째로 if 4 == 4 라고 물으면 같네! \n",
    "idx = [1, ] 담기게 된다. 여기서 1이 담기는 이유는 i가 가서 그런거임 i는 여기서 \n",
    "4라는 값의 index임. \n",
    "이후 다시 if 4 == 4 라고 물으면 같네! \n",
    "idx = [1,2] 된다. \n",
    "\n",
    "즉 최대값이 1개 이상이면 ?를 도출하라는 \n",
    "조건문인 if len(idx) > 1: print('?')\n",
    "        else : print(list(set(n))[t.index(max(t))]) \n",
    "else 부분이 개하이라이트 부분임. 차근차근 우선 봐야함. \n",
    "set(n)은 {'M','I','S','P'} 이고 이후 list()를 만나서 ['M','I','S','P']라는 리스트 객체가 됩니다. \n",
    "\n",
    "iterable객체[인덱스번호] 있으면 해당 객체의 인덱스 순서에 맞는 요소값을 반환한다. \n",
    "\n",
    "\n",
    "예를들면 이런거임 \n",
    "\n",
    "t = [1,2,3,4]\n",
    "t[2]<-- 여기서 2는 인덱스 2를 가리켜서 t[2]의 리턴값은 3임\n",
    "\n"
   ]
  },
  {
   "cell_type": "code",
   "execution_count": 5,
   "metadata": {},
   "outputs": [
    {
     "output_type": "stream",
     "name": "stdout",
     "text": "0 1\n1 4\n2 4\n3 1\n"
    },
    {
     "output_type": "execute_result",
     "data": {
      "text/plain": "4"
     },
     "metadata": {},
     "execution_count": 5
    }
   ],
   "source": [
    "t =[1,4,4,1]\n",
    "for i, x in enumerate(t):\n",
    "    print(i,x)\n",
    "\n",
    "t[2]"
   ]
  },
  {
   "cell_type": "code",
   "execution_count": null,
   "metadata": {},
   "outputs": [],
   "source": [
    "## 여기가 개 하이라이트 부분이네! \n",
    "list(set(n))[t.index(max(t))]\n"
   ]
  }
 ],
 "metadata": {
  "language_info": {
   "codemirror_mode": {
    "name": "ipython",
    "version": 3
   },
   "file_extension": ".py",
   "mimetype": "text/x-python",
   "name": "python",
   "nbconvert_exporter": "python",
   "pygments_lexer": "ipython3",
   "version": "3.8.1-final"
  },
  "orig_nbformat": 2,
  "kernelspec": {
   "name": "python38164bitpytorchcondae2e836418e8f4945879c9669572061e2",
   "display_name": "Python 3.8.1 64-bit ('pytorch': conda)"
  }
 },
 "nbformat": 4,
 "nbformat_minor": 2
}