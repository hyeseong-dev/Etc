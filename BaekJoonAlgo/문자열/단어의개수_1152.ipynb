{
 "cells": [
  {
   "cell_type": "code",
   "execution_count": 1,
   "metadata": {},
   "outputs": [
    {
     "output_type": "stream",
     "name": "stdout",
     "text": "4\n"
    }
   ],
   "source": [
    "import re \n",
    "string = input()\n",
    "p = re.compile(r'\\S+')\n",
    "m = p.findall(string)\n",
    "print(len(m))\n",
    "        "
   ]
  },
  {
   "cell_type": "code",
   "execution_count": null,
   "metadata": {},
   "outputs": [],
   "source": [
    "자주 사용하는 문자 클래스 \n",
    "\n",
    "정규 표현식             설명 \n",
    "    \\d                숫자와 매치, [0-9]와 동일한 표현식   \n",
    "    \n",
    "    \\D                숫자가 아닌 것과 매치, [^0-9]와 동일한 표현식   \n",
    "    \n",
    "    \\s                whitespace 문자(space나 tab처럼 공백을 표현하는 문자)와 매치, [\\t\\n\\r\\f\\v]와 동일한 표현식이다. 맨 앞의 빈칸은 공백 문자를 의미  \n",
    "\n",
    "    \\S                whitespace문자가 이닌것과 매치, [^\\t\\n\\r\\f\\v]와 동일함                   \n",
    "    \\w                문자+숫자와 매치,[a-zA-Z0-9_]와 동일함   \n",
    "    \\W                문자+숫자가 아닌!것과 매치,[^a-zA-Z0-9_]와 동일함   "
   ]
  }
 ],
 "metadata": {
  "language_info": {
   "codemirror_mode": {
    "name": "ipython",
    "version": 3
   },
   "file_extension": ".py",
   "mimetype": "text/x-python",
   "name": "python",
   "nbconvert_exporter": "python",
   "pygments_lexer": "ipython3",
   "version": "3.8.2-final"
  },
  "orig_nbformat": 2,
  "kernelspec": {
   "name": "python38264bitmymythonenvconda1f36fd18157f4376a30b6173fcd0cb3f",
   "display_name": "Python 3.8.2 64-bit ('my_mython_env': conda)"
  }
 },
 "nbformat": 4,
 "nbformat_minor": 2
}