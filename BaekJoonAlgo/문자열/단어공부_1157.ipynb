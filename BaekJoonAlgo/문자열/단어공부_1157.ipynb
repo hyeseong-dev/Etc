{
 "cells": [
  {
   "cell_type": "markdown",
   "metadata": {},
   "source": [
    "문제    \n",
    "알파벳 대소문자로 된 단어가 주어지면, 이 단어에서 가장 많이 사용된 알파벳이 무엇인지 알아내는 프로그램을 작성하시오. 단, 대문자와 소문자를 구분하지 않는다.\n",
    "\n",
    "입력    \n",
    "첫째 줄에 알파벳 대소문자로 이루어진 단어가 주어진다. 주어지는 단어의 길이는 1,000,000을 넘지 않는다.\n",
    "\n",
    "출력    \n",
    "첫째 줄에 이 단어에서 가장 많이 사용된 알파벳을 대문자로 출력한다. 단, 가장 많이 사용된 알파벳이 여러 개 존재하는 경우에는 ?를 출력한다.    "
   ]
  },
  {
   "cell_type": "markdown",
   "metadata": {},
   "source": [
    "```\n",
    "예제 입력 1 \n",
    "Mississipi\n",
    "\n",
    "예제 출력 1 \n",
    "?\n",
    "\n",
    "예제 입력 2 \n",
    "zZa\n",
    "\n",
    "예제 출력 2 \n",
    "Z\n",
    "\n",
    "예제 입력 3 \n",
    "z\n",
    "\n",
    "예제 출력 3 \n",
    "Z\n",
    "\n",
    "예제 입력 4 \n",
    "baaa\n",
    "\n",
    "예제 출력 4 \n",
    "A"
   ]
  },
  {
   "cell_type": "code",
   "execution_count": null,
   "metadata": {},
   "outputs": [],
   "source": [
    "hello"
   ]
  },
  {
   "cell_type": "code",
   "execution_count": 12,
   "metadata": {},
   "outputs": [
    {
     "output_type": "stream",
     "name": "stdout",
     "text": "0\n"
    }
   ],
   "source": [
    "str_list = input().upper() #\n",
    "chr_num = [] # 알파벳 개수 저장할 list \n",
    "\n",
    "for i in set(str_list) :\n",
    "    chr_num.append(str_list.count(i))\n",
    "max_idx = [i for i, x in enumerate(chr_num) if x == max(chr_num)]\n",
    "\n",
    "if len(max_idx) > 1 : \n",
    "    print('?')\n",
    "else : \n",
    "    print(list(set(str_list))[chr_num.index(max(chr_num))])"
   ]
  },
  {
   "cell_type": "code",
   "execution_count": null,
   "metadata": {},
   "outputs": [],
   "source": [
    "1번줄에 input().upper()를 통해서 문자를 받는데 모두 대문자로 전환한 다음 str_list 변수에 담는다. \n",
    "\n",
    "2째줄에는 빈리스트를 chr_num변수로 만들어 둔다. 용도는 알파벳 개수를 담기 위함임. ex'HELLO' -> [1,1,2,1] 이렇게 담기게 될거임. \n",
    "\n",
    "4째줄에는 for문을 돌리게되는데 여기서 iterable한 객체의 type은 set()타입이다. \n",
    "*** 매우 중요함. 왜?! 'HELLO'를 -?{\"E\",'H','L','O'}의 객체로 바꾸어 버린다. \n",
    "즉, 중복된 요소들을 날려버림. \n",
    "\n",
    "5째줄에는 본격적으로 2째줄에 만든 빈리스트인 chr_num리스트에 각 글자가 몇번 나타났는지 그 수를 담게된다. \n",
    "방법 : 객체.count(value) 예를들어, str_list.count('H')를하면 str_list문자열에 있는 'H'는 1개뿐이다. 그럼 append()메서드를 통과해서 chr_num에 int값 1이 담기게 된다. \n",
    "\n",
    "** 여기서도 for문을 이용해서 하나하나 비교대조한다. 뭘 비교 대조할까? \n",
    "enumerate()메서드의 파라미터로 각 문자의 개수가 담긴 chr_num의 인덱스 위치와 그 값을 표현한다. \n",
    "if문에서 'H' 개수 1개니깐. x의 값은 1이 튀어나오고 1 == max(chr_num) 우항의 max(chr_num)의 값은 int값 2가 된다. (L이 두개라서, 'HELLO'의 최대값은 2임 )\n",
    "요.\n",
    "\n",
    "max_idx로 리스트 변수를 만든 이유는 최대값이 2개일수 있다. \n",
    "예를들어 'HOHO' 라는 단어가 오게되면 'H'2개, 'O'2개가 온다. \n",
    "이 경우 9째줄, pirnt()메서드로 '?'를 출력하기로 했다.8째줄, max_idx에 값이 1을 초과해서 담기게 되면 '?'를 출력하게 되는거다. \n",
    "\n",
    "10째줄, 그게 아닌 1개만 담기게 되면 마지막 줄이 실행된다. \n",
    "여기서 마지막 줄은 조금 분리해서 생각해보자 \n",
    "list(set(str_list))[chr_num.index(max(chr_num))] 왼쪽의 소스코드를 \n",
    "\n",
    "아래와 같이 각각 떼어노아보자. \n",
    "\n",
    "list(set(str_list))                     [chr_num.index(max(chr_num))]\n",
    "리스트가 있는 부분은 위의 ('HELLO')로 예를 들면 ['O', 'E', 'H', 'L']라는 객체가 생성되게 된다. \n",
    "\n",
    "그리고 여기서 []안의 인덱스로 표현된 부분을 잘 봐야 한다. \n",
    "[chr_num.index(max(chr_num))]\n",
    "chr_num에는 현재 [1,1,1,2]가 담겨있다. \n",
    "객체.index()함수는 \n"
   ]
  },
  {
   "cell_type": "code",
   "execution_count": 26,
   "metadata": {},
   "outputs": [
    {
     "output_type": "stream",
     "name": "stdout",
     "text": "2\n"
    }
   ],
   "source": [
    "str_list = input().strip().split(' ')\n",
    "print(len(str_list))"
   ]
  },
  {
   "cell_type": "code",
   "execution_count": null,
   "metadata": {},
   "outputs": [],
   "source": []
  }
 ],
 "metadata": {
  "language_info": {
   "codemirror_mode": {
    "name": "ipython",
    "version": 3
   },
   "file_extension": ".py",
   "mimetype": "text/x-python",
   "name": "python",
   "nbconvert_exporter": "python",
   "pygments_lexer": "ipython3",
   "version": "3.8.2-final"
  },
  "orig_nbformat": 2,
  "kernelspec": {
   "name": "python38264bitmymythonenvconda1f36fd18157f4376a30b6173fcd0cb3f",
   "display_name": "Python 3.8.2 64-bit ('my_mython_env': conda)"
  }
 },
 "nbformat": 4,
 "nbformat_minor": 2
}