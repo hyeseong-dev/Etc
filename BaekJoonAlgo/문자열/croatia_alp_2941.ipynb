{
 "cells": [
  {
   "cell_type": "code",
   "execution_count": 7,
   "metadata": {},
   "outputs": [
    {
     "output_type": "stream",
     "name": "stdout",
     "text": "d**\n"
    }
   ],
   "source": [
    "a = ['c=', 'c-', 'dz=', 'd-', 'lj', 'nj', 's=', 'z='] \n",
    "alpha = input() \n",
    "for a_val in a: # 8번 돌아가면서 처음 a[0]에 해당하는 값을 넘겨준다.\n",
    "    alpha = alpha.replace(a_val, '*')# a리스트의 값중 하나가 걸리면 별표로 퉁!\n",
    "print(len(alpha))\n",
    "# print(alpha)\n",
    "# 출처: https://hongku.tistory.com/255 [IT에 취.하.개.]"
   ]
  },
  {
   "cell_type": "code",
   "execution_count": null,
   "metadata": {},
   "outputs": [],
   "source": []
  }
 ],
 "metadata": {
  "language_info": {
   "codemirror_mode": {
    "name": "ipython",
    "version": 3
   },
   "file_extension": ".py",
   "mimetype": "text/x-python",
   "name": "python",
   "nbconvert_exporter": "python",
   "pygments_lexer": "ipython3",
   "version": "3.8.2-final"
  },
  "orig_nbformat": 2,
  "kernelspec": {
   "name": "python38264bitmymythonenvconda1f36fd18157f4376a30b6173fcd0cb3f",
   "display_name": "Python 3.8.2 64-bit ('my_mython_env': conda)"
  }
 },
 "nbformat": 4,
 "nbformat_minor": 2
}