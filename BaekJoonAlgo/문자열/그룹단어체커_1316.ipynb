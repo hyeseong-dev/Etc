{
 "cells": [
  {
   "cell_type": "code",
   "execution_count": 2,
   "metadata": {},
   "outputs": [
    {
     "output_type": "stream",
     "name": "stdout",
     "text": "3\n"
    }
   ],
   "source": [
    "# function\n",
    "def checker(word) :\n",
    "    stack = []\n",
    "    \n",
    "    for i, c in enumerate(word) : \n",
    "        if c not in stack : \n",
    "            stack.append(c)\n",
    "        else : \n",
    "            if (i!= 0) & (word[i] != word[i-1]) : \n",
    "                return 0\n",
    "    \n",
    "    return 1\n",
    "\n",
    "# input\n",
    "n = int(input())\n",
    "words = []\n",
    "\n",
    "for _ in range(n) : \n",
    "    words.append(input())\n",
    "\n",
    "# print\n",
    "num = 0 \n",
    "\n",
    "for w in words :\n",
    "    num += checker(w)\n",
    "    \n",
    "print(num)"
   ]
  },
  {
   "cell_type": "code",
   "execution_count": null,
   "metadata": {},
   "outputs": [],
   "source": [
    "n = int(input()) 에서 몇번 문자열 값을 입력할지 묻는거임. \n",
    "아래 입력 모델처럼 단어 3개를 쭉 받기 위해서 가장 처음 숫자를 입력함. \n",
    "----\n",
    "3\n",
    "happy\n",
    "new\n",
    "year\n",
    "\n",
    "\n",
    "for _ in range(n) : 문장에서 4를 입력하면 0~3까지 돌게된다. \n",
    "words =[] 라고 선언된 empty 리스트에 예를 들어[happy,new,year]이라는 값이 담기게 된다. \n",
    "\n",
    "출력하기 위해서 num = 0 이라는 값을 준다. \n",
    "여기서도 for문이 돌아간다.\n",
    "\n",
    "for w in words :\n",
    "    num += checker(w)\n",
    "     아까 words에 담긴 [happy,new,year]단어를 순차적으로 w에 담는다.\n",
    "     여기서 중요한 check()함수에 'happy'라는 단어가 w에 담겨서 check()함수의 파라미터로 들어가서 check()를 실행시키게 된다. \n",
    "    num += checker(w) 부분은 중복되지 않은 그룹이 누적해서 몇개인지 카운트하게 된다. \n",
    "\n",
    "def checker(word) :\n",
    "    stack = [] stack이라는 빈 리스트를 생성한다. \n",
    "    \n",
    "    for i, c in enumerate(word) : 여기서 happy가 들어가면 h라는 단어가 c에 들어가고 i는 0을 의미한다.  \n",
    "        if c not in stack : 처음 빈리스트인 stack []에 c('h'))가 없지? 그럼 참.\n",
    "            stack.append(c) 그럼 stack['h']\n",
    "        else : \n",
    "            if (i!= 0) & (word[i] != word[i-1]) : \n",
    "                return 0\n",
    "    \n",
    "    return 1"
   ]
  }
 ],
 "metadata": {
  "language_info": {
   "codemirror_mode": {
    "name": "ipython",
    "version": 3
   },
   "file_extension": ".py",
   "mimetype": "text/x-python",
   "name": "python",
   "nbconvert_exporter": "python",
   "pygments_lexer": "ipython3",
   "version": "3.8.2-final"
  },
  "orig_nbformat": 2,
  "kernelspec": {
   "name": "python38264bitmymythonenvconda1f36fd18157f4376a30b6173fcd0cb3f",
   "display_name": "Python 3.8.2 64-bit ('my_mython_env': conda)"
  }
 },
 "nbformat": 4,
 "nbformat_minor": 2
}