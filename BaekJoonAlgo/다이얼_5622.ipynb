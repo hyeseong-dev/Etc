{
 "cells": [
  {
   "cell_type": "code",
   "execution_count": null,
   "metadata": {},
   "outputs": [],
   "source": [
    "\n",
    "문제\n",
    "상근이의 할머니는 아래 그림과 같이 오래된 다이얼 전화기를 사용한다.\n",
    "\n",
    "\n",
    "전화를 걸고 싶은 번호가 있다면, 숫자를 하나를 누른 다음에 금속 핀이 있는 곳 까지 시계방향으로 돌려야 한다. 숫자를 하나 누르면 다이얼이 처음 위치로 돌아가고, 다음 숫자를 누르려면 다이얼을 처음 위치에서 다시 돌려야 한다.\n",
    "\n",
    "숫자 1을 걸려면 총 2초가 필요하다. 1보다 큰 수를 거는데 걸리는 시간은 이보다 더 걸리며, 한 칸 옆에 있는 숫자를 걸기 위해선 1초씩 더 걸린다.\n",
    "\n",
    "상근이의 할머니는 전화 번호를 각 숫자에 해당하는 문자로 외운다. 즉, 어떤 단어를 걸 때, 각 알파벳에 해당하는 숫자를 걸면 된다. 예를 들어, UNUCIC는 868242와 같다.\n",
    "\n",
    "할머니가 외운 단어가 주어졌을 때, 이 전화를 걸기 위해서 필요한 시간을 구하는 프로그램을 작성하시오.\n",
    "\n",
    "입력\n",
    "첫째 줄에 알파벳 대문자로 이루어진 단어가 주어진다. 단어는 2글자~15글자로 이루어져 있다.\n",
    "\n",
    "출력\n",
    "첫째 줄에 다이얼을 걸기 위해서 필요한 시간을 출력한다.\n",
    "\n",
    "예제 입력 1 \n",
    "UNUCIC\n",
    "\n",
    "예제 출력 1 \n",
    "36"
   ]
  },
  {
   "cell_type": "code",
   "execution_count": null,
   "metadata": {},
   "outputs": [],
   "source": []
  },
  {
   "cell_type": "code",
   "execution_count": 18,
   "metadata": {},
   "outputs": [
    {
     "output_type": "execute_result",
     "data": {
      "text/plain": "23"
     },
     "metadata": {},
     "execution_count": 18
    }
   ],
   "source": [
    "# 종범씨가 알려준 방법 \n",
    "value = [3,3,3,4,4,4,5,5,5,6,6,6,7,7,7,7,8,8,8,9,9,9,9]\n",
    "idx = [chr(x) for x in range(ord(\"A\"), ord('Z')+1)]\n",
    "print(idx)\n",
    "\n",
    "s_l = []\n",
    "for i in input().upper():\n",
    "    s_l.append(value[idx.index(i)])\n",
    "print(sum(s_l))\n",
    "\n",
    "len(value)"
   ]
  },
  {
   "cell_type": "code",
   "execution_count": null,
   "metadata": {},
   "outputs": [],
   "source": [
    "첫번째, value 변수에 [3,3,3,4,4,4,5,5,5,6,6,6,7,7,7,8,8,8,8,9,9,9,9] int값 23개를 넣는다.\n",
    " "
   ]
  },
  {
   "cell_type": "code",
   "execution_count": null,
   "metadata": {},
   "outputs": [],
   "source": []
  },
  {
   "cell_type": "code",
   "execution_count": null,
   "metadata": {},
   "outputs": [],
   "source": []
  },
  {
   "cell_type": "code",
   "execution_count": 22,
   "metadata": {},
   "outputs": [
    {
     "output_type": "stream",
     "name": "stdout",
     "text": "36\n"
    }
   ],
   "source": [
    "dial = ['ABC', 'DEF', 'GHI', 'JKL', 'MNO', 'PQRS', 'TUV', 'WXYZ'] # 길이 8개\n",
    "a = input() # a에 UNUCIC라는 대문자를 넣는다.(소문자는 )\n",
    "total = 0\n",
    "for j in range(len(a)): # j는 0~7로 총 8번 돌게됨 \n",
    "    for i in dial: # dial 변수의 첫번째는 'ABC'부터해서 돌게됨\n",
    "        if a[j] in i : # a[0] in 'ABC', a[1] in dial변수에서 요소하나씩 비교함.\n",
    "            total += dial.index(i)+3\n",
    "print(total)"
   ]
  },
  {
   "cell_type": "code",
   "execution_count": 26,
   "metadata": {},
   "outputs": [],
   "source": []
  },
  {
   "cell_type": "code",
   "execution_count": null,
   "metadata": {},
   "outputs": [],
   "source": [
    "# 하나하나 확인하는 방법이지만 긺.. \n",
    "dial = input()\n",
    "nums = []\n",
    "\n",
    "for d in dial:\n",
    "    if d in ['A', 'B', 'C']:\n",
    "        nums.append(3)\n",
    "    elif d in ['D','E', 'F']:\n",
    "        nums.append(4)\n",
    "    elif d in ['G', 'H', 'I']:\n",
    "        nums.append(5)\n",
    "    elif d in ['J', 'K', 'L']:\n",
    "        nums.append(6)\n",
    "    elif d in ['M', 'N', 'O']:\n",
    "        nums.append(7)\n",
    "    elif d in ['P', 'Q', 'R', 'S']:\n",
    "        nums.append(8)\n",
    "    elif d in ['T', 'U', 'V']:\n",
    "        nums.append(9)\n",
    "    elif d in ['W', 'X', 'Y', 'Z']:\n",
    "        nums.append(10)\n",
    "    else:\n",
    "        nums.append(11)\n",
    "\n",
    "print(sum(nums))\n",
    "\n",
    "\n",
    "#출처: https://sssunho.tistory.com/50 [sunho]"
   ]
  },
  {
   "cell_type": "code",
   "execution_count": null,
   "metadata": {},
   "outputs": [],
   "source": [
    "# 개짧은 방법\n",
    "print(sum(min(ord(c)-64,25)*28//89+3for c in input()))\n",
    "\n",
    "\n",
    "# 출처: https://sssunho.tistory.com/50 [sunho]"
   ]
  },
  {
   "cell_type": "code",
   "execution_count": null,
   "metadata": {},
   "outputs": [],
   "source": []
  },
  {
   "cell_type": "code",
   "execution_count": null,
   "metadata": {},
   "outputs": [],
   "source": []
  },
  {
   "cell_type": "code",
   "execution_count": null,
   "metadata": {},
   "outputs": [],
   "source": []
  }
 ],
 "metadata": {
  "language_info": {
   "codemirror_mode": {
    "name": "ipython",
    "version": 3
   },
   "file_extension": ".py",
   "mimetype": "text/x-python",
   "name": "python",
   "nbconvert_exporter": "python",
   "pygments_lexer": "ipython3",
   "version": "3.8.2-final"
  },
  "orig_nbformat": 2,
  "kernelspec": {
   "name": "python38264bitmymythonenvconda1f36fd18157f4376a30b6173fcd0cb3f",
   "display_name": "Python 3.8.2 64-bit ('my_mython_env': conda)"
  }
 },
 "nbformat": 4,
 "nbformat_minor": 2
}