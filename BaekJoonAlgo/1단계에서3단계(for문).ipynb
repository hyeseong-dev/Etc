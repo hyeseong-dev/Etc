{
 "cells": [
  {
   "cell_type": "markdown",
   "metadata": {},
   "source": [
    "# 1단계 입출력과 사칙연산 /n",
    "4단계, 문제번호: 10172, 제목: 개    /n",
    "아래 예제와 같이 개를 그려라/n",
    "```/n",
    "|//_/|/n",
    "|q p|   /}/n",
    "( 0 )/"/"/"///n",
    "|/"^/"`    |/n",
    "||_/=////__|"
   ]
  },
  {
   "cell_type": "code",
   "execution_count": null,
   "metadata": {},
   "outputs": [],
   "source": [
    "print('|////_/|//n|q p|    /}//n( 0 ) /"/"/"//////n|/"^/"`     |//n||_/=//// ////__|')"
   ]
  },
  {
   "cell_type": "markdown",
   "metadata": {},
   "source": [
    "### 5단계, 1000번,제목: A+B   /n",
    "두 정수 A와 B를 입력받은 다음, A+B를 출력하는 프로그램을 작성하시오./n",
    "/n",
    "<입력>   /n",
    "첫째 줄에 A와 B가 주어진다. (0 < A, B < 10)/n",
    "/n",
    "<출력>   /n",
    "첫째 줄에 A+B를 출력한다."
   ]
  },
  {
   "cell_type": "code",
   "execution_count": null,
   "metadata": {},
   "outputs": [],
   "source": [
    "def add(a,b):/n",
    "    if 0<a and b<10:/n",
    "        return a+b/n",
    "add(1,2)"
   ]
  },
  {
   "cell_type": "code",
   "execution_count": null,
   "metadata": {},
   "outputs": [],
   "source": [
    "# split()의 기본값은 공백을 기준으로 나눔. 공백이 없으면 한뭉탱이로 잡힘/n",
    "a,b =input().split('+')/n",
    "print(int(a)+int(b))"
   ]
  },
  {
   "cell_type": "markdown",
   "metadata": {},
   "source": [
    "### 6단계, 1001번,제목: A-B   /n",
    "두 정수 A와 B를 입력받은 다음, A-B를 출력하는 프로그램을 작성하시오./n",
    "/n",
    "<입력>   /n",
    "첫째 줄에 A와 B가 주어진다. (0 < A, B < 10)/n",
    "/n",
    "<출력>   /n",
    "첫째 줄에 A+B를 출력한다."
   ]
  },
  {
   "cell_type": "code",
   "execution_count": null,
   "metadata": {},
   "outputs": [],
   "source": [
    "a,b =input().split() /n",
    "print(int(a)-int(b))"
   ]
  },
  {
   "cell_type": "markdown",
   "metadata": {},
   "source": [
    "## 10950번 A+B-3   /n",
    "두 정수 A와 B를 입력 받은 다음, A+B를 출력하는 프로그램을 작성하시오. /n",
    "/n",
    "입력 : /n",
    "첫 째줄에 테스트 케이스의 개수 T가 주어진다. /n",
    "각 테스트 케이스는 한 줄로 이루어져 있으며, 각 줄에 A와B가 주어진다. (0<A, B<10)/n",
    "/n",
    "출력 : /n",
    "각 테스트 케이스마다 A+B를 출력한다. /n"
   ]
  },
  {
   "cell_type": "code",
   "execution_count": null,
   "metadata": {},
   "outputs": [],
   "source": [
    "I = int(input())/n",
    "for i in range(I):/n",
    "    a,b = input().split()/n",
    "    print(int(a)+int(b))"
   ]
  },
  {
   "cell_type": "markdown",
   "metadata": {},
   "source": [
    "## 2558번, A+B-2/n",
    "/n",
    "두 정수 A와 B를 입력 받은 다음, A+B를 출력하는 프로그램을 작성하시오. /n",
    "/n",
    "입력 : /n",
    "첫째 줄에 A, 둘째 줄에 B가 주어진다.   /n",
    " (0<A, B<10)/n",
    "/n",
    "출력 : /n",
    "각 테스트 케이스마다 A+B를 출력한다. "
   ]
  },
  {
   "cell_type": "code",
   "execution_count": null,
   "metadata": {},
   "outputs": [],
   "source": [
    "a = int(input())/n",
    "b = int(input())/n",
    "print(a+B)"
   ]
  },
  {
   "cell_type": "markdown",
   "metadata": {},
   "source": [
    "## 10951번 A+B -4"
   ]
  },
  {
   "cell_type": "code",
   "execution_count": null,
   "metadata": {},
   "outputs": [],
   "source": [
    "try:/n",
    "    while 1:/n",
    "        a,b = map(int, input().split())/n",
    "        print(a+b)/n",
    "except:/n",
    "    exit()/n",
    "# map함수는 파라키터 첫번쨰 함수를 수행해서 2번째 iterable한 객체들의 값들을 만지작만지작한다. 예를들어 여기서는 문자값을 받으면 int로 바꾸어서 a,b에 각각 저장한다. "
   ]
  },
  {
   "cell_type": "markdown",
   "metadata": {},
   "source": [
    "## 10952번, 문제: A+B-5"
   ]
  },
  {
   "cell_type": "code",
   "execution_count": null,
   "metadata": {},
   "outputs": [],
   "source": [
    "while True:/n",
    "    A,B = list(map(int, input().split()))/n",
    "    if(A==0 and B==0):/n",
    "        break/n",
    "    else:/n",
    "        print(A + B)"
   ]
  },
  {
   "cell_type": "markdown",
   "metadata": {},
   "source": [
    "## 10953번, A+B-6"
   ]
  },
  {
   "cell_type": "code",
   "execution_count": null,
   "metadata": {},
   "outputs": [],
   "source": [
    "# 런타임 에러뜸./n",
    "T = int(input()) /n",
    "for i in range(T):/n",
    "    a,b = map(int,input().split())/n",
    "    print(a+b)/n",
    "# 아래는 정답 /n",
    "i = int(input())/n",
    "/n",
    "for _ in range(i):/n",
    "    a, b = map(int, input().split(','))/n",
    "    print(a+b)"
   ]
  },
  {
   "cell_type": "markdown",
   "metadata": {},
   "source": [
    "## 11021, A+B-7"
   ]
  },
  {
   "cell_type": "code",
   "execution_count": null,
   "metadata": {},
   "outputs": [],
   "source": [
    "i = int(input())/n",
    "/n",
    "for i in range(i):/n",
    "    a, b = map(int, input().split())/n",
    "    print('Case #{}: {}'.format(i+1,a+b))"
   ]
  },
  {
   "cell_type": "markdown",
   "metadata": {},
   "source": [
    "11022, A+B-8"
   ]
  },
  {
   "cell_type": "code",
   "execution_count": null,
   "metadata": {},
   "outputs": [],
   "source": [
    "i = int(input())/n",
    "/n",
    "for i in range(i):/n",
    "    a, b = map(int, input().split())/n",
    "    print('Case #{}: {} + {} = {}'.format(i+1,a,b,a+b))"
   ]
  },
  {
   "cell_type": "markdown",
   "metadata": {},
   "source": [
    "## 15740, A+B-9"
   ]
  },
  {
   "cell_type": "code",
   "execution_count": null,
   "metadata": {},
   "outputs": [],
   "source": [
    "a,b = map(int,input().split())/n",
    "print(a+b)"
   ]
  },
  {
   "cell_type": "markdown",
   "metadata": {},
   "source": [
    "## 15792번, A/B-2"
   ]
  },
  {
   "cell_type": "code",
   "execution_count": null,
   "metadata": {},
   "outputs": [],
   "source": [
    "A, B = map(int, input().split())/n",
    "/n",
    "result = (str(A//B)+/"./")/n",
    "# print(result)/n",
    "A = (A % B) * 10/n",
    "for _ in range(1000): #계속 10씩 곱해주면서 몫을 뒤에 붙여줌/n",
    "    result += str(A // B)/n",
    "    A = (A % B) * 10/n",
    "    /n",
    "print(result)"
   ]
  },
  {
   "cell_type": "markdown",
   "metadata": {},
   "source": [
    "## 10869번, 사칙연산"
   ]
  },
  {
   "cell_type": "code",
   "execution_count": null,
   "metadata": {},
   "outputs": [],
   "source": [
    "a,b = map(int,input().split())/n",
    "print(a+b,a-b,a*b,int(a/b),a%b,sep='//n')"
   ]
  },
  {
   "cell_type": "markdown",
   "metadata": {},
   "source": [
    "## 10430번, 나머지"
   ]
  },
  {
   "cell_type": "code",
   "execution_count": null,
   "metadata": {},
   "outputs": [],
   "source": [
    "A,B,C = map(int,input().split())/n",
    "formula1 = ((A+B)%C)/n",
    "formula2 = (((A%C)+(B%C))%C)/n",
    "formula3 = ((A*B)%C)/n",
    "formula4 = (((A%C)*(B%C))%C)/n",
    "print(formula1,formula2,formula3,formula4,sep='//n')"
   ]
  },
  {
   "cell_type": "code",
   "execution_count": null,
   "metadata": {},
   "outputs": [],
   "source": [
    "A,B,C = map(int,input().split())/n",
    "print(((A+B)%C),(((A%C)+(B%C))%C),((A*B)%C),(((A%C)*(B%C))%C),sep='//n')"
   ]
  },
  {
   "cell_type": "markdown",
   "metadata": {},
   "source": [
    "## 2588번, 나머지"
   ]
  },
  {
   "cell_type": "code",
   "execution_count": null,
   "metadata": {},
   "outputs": [],
   "source": [
    "# 채점 안됨./n",
    "a,b = input(),input()/n",
    "print(a,b,type(a),type(b),sep='//n')/n",
    "print('길이:',len(a))/n",
    "/n",
    "result1=eval(a+'*'+b[-1]+'*'+str(pow(10,0)))/n",
    "result2=eval(a+'*'+b[-2]+'*'+str(pow(10,1)))/n",
    "result3=eval(a+'*'+b[-3]+'*'+str(pow(10,2)))/n",
    "/n",
    "print(result1+result2+result3)/n"
   ]
  },
  {
   "cell_type": "code",
   "execution_count": null,
   "metadata": {},
   "outputs": [],
   "source": [
    "# 백준 채점 성공./n",
    "a,b = map(int,input().split())/n",
    "print(a*(b%10),a*((b//10)%10),a*(b//100),a*b)"
   ]
  },
  {
   "cell_type": "markdown",
   "metadata": {},
   "source": [
    "# 2단계 If문"
   ]
  },
  {
   "cell_type": "markdown",
   "metadata": {},
   "source": [
    "## 1330번, 두 수 비교하기 /n",
    "```/n",
    "[문제]/n",
    "두 정수 A와 B가 주어졌을 때, A와 B를 비교하는/n",
    " 프로그램을 작성하시오./n",
    "/n",
    "[입력]/n",
    "첫째 줄에 A와 B가 주어진다. A와 B는 공백 한/n",
    " 칸으로 구분되어져 있다./n",
    "/n",
    "[출력]/n",
    "첫째 줄에 다음 세 가지 중 하나를 출력한다./n",
    "/n",
    "A가 B보다 큰 경우에는 '>'를 출력한다./n",
    "A가 B보다 작은 경우에는 '<'를 출력한다./n",
    "A와 B가 같은 경우에는 '=='를 출력한다./n",
    "제한/n",
    "-10,000 ≤ A, B ≤ 10,000/n",
    "/n",
    "[예제 입력 1]/n",
    "1 2/n",
    "[예제 출력 1] /n",
    "</n",
    "[예제 입력 2] /n",
    "10 2/n",
    "[예제 출력 2] /n",
    ">/n",
    "[예제 입력 3] /n",
    "5 5/n",
    "[예제 출력 3] /n",
    "=="
   ]
  },
  {
   "cell_type": "code",
   "execution_count": null,
   "metadata": {},
   "outputs": [],
   "source": [
    "a,b = map(int,input().split())/n",
    "if a < b:/n",
    "    print('<')/n",
    "elif a>b:/n",
    "    print('>')/n",
    "elif a == b: /n",
    "    print('==')"
   ]
  },
  {
   "cell_type": "markdown",
   "metadata": {},
   "source": [
    "## 9498번 시험성적/n",
    "```/n",
    "[문제]/n",
    "시험 점수를 입력받아 /n",
    "90 ~ 100점은 A, /n",
    "80 ~ 89점은 B, /n",
    "70 ~ 79점은 C, /n",
    "60 ~ 69점은 D, /n",
    "나머지 점수는 F를 출력하는 프로그램을 작성하시오./n",
    "/n",
    "[입력]/n",
    "첫째 줄에 시험 점수가 주어진다. 시험 점수는/n",
    " 0보다 크거나 같고, 100보다 작거나 같은 /n",
    " 정수이다./n",
    "/n",
    "[출력]/n",
    "시험 성적을 출력한다./n",
    "/n",
    "[예제 입력 1]/n",
    "100/n",
    "[예제 출력 1] /n",
    "A"
   ]
  },
  {
   "cell_type": "code",
   "execution_count": null,
   "metadata": {},
   "outputs": [],
   "source": [
    "score = int(input())/n",
    "/n",
    "if score>= 90 and score <=100:/n",
    "    print('A')/n",
    "elif score>= 80 and score <=89:/n",
    "    print('B')/n",
    "elif score>= 70 and score <=79:/n",
    "    print('C')/n",
    "elif score>= 60 and score <=69:/n",
    "    print('D')/n",
    "else:/n",
    "    print('F')"
   ]
  },
  {
   "cell_type": "code",
   "execution_count": null,
   "metadata": {},
   "outputs": [],
   "source": [
    "grade = int(input())/n",
    "if grade >= 90:/n",
    "    print(/"A/")/n",
    "elif grade >= 80:/n",
    "    print(/"B/")/n",
    "elif grade >= 70:/n",
    "    print(/"C/")/n",
    "elif grade >= 60:/n",
    "    print(/"D/")/n",
    "else:/n",
    "    print(/"F/")"
   ]
  },
  {
   "cell_type": "code",
   "execution_count": null,
   "metadata": {},
   "outputs": [],
   "source": [
    "# 상기 보완된 코드(코드가 줄여졌음.),웹참조/n",
    "grade = int(input())/n",
    "if grade >= 90:/n",
    "    print(/"A/")/n",
    "elif grade >= 80:/n",
    "    print(/"B/")/n",
    "elif grade >= 70:/n",
    "    print(/"C/")/n",
    "elif grade >= 60:/n",
    "    print(/"D/")/n",
    "else:/n",
    "    print(/"F/")"
   ]
  },
  {
   "cell_type": "markdown",
   "metadata": {},
   "source": [
    "## 2753번 윤년/n",
    "/n",
    "```/n",
    "[문제]/n",
    "연도가 주어졌을 때, 윤년이면 1, 아니면 0을 /n",
    "출력하는 프로그램을 작성하시오./n",
    "/n",
    "윤년은 연도가 4의 배수이면서, 100의 배수가 /n",
    "아닐 때 또는 400의 배수일 때이다./n",
    "/n",
    "예를 들어, 2012년은 4의 배수이면서 100의 /n",
    "배수가 아니라서 윤년이다. 1900년은 100의 /n",
    "배수이고 400의 배수는 아니기 때문에 윤년이 /n",
    "아니다. 하지만, 2000년은 400의 배수이기 때문에/n",
    " 윤년이다./n",
    "/n",
    "[입력]/n",
    "첫째 줄에 연도가 주어진다. 연도는 1보다 크거나/n",
    " 같고, 4000보다 작거나 같은 자연수이다./n",
    "/n",
    "[출력]/n",
    "첫째 줄에 윤년이면 1, 아니면 0을 출력한다./n",
    "/n",
    "[예제 입력 1] /n",
    "2000/n",
    "[예제 출력 1] /n",
    "1/n",
    "[예제 입력 2] /n",
    "1999/n",
    "[예제 출력 2] /n",
    "0"
   ]
  },
  {
   "cell_type": "code",
   "execution_count": null,
   "metadata": {},
   "outputs": [],
   "source": [
    "while 1 : /n",
    "    leap_year = int(input('연도:'))/n",
    "/n",
    "    if leap_year == 0:/n",
    "        break/n",
    "    elif ((leap_year%4==0) and (leap_year%100!= 0)) or leap_year%400==0:/n",
    "        print(1)/n",
    "    else:/n",
    "        print(0)"
   ]
  },
  {
   "cell_type": "markdown",
   "metadata": {},
   "source": [
    "## 14681번, 사분면"
   ]
  },
  {
   "cell_type": "code",
   "execution_count": null,
   "metadata": {},
   "outputs": [],
   "source": [
    "x = int(input())/n",
    "y = int(input())/n",
    "if (x>0 and y>0)  : /n",
    "    print(1)/n",
    "elif (x<0 and y>0)  :/n",
    "    print(2)/n",
    "elif (x<0 and y<0)  :/n",
    "    print(3)/n",
    "else:/n",
    "    print(4) "
   ]
  },
  {
   "cell_type": "markdown",
   "metadata": {},
   "source": [
    "## 2884번 알람시계 /n",
    "입력/n",
    "첫째 줄에 두 정수 H와 M이 주어진다./n",
    " (0 ≤ H ≤ 23, 0 ≤ M ≤ 59)/n",
    "  그리고 이것은 현재 상근이가 설정해 놓은 알람 시간 H시 M분을 의미한다./n",
    "/n",
    "입력 시간은 24시간 표현을 사용한다.     /n",
    "24시간 표현에서 하루의 시작은 0:0(자정)이고,   /n",
    "끝은 23:59(다음날 자정 1분 전)이다.   /n",
    "시간을 나타낼 때, 불필요한 0은 사용하지 않는다."
   ]
  },
  {
   "cell_type": "code",
   "execution_count": null,
   "metadata": {},
   "outputs": [],
   "source": [
    "hour,minute = map(int, input().split())/n",
    "/n",
    "if minute > 44:/n",
    "    print(hour, minute-45)/n",
    "elif minute <= 44 and hour >= 1:/n",
    "    print(hour-1, minute+15)/n",
    "else: # 00시 혹은 24시인 경우를 처리 하기 위한 else문/n",
    "    print(23, minute+15)"
   ]
  },
  {
   "cell_type": "markdown",
   "metadata": {},
   "source": [
    "#### 1. 시각에 대한 산술적 개념 필요./n",
    "- 24:00 == 00:00 == 23:60 동일한 표현/n",
    "- 현재 분이 45분 이상일때와 45분 미만일때 구분 /n",
    "```/n",
    "예.(45분전) 현재 시각 : 01:44 --> 44-45 = 59분-->00:59분 /n",
    "                       24:43 --> 43-45 = 58분-->23:58분/n",
    "                       02:42 --> 42-45 = 57분-->01:57분/n",
    "                       12:41 --> 41-45 = 56분-->11:56분/n",
    "                       23:00 --> 00-45 = 15분-->22:15분/n"
   ]
  },
  {
   "cell_type": "code",
   "execution_count": null,
   "metadata": {},
   "outputs": [],
   "source": [
    "# 이해한 소스코드 /n",
    "h, m = map(int,input().split())/n",
    "if m>=45:/n",
    "    print(h,m-45)/n",
    "elif m<45 and h>0 :/n",
    "    print(h-1,m+15)/n",
    "elif h in(0,24) and m<45:/n",
    "    h=24/n",
    "    print(h-1,m+15)"
   ]
  },
  {
   "cell_type": "code",
   "execution_count": null,
   "metadata": {},
   "outputs": [],
   "source": [
    "# 웹사이트 소스코드/n",
    "hour,minute = map(int, input().split())/n",
    "/n",
    "if minute > 44:/n",
    "    print(hour, minute-45)/n",
    "elif minute <= 44 and hour >= 1:/n",
    "    print(hour-1, minute+15)/n",
    "else:/n",
    "    print(23, minute+15)"
   ]
  },
  {
   "cell_type": "markdown",
   "metadata": {},
   "source": [
    "# 3단계 for문"
   ]
  },
  {
   "cell_type": "markdown",
   "metadata": {},
   "source": [
    "## 2739번, 구구단"
   ]
  },
  {
   "cell_type": "code",
   "execution_count": null,
   "metadata": {},
   "outputs": [],
   "source": [
    "times_table = int(input())/n",
    "for i in range(1,10):/n",
    "    print('{} * {} = {}'.format(times_table,i,times_table*i))"
   ]
  },
  {
   "cell_type": "markdown",
   "metadata": {},
   "source": [
    "## 8393번, 합/n",
    "n이 주어졌을 때, 1부터 n까지 합을 구하는   /n",
    " 프로그램을 작성하시오."
   ]
  },
  {
   "cell_type": "code",
   "execution_count": null,
   "metadata": {},
   "outputs": [],
   "source": [
    "n = int(input())/n",
    "result =[] /n",
    "for i in range(1,n+1):/n",
    "    result = result.append(i) /n",
    "print(sum)"
   ]
  },
  {
   "cell_type": "code",
   "execution_count": null,
   "metadata": {},
   "outputs": [],
   "source": [
    "[sum(result) for i in range(1,(int(input())+1)) result = result.append(i)]"
   ]
  },
  {
   "cell_type": "markdown",
   "metadata": {},
   "source": [
    "## 15552번, 빠른 A+B/n",
    "```/n",
    "예제 입력 1 /n",
    "5/n",
    "1 1/n",
    "12 34/n",
    "5 500/n",
    "40 60/n",
    "1000 1000/n",
    "/n",
    "예제 출력 1 /n",
    "2/n",
    "46/n",
    "505/n",
    "100/n",
    "2000"
   ]
  },
  {
   "cell_type": "code",
   "execution_count": null,
   "metadata": {},
   "outputs": [],
   "source": [
    "row_number = int(input())/n",
    "/n",
    "for _ in range(row_number):/n",
    "    a,b = map(int,sys.stdin.readline().split())/n",
    "    print(a+b)"
   ]
  },
  {
   "cell_type": "markdown",
   "metadata": {},
   "source": [
    "## 2741번 N찍기 / 2742번 기찍N"
   ]
  },
  {
   "cell_type": "code",
   "execution_count": null,
   "metadata": {},
   "outputs": [],
   "source": [
    "number = int(input())/n",
    "for i in range(number,0,-1):/n",
    "    print(i)"
   ]
  },
  {
   "cell_type": "markdown",
   "metadata": {},
   "source": [
    "## 2438번, 별찍기 2439번, 별찍기2/n",
    "```/n",
    "입력: 5/n",
    "*/n",
    "**/n",
    "***/n",
    "****/n",
    "*****/n"
   ]
  },
  {
   "cell_type": "code",
   "execution_count": null,
   "metadata": {},
   "outputs": [],
   "source": [
    "number = int(input())/n",
    "for i in range(1,number+1):/n",
    "    print('{:>5}'.format('*'*i))"
   ]
  },
  {
   "cell_type": "code",
   "execution_count": null,
   "metadata": {},
   "outputs": [],
   "source": [
    "number = int(input())/n",
    "for i in range(1,number+1):/n",
    "    print('*'*i)"
   ]
  },
  {
   "cell_type": "code",
   "execution_count": null,
   "metadata": {},
   "outputs": [],
   "source": [
    "a=int(input())/n",
    "for i in range(1,a+1):/n",
    "    print(/" /"*(a-i) + /"*/"*i)"
   ]
  },
  {
   "cell_type": "code",
   "execution_count": null,
   "metadata": {},
   "outputs": [],
   "source": [
    "n = int(input())/n",
    "for i in range(1,n+1):/n",
    "    print(' '*((n+1)-i)+'*'*i)/n",
    "/n"
   ]
  },
  {
   "cell_type": "code",
   "execution_count": null,
   "metadata": {},
   "outputs": [],
   "source": [
    "import random/n",
    "/n",
    "a=[random.randint(1,10) for r in range(10)]/n",
    "print(a)/n",
    "b=random.sample(a,10)/n",
    "print(b)/n"
   ]
  },
  {
   "cell_type": "code",
   "execution_count": null,
   "metadata": {},
   "outputs": [],
   "source": [
    "a,b = map(int,input().split())/n",
    "c = list(map(int,input().split()))/n",
    "print(a,b,c)/n",
    "for i in c:/n",
    "    if i<b:/n",
    "        print(i,end=' ')"
   ]
  },
  {
   "cell_type": "code",
   "execution_count": null,
   "metadata": {},
   "outputs": [],
   "source": [
    "a1, a2 = map(int, input().split())/n",
    "b = list(map(int, input().split()))/n",
    "/n",
    "for i in b:/n",
    "    if i < a2:/n",
    "        print(i, end=/" /")"
   ]
  },
  {
   "cell_type": "markdown",
   "metadata": {},
   "source": [
    "## 1110번 더하기 사이클 /n"
   ]
  },
  {
   "cell_type": "code",
   "execution_count": 10,
   "metadata": {},
   "outputs": [
    {
     "ename": "SyntaxError",
     "evalue": "invalid syntax (<ipython-input-10-7ff91a9e56a9>, line 11)",
     "output_type": "error",
     "traceback": [
      "/u001b[1;36m  File /u001b[1;32m/"<ipython-input-10-7ff91a9e56a9>/"/u001b[1;36m, line /u001b[1;32m11/u001b[0m/n/u001b[1;33m    print(cycle)/tplus_num=(a//10)+(a%10)/u001b[0m/n/u001b[1;37m                /t^/u001b[0m/n/u001b[1;31mSyntaxError/u001b[0m/u001b[1;31m:/u001b[0m invalid syntax/n"
     ]
    }
   ],
   "source": [
    "a = 55/n",
    "combined_num,sum_num,cycle=0,0,0/n",
    "verify=a/n",
    "while True:/n",
    "    sum_num=(a//10)+(a%10)/n",
    "    combined_num= (a%10)*10+(sum_num%10)/n",
    "    cycle=cycle+1/n",
    "    a = combined_num/n",
    "    if combined_num == verify:/n",
    "        break/t/n",
    "print(cycle)/tplus_num=(a//10)+(a%10)/n",
    "/t/tcombined_num= (a%10)*10+(plus_num%10)/n",
    "/t/tcycle=cycle+1/n",
    "/t/tif combined_num == verify:/n",
    "/t/t/tbreak/t/n",
    "print(cycle)"
   ]
  },
  {
   "cell_type": "code",
   "execution_count": null,
   "metadata": {},
   "outputs": [],
   "source": []
  }
 ],
 "metadata": {
  "file_extension": ".py",
  "kernelspec": {
   "display_name": "Python 3.8.1 64-bit ('pytorch': conda)",
   "language": "python",
   "name": "python38164bitpytorchcondae2e836418e8f4945879c9669572061e2"
  },
  "language_info": {
   "codemirror_mode": {
    "name": "ipython",
    "version": 3
   },
   "file_extension": ".py",
   "mimetype": "text/x-python",
   "name": "python",
   "nbconvert_exporter": "python",
   "pygments_lexer": "ipython3",
   "version": "3.8.1"
  },
  "mimetype": "text/x-python",
  "name": "python",
  "npconvert_exporter": "python",
  "pygments_lexer": "ipython3",
  "version": 3
 },
 "nbformat": 4,
 "nbformat_minor": 4
}
