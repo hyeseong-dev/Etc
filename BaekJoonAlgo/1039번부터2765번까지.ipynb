{
 "cells": [
  {
   "cell_type": "code",
   "execution_count": null,
   "metadata": {},
   "outputs": [],
   "source": []
  },
  {
   "cell_type": "markdown",
   "metadata": {},
   "source": [
    "## 10039번 평균 점수"
   ],
   "execution_count": null,
   "outputs": []
  },
  {
   "cell_type": "code",
   "execution_count": null,
   "metadata": {},
   "outputs": [],
   "source": [
    "score_list = [int(input()) for i in range(5)]\n",
    "for i in range(len(score_list)):\n",
    "    if score_list[i]<40:\n",
    "        score_list[i]=40\n",
    "print(sum(score_list)/len(score_list))"
   ]
  },
  {
   "cell_type": "code",
   "execution_count": null,
   "metadata": {},
   "outputs": [],
   "source": [
    "# 리스트 컴프리헨션 1\n",
    "score = [int(input()) for _ in range(5)]\n",
    "score = [40 if x<40 else x for x in score]\n",
    "print(int(sum(score)/len(score)))\n",
    ""
   ]
  },
  {
   "cell_type": "code",
   "execution_count": null,
   "metadata": {},
   "outputs": [],
   "source": [
    "#리스트 컴프리헨션 2\n",
    "print(sum([40 if i<40 else i for i in [int(input()) for i in range(5)]])/5)"
   ]
  },
  {
   "cell_type": "markdown",
   "metadata": {},
   "source": [
    "## 5543번, 상근날드"
   ],
   "execution_count": null,
   "outputs": []
  },
  {
   "cell_type": "code",
   "execution_count": null,
   "metadata": {},
   "outputs": [],
   "source": [
    "a,c = [[int(input()) for _ in range(3)],\n",
    "    [int(input()) for _ in range(2)],\n",
    "],[]\n",
    "for i in range(len(a[0]))  : \n",
    "    for j in range(len(a[1])):\n",
    "        c.append(a[0][i]+a[1][j]-50)\n",
    "print(min(c))"
   ]
  },
  {
   "cell_type": "markdown",
   "metadata": {},
   "source": [
    "## 10817번, 세 수"
   ],
   "execution_count": null,
   "outputs": []
  },
  {
   "cell_type": "code",
   "execution_count": null,
   "metadata": {},
   "outputs": [],
   "source": [
    "# sort(),sorted()의 정렬을 통한 방법\n",
    "a= list(map(int,input().split()))\n",
    "a.sort(reverse = 1)\n",
    "print(a[1])"
   ]
  },
  {
   "cell_type": "code",
   "execution_count": null,
   "metadata": {},
   "outputs": [],
   "source": [
    "# 전형적인 비교 방법\n",
    "a = [4,6,7]\n",
    "if(a >= b):\n",
    "    if(a >= c):\n",
    "        if(b >= c):\n",
    "            print(b)\n",
    "        else:\n",
    "            print(c)\n",
    "    else:\n",
    "        print(a)\n",
    "else:\n",
    "    if(b >= c):\n",
    "        if(a >= c):\n",
    "            print(a)\n",
    "        else:\n",
    "            print(c)\n",
    "    else:\n",
    "        print(b)"
   ]
  },
  {
   "cell_type": "code",
   "execution_count": null,
   "metadata": {},
   "outputs": [],
   "source": []
  },
  {
   "cell_type": "code",
   "execution_count": null,
   "metadata": {},
   "outputs": [],
   "source": []
  },
  {
   "cell_type": "markdown",
   "metadata": {},
   "source": [
    "## 2523 별찍기-13"
   ],
   "execution_count": null,
   "outputs": []
  },
  {
   "cell_type": "code",
   "execution_count": null,
   "metadata": {},
   "outputs": [],
   "source": [
    "a= int(input())\n",
    "for i in range(1,a+1):\n",
    "    print('*'*i)\n",
    "for i in range(1,a):\n",
    "    print('*'*(a-i))"
   ]
  },
  {
   "cell_type": "markdown",
   "metadata": {},
   "source": [
    "## 2523 별찍기-9"
   ],
   "execution_count": null,
   "outputs": []
  },
  {
   "cell_type": "code",
   "execution_count": null,
   "metadata": {},
   "outputs": [],
   "source": [
    "a = int(input())\n",
    "for i in range(a+4,a-5,a-7):\n",
    "    print('{:^9}'.format('*'*i))\n",
    "for i in range(a-2,a+5,a-3):\n",
    "    print('{:^9}'.format('*'*i))"
   ]
  },
  {
   "cell_type": "markdown",
   "metadata": {},
   "source": [
    "## 10996번 별 찍기-21"
   ],
   "execution_count": null,
   "outputs": []
  },
  {
   "cell_type": "code",
   "execution_count": null,
   "metadata": {},
   "outputs": [],
   "source": [
    "a = int(input())\n",
    "\n",
    "for i in range(1,a+1):\n",
    "    if a%2==0:          #2의배수(O)  ->2,4\n",
    "        print(((a//2))*('*'+' '))  \n",
    "        print((' '+'*')*(a//2))  \n",
    "    elif a%2!=0:        # 2의배수(X) ->1,3\n",
    "        print(('*'+' ')*((a//2)+1))\n",
    "        print((' '+'*')*(a//2))"
   ]
  },
  {
   "cell_type": "markdown",
   "metadata": {},
   "source": [
    "## 10818번 최소,최대\n",
    "```\n",
    "예제 입력 1 \n",
    "5\n",
    "20 10 35 30 7\n",
    "\n",
    "예제 출력 1 \n",
    "7 35"
   ],
   "execution_count": null,
   "outputs": []
  },
  {
   "cell_type": "code",
   "execution_count": null,
   "metadata": {},
   "outputs": [],
   "source": [
    "setpoint = "
   ]
  },
  {
   "cell_type": "code",
   "execution_count": null,
   "metadata": {},
   "outputs": [],
   "source": [
    "numbers = 5\n",
    "number_list = [20, 10, 35,30,1]\n",
    "\n",
    "max_num = number_list[0]\n",
    "min_num = number_list[0]\n",
    "for num in number_list:\n",
    "    \n",
    "    if num > max_num:\n",
    "        max_num = num\n",
    "    if num < min_num:\n",
    "        min_num = num\n",
    "\n",
    "print(min_num, max_num)"
   ]
  },
  {
   "cell_type": "code",
   "execution_count": null,
   "metadata": {},
   "outputs": [],
   "source": [
    "numbers = 5\n",
    "lists = [4,7,1,7,4]\n",
    "max_num = lists[0]\n",
    "min_num = lists[0]\n",
    "for num_item in lists:\n",
    "    if num_item > max_num:\n",
    "        max_num = num_item\n",
    "    if num_item < min_num:\n",
    "        min_num = num_item\n",
    "\n",
    "print(min_num,max_num)\n",
    ""
   ]
  },
  {
   "cell_type": "code",
   "execution_count": null,
   "metadata": {},
   "outputs": [],
   "source": [
    "# 약간 야매 방법임 \n",
    "numbers = int(input())\n",
    "lists = list(map(int,input().split()))\n",
    "print(max(lists),min(lists))"
   ]
  },
  {
   "cell_type": "markdown",
   "metadata": {},
   "source": [
    "## 2562번, 최댓값\n",
    "```\n",
    "<문제>\n",
    "9개의 서로 다른 자연수가 주어질 때, 이들 중 최댓값을 찾고 그 최댓값이 몇 번째 수인지를 구하는 프로그램을 작성하시오.\n",
    "\n",
    "예를 들어, 서로 다른 9개의 자연수\n",
    "\n",
    "3, 29, 38, 12, 57, 74, 40, 85, 61\n",
    "\n",
    "이 주어지면, 이들 중 최댓값은 85이고, 이 값은 8번째 수이다.\n",
    "\n",
    "<입력>\n",
    "첫 째 줄부터 아홉 번째 줄까지 한 줄에 하나의 자연수가 주어진다. 주어지는 자연수는 100 보다 작다.\n",
    "\n",
    "<출력>\n",
    "첫째 줄에 최댓값을 출력하고, 둘째 줄에 최댓값이 몇 번째 수인지를 출력한다.\n",
    "\n",
    "<예제 입력 1 >\n",
    "3\n",
    "29\n",
    "38\n",
    "12\n",
    "57\n",
    "74\n",
    "40\n",
    "85\n",
    "61\n",
    "\n",
    "<예제 출력 1 >\n",
    "85\n",
    "8"
   ],
   "execution_count": null,
   "outputs": []
  },
  {
   "cell_type": "code",
   "execution_count": null,
   "metadata": {},
   "outputs": [],
   "source": [
    "num_list=[]\n",
    "# print(num_list)\n",
    "for i in range(9):\n",
    "    num_list.append(int(input()))\n",
    "    # num_list[i]=int(input())\n",
    "print(max(num_list),(num_list.index(max(num_list))+1),sep='\\n')"
   ]
  },
  {
   "cell_type": "markdown",
   "metadata": {},
   "source": [
    "## 2577번 숫자의 개수"
   ],
   "execution_count": null,
   "outputs": []
  },
  {
   "cell_type": "code",
   "execution_count": null,
   "metadata": {},
   "outputs": [],
   "source": [
    "num1 = int(input())\n",
    "num2 = int(input())\n",
    "num3 = int(input())\n",
    "\n",
    "str_num = str(num1*num2*num3)\n",
    "print(str_num)\n",
    "for i in range(10):\n",
    "    print(str_num.count(str(i)))"
   ]
  },
  {
   "cell_type": "markdown",
   "metadata": {},
   "source": [
    "## 3052번 나머지 \n",
    "```\n",
    "<문제>\n",
    "두 자연수 A와 B가 있을 때, A%B는 A를 B로 나눈 나머지 이다. 예를 들어, 7, 14, 27, 38을 3으로 나눈 나머지는 1, 2, 0, 2이다. \n",
    "\n",
    "수 10개를 입력받은 뒤, 이를 42로 나눈 나머지를 구한다. 그 다음 서로 다른 값이 몇 개 있는지 출력하는 프로그램을 작성하시오.\n",
    "\n",
    "<입력>\n",
    "첫째 줄부터 열번째 줄 까지 숫자가 한 줄에 하나씩 주어진다. 이 숫자는 1,000보다 작거나 같고, 음이 아닌 정수이다.\n",
    "\n",
    "<출력>\n",
    "첫째 줄에, 42로 나누었을 때, 서로 다른 나머지가 몇 개 있는지 출력한다.\n",
    "\n",
    "<예제 입력 1 >\n",
    "39\n",
    "40\n",
    "41\n",
    "42\n",
    "43\n",
    "44\n",
    "82\n",
    "83\n",
    "84\n",
    "85\n",
    "\n",
    "<예제 출력 1 >\n",
    "6"
   ],
   "execution_count": null,
   "outputs": []
  },
  {
   "cell_type": "code",
   "execution_count": null,
   "metadata": {},
   "outputs": [],
   "source": [
    "a = []\n",
    "for i in range(10):\n",
    "    input_num = int(input())\n",
    "    a.append(input_num%42)\n",
    "print(len(set(a)))"
   ]
  },
  {
   "cell_type": "markdown",
   "metadata": {},
   "source": [
    "\n",
    "1.입력을 10번의 enter를 받아서 진행함.\n",
    "\n",
    "2.첫 입력값이 바로 42로 나눠니고 그 나머지(remainder가) 리스트 변수 a에 한턴씩 차곡차곡 쌓이게 된다. \n",
    "\n",
    "3.그렇게 range(10)함수가 10번(0~9인덱스까지)돌아가면 a리스트에는 입력된 값들 하나하나의 42로 나눈값들이 저장되었음 \n",
    "\n",
    "4. 여기서 !!!!중요한게 set()함수의 특성을 알아야 한다.\n",
    "\n",
    "5.  집합자료형으로 바꿔주는 set()는\n",
    "**첫째.** 중복을 허용하지 않는다. (예. \\[1,1,1,2\\] ->\\[1,2\\]로 1 한개만 보여줄뿐.    \n",
    "**둘째** 순서가 없다. 즉 인덱스 기능을 가지지 못해서 에러사항이 있다.(list,tuple로 바꿔서 사용하면 되겠조?)\n",
    "                                    \n",
    "6. set()함수로 집합자료형으로 변경한뒤 중복되지 않은 알짜배기 값들 하나하나를 볼수 있다. \n",
    "\n",
    "7. 그 전체 리스트 개수를 볼려면 len()를 쓰면 답이 도출된다. \n"
   ],
   "execution_count": null,
   "outputs": []
  },
  {
   "cell_type": "code",
   "execution_count": null,
   "metadata": {},
   "outputs": [],
   "source": [
    "num_list = []\n",
    "for _ in range(10):\n",
    "    num = int(input())\n",
    "    num_list.append(num % 42)\n",
    "num_list = set(num_list)\n",
    "print(len(num_list))"
   ]
  },
  {
   "cell_type": "code",
   "execution_count": null,
   "metadata": {},
   "outputs": [],
   "source": [
    "a = [(int(input())%42) for _ in range(10)]\n",
    "print(set(len(a))\n",
    "\n",
    "#아래 소스코드는 위의 코드를 좀더 콤팩트하게 압축한 소스코드이다. \n",
    "# print(len(set([(int(input())%42) for _ in range(10)])))"
   ]
  },
  {
   "cell_type": "markdown",
   "metadata": {},
   "source": [
    "## 1546번 평균\n",
    "\n",
    "<문제>\n",
    "세준이는 기말고사를 망쳤다. 세준이는 점수를 조작해서 집에 가져가기로 했다. 일단 세준이는 자기 점수 중에 최댓값을 골랐다. 이 값을 M이라고 한다. 그리고 나서 모든 점수를 점수/M*100으로 고쳤다.\n",
    "\n",
    "예를 들어, 세준이의 최고점이 70이고, 수학점수가 50이었으면 수학점수는 50/70*100이 되어 71.43점이 된다.\n",
    "\n",
    "세준이의 성적을 위의 방법대로 새로 계산했을 때, 새로운 평균을 구하는 프로그램을 작성하시오.\n",
    "\n",
    "<입력>\n",
    "첫째 줄에 시험 본 과목의 개수 N이 주어진다. 이 값은 1000보다 작거나 같다. 둘째 줄에 세준이의 현재 성적이 주어진다. 이 값은 100보다 작거나 같은 음이 아닌 정수이고, 적어도 하나의 값은 0보다 크다.\n",
    "\n",
    "<출력>\n",
    "첫째 줄에 새로운 평균을 출력한다. 실제 정답과 출력값의 절대오차 또는 상대오차가 10-2 이하이면 정답이다.\n",
    "```\n",
    "예제 입력 \n",
    "3\n",
    "40 80 60\n",
    "\n",
    "예제 출력 \n",
    "75.0\n",
    "\n",
    "예제 입력 \n",
    "3\n",
    "10 20 30\n",
    "\n",
    "예제 출력 \n",
    "66.666667\n",
    "10-2 이하의 오차를 허용한다는 말은 정확히 소수 2번째 자리까지 출력하라는 뜻이 아니다.\n",
    "\n",
    "예제 입력 \n",
    "4\n",
    "1 100 100 100\n",
    "\n",
    "예제 출력 \n",
    "75.25\n",
    "\n",
    "예제 입력 \n",
    "5\n",
    "1 2 4 8 16\n",
    "\n",
    "예제 출력 \n",
    "38.75\n",
    "\n",
    "예제 입력 \n",
    "2\n",
    "3 10\n",
    "\n",
    "예제 출력 \n",
    "65.0"
   ],
   "execution_count": null,
   "outputs": []
  },
  {
   "cell_type": "code",
   "execution_count": null,
   "metadata": {},
   "outputs": [],
   "source": [
    "subject_num = int(input())\n",
    "a = list(map(int,input().split()))\n",
    "m = max(a)\n",
    "sum_ = 0\n",
    "for i in range(subject_num):\n",
    "    sum_ = sum_+(a[i]/m*100)\n",
    "print(sum_/subject_num)"
   ]
  },
  {
   "cell_type": "code",
   "execution_count": null,
   "metadata": {},
   "outputs": [],
   "source": [
    "subject_num = int(input())\n",
    "n = list(map(int,input().split()))\n",
    "print(sum([(n[i]/max(n)*100) for i in range(subject_num)])/subject_num)\n",
    ""
   ]
  },
  {
   "cell_type": "markdown",
   "metadata": {},
   "source": [
    "## 8958번, OX퀴즈"
   ],
   "execution_count": null,
   "outputs": []
  },
  {
   "cell_type": "code",
   "execution_count": null,
   "metadata": {},
   "outputs": [],
   "source": [
    "import sys\n",
    "\n",
    "cycle = int(input())\n",
    "for i in range(0,cycle):\n",
    "    combo=0\n",
    "    count=0\n",
    "    s = list(sys.stdin.readline())\n",
    "    for c in s:\n",
    "        if c == 'O':\n",
    "            count += 1+combo\n",
    "            combo +=1\n",
    "        else: \n",
    "            combo = 0\n",
    "print(count)"
   ]
  },
  {
   "cell_type": "code",
   "execution_count": null,
   "metadata": {},
   "outputs": [],
   "source": [
    "N = int(input())\n",
    "for _ in range(N):\n",
    "        result = input() \n",
    "        score = [0]*len(result)\n",
    "        \n",
    "        if result[0]==\"O\":  \n",
    "        score[0]=1\n",
    "        \n",
    "        for j in range(1,len(result)):\n",
    "            if result[j] == \"O\":\n",
    "                score[j] = score[j-1]+1\n",
    "\n",
    "        print(sum(score))   "
   ]
  },
  {
   "cell_type": "markdown",
   "metadata": {},
   "source": [
    "## 4344번 평균은 넘겠지\n"
   ],
   "execution_count": null,
   "outputs": []
  },
  {
   "cell_type": "code",
   "execution_count": null,
   "metadata": {},
   "outputs": [],
   "source": [
    "T=int(input())\n",
    "a = []\n",
    "for i in range(T):\n",
    "    b = list(map(int,input().split(' '))) # 처음 [5,50, 50, 70, 80, 100] 입력\n",
    "    average_num = sum(b[1:])/b[0]         # 평균값(70)이 average_num 변수에 담김\n",
    "    another_list = [i for i in b[1:] if i>average_num] #평균값을 초과하는 값만 average_num 변수에 담김\n",
    "    a.append(round(len(another_list)/ b[0] * 100,3))\n",
    "for i in a:\n",
    "    print(str('%.3f'%i)+'%') # %.3f 요표현 안해주면 채점시 오류남."
   ]
  },
  {
   "cell_type": "markdown",
   "metadata": {},
   "source": [
    "## 15596번 정수 N개의 합\n",
    "\n",
    "정수 n개가 주어졌을 때, n개의 합을 구하는 함수를 작성하시오.\n",
    "\n",
    "Python 2, Python 3, PyPy, PyPy3: def solve(a: list) -> int   \n",
    "a: 합을 구해야 하는 정수 n개가 저장되어 있는 리스트 (0 ≤ a[i]≤ 1,000,000, 1 ≤ n ≤ 3,000,000)      \n",
    "리턴값: a에 포함되어 있는 정수 n개의 합 (정수)   \n"
   ],
   "execution_count": null,
   "outputs": []
  },
  {
   "cell_type": "code",
   "execution_count": null,
   "metadata": {},
   "outputs": [],
   "source": [
    "def add(num_list):\n",
    "    result = 0\n",
    "    for i in num_list:\n",
    "        result+=i\n",
    "    return result\n",
    "\n",
    "add([1,2,3])"
   ]
  },
  {
   "cell_type": "markdown",
   "metadata": {},
   "source": [
    "## Self Number 어려움(넥슨 입사 기출문제)\n"
   ],
   "execution_count": null,
   "outputs": []
  },
  {
   "cell_type": "code",
   "execution_count": null,
   "metadata": {},
   "outputs": [],
   "source": [
    "natural_number_set = set(range(1,10001))\n",
    "generated_number_set= set()\n",
    "\n",
    "for i in range(1,10001):\n",
    "    for j in str(i):\n",
    "        i = i + int(j)\n",
    "    generated_number_set.add(i)\n",
    "\n",
    "self_number_set = natural_number_set - generated_number_set\n",
    "\n",
    "for i in sorted(self_number_set):\n",
    "    print(i)"
   ]
  },
  {
   "cell_type": "code",
   "execution_count": null,
   "metadata": {
    "tags": [
     "outputPrepend",
     "outputPrepend",
     "outputPrepend"
    ]
   },
   "outputs": [],
   "source": [
    "natural_number_set = set(range(1, 21))\n",
    "generated_number_set = set()\n",
    "\n",
    "for i in range(1, 21):\n",
    "    print('currnet i = ' + str(i))\n",
    "    for j in str(i):\n",
    "        print('currnet j = ' + str(j))\n",
    "        i += int(j)\n",
    "    print('**managed num = ' + str(i))\n",
    "    generated_number_set.add(i)\n",
    "    print()\n",
    "\n",
    "print(generated_number_set)\n",
    "print(natural_number_set)\n",
    "\n",
    "self_numbers_set = natural_number_set - generated_number_set\n",
    "print(sorted(self_numbers_set))\n",
    ""
   ]
  },
  {
   "cell_type": "code",
   "execution_count": null,
   "metadata": {},
   "outputs": [],
   "source": [
    "def d(n):\n",
    "    a = 0\n",
    "    for x in list(str(n)):\n",
    "        a = a + int(x) \n",
    "    return int(n) + a\n",
    "\n",
    "a=[d(i) for i in range(1,101)]\n",
    "a= []\n",
    "for i in range(1,101):\n",
    "    k = d(i)\n",
    "    a.append(k)\n",
    "[b if b not in a else for b in range(1,101)]\n",
    "for b in range(1, 101):\n",
    "    if b in a:\n",
    "        pass\n",
    "    else:\n",
    "        print(b)"
   ]
  },
  {
   "cell_type": "code",
   "execution_count": null,
   "metadata": {},
   "outputs": [],
   "source": [
    "# 내가 최대한 다른 소스코드 보면서 줄인거.\n",
    "def d(n):\n",
    "    a = 0\n",
    "    for x in list(str(n)):\n",
    "        a = a + int(x) \n",
    "    return int(n) + a\n",
    "\n",
    "b= [b for b in range(1,101) if b not in [d(i) for i in range(1,10001)]]\n",
    "for i in b:\n",
    "    print(i)"
   ]
  },
  {
   "cell_type": "code",
   "execution_count": null,
   "metadata": {},
   "outputs": [],
   "source": [
    "# 종범씨 코드 \n",
    "x = 100\n",
    "# 구할 범위\n",
    "\n",
    "y = sorted(set(range(x)) - {sum(map(lambda x: int(x), list(str(i))))+i for i in range(x)})\n"
   ]
  },
  {
   "cell_type": "code",
   "execution_count": null,
   "metadata": {},
   "outputs": [],
   "source": [
    "x=20\n",
    "a = {sum(map(lambda x: int(x), list(str(i))))+i for i in range(x)}\n",
    "# b = {i+i for i in range(20)}\n",
    "print(a)\n",
    "# print(b)\n",
    ""
   ]
  },
  {
   "cell_type": "markdown",
   "metadata": {},
   "source": [
    "## 1065번 한수 \n",
    "등차 수열에 대한 이해가 필요. \n",
    "일단 등차수열 공식 암기하세요. \n",
    "<공식>\n",
    " 첫항+(N-1)등차"
   ],
   "execution_count": null,
   "outputs": []
  },
  {
   "cell_type": "code",
   "execution_count": null,
   "metadata": {},
   "outputs": [],
   "source": [
    "def arithmetic_checker(input_number):\n",
    "    result = False\n",
    "    number_list = [int(i) for i in [*str(input_number)]]\n",
    "    if len(number_list) < 3:\n",
    "        result = True\n",
    "    else:\n",
    "        first_common_difference = number_list[1] - number_list[0]\n",
    "        for i in range(0, len(number_list) - 1):\n",
    "            common_difference = number_list[i + 1] - number_list[i]\n",
    "            if first_common_difference != common_difference:\n",
    "                result = False\n",
    "                break\n",
    "            else:\n",
    "                result = True\n",
    "    return result\n",
    "\n",
    "\n",
    "arithmetic_count = 0\n",
    "input_number = int(input())\n",
    "for i in range(1, input_number + 1):\n",
    "    arithmetic_count += arithmetic_checker(i)\n",
    "\n",
    "print(arithmetic_count)\n"
   ]
  },
  {
   "cell_type": "code",
   "execution_count": null,
   "metadata": {},
   "outputs": [],
   "source": [
    "def test(*arggs):\n",
    "    print(arggs)\n",
    "\n",
    "test('a','b','c')"
   ]
  },
  {
   "cell_type": "code",
   "execution_count": null,
   "metadata": {},
   "outputs": [],
   "source": [
    "def test(**arggs):\n",
    "    print(arggs)\n",
    "a={'a':'1','b':'2','c':3}\n",
    "test(**a)\n",
    ""
   ]
  },
  {
   "cell_type": "code",
   "execution_count": null,
   "metadata": {},
   "outputs": [],
   "source": []
  },
  {
   "cell_type": "markdown",
   "metadata": {},
   "source": [
    "## 2765번 단어 길이 재기"
   ]
  },
  {
   "cell_type": "code",
   "execution_count": 3,
   "metadata": {},
   "outputs": [
    {
     "output_type": "stream",
     "name": "stdout",
     "text": "aaabbbccc\n!!!!!nnnnnbbbbbccccc%%%%%\n"
    }
   ],
   "source": [
    "input_num = int(input())\n",
    "for i in range(input_num):\n",
    "    num,s = input().split(' ') \n",
    "    string = \"\"\n",
    "    for i in s : \n",
    "        string += int(num)*i\n",
    "    print(string)\n",
    "\n",
    "    #여기서 중요한게 3번째줄 변수 2개를 잡고 대입 연산자 하나만 두고 input().split()로 처음 입력하고 뛰우고(스페이스 한번 뛰운걸로 변수를 다르게 저장) 두번째로 입력함. 즉 num,s = input(),input() 결론적으로 같음."
   ]
  },
  {
   "cell_type": "markdown",
   "metadata": {},
   "source": [
    "### 2765번 리스트 컴프리헨션으로 응용"
   ]
  },
  {
   "cell_type": "code",
   "execution_count": null,
   "metadata": {},
   "outputs": [],
   "source": [
    "[string += int(num)]"
   ]
  },
  {
   "cell_type": "code",
   "execution_count": 19,
   "metadata": {},
   "outputs": [
    {
     "output_type": "error",
     "ename": "AttributeError",
     "evalue": "'function' object has no attribute 'split'",
     "traceback": [
      "\u001b[1;31m---------------------------------------------------------------------------\u001b[0m",
      "\u001b[1;31mAttributeError\u001b[0m                            Traceback (most recent call last)",
      "\u001b[1;32m<ipython-input-19-5af357f2f865>\u001b[0m in \u001b[0;36m<module>\u001b[1;34m\u001b[0m\n\u001b[1;32m----> 1\u001b[1;33m \u001b[0mmap\u001b[0m\u001b[1;33m(\u001b[0m\u001b[0minput\u001b[0m\u001b[1;33m.\u001b[0m\u001b[0msplit\u001b[0m\u001b[1;33m,\u001b[0m \u001b[0mrange\u001b[0m\u001b[1;33m(\u001b[0m\u001b[0mint\u001b[0m\u001b[1;33m(\u001b[0m\u001b[0minput\u001b[0m\u001b[1;33m(\u001b[0m\u001b[1;33m)\u001b[0m\u001b[1;33m)\u001b[0m\u001b[1;33m)\u001b[0m\u001b[1;33m)\u001b[0m\u001b[1;33m\u001b[0m\u001b[1;33m\u001b[0m\u001b[0m\n\u001b[0m",
      "\u001b[1;31mAttributeError\u001b[0m: 'function' object has no attribute 'split'"
     ]
    }
   ],
   "source": [
    "map(input().split, range(int(input())))"
   ]
  },
  {
   "cell_type": "code",
   "execution_count": 21,
   "metadata": {},
   "outputs": [
    {
     "output_type": "execute_result",
     "data": {
      "text/plain": "['0', '1', '2']"
     },
     "metadata": {},
     "execution_count": 21
    }
   ],
   "source": [
    "map(str, range(3))"
   ]
  },
  {
   "cell_type": "code",
   "execution_count": null,
   "metadata": {},
   "outputs": [],
   "source": []
  }
 ],
 "metadata": {
  "file_extension": ".py",
  "kernelspec": {
   "display_name": "Python 3.8.1 64-bit ('pytorch': conda)",
   "language": "python",
   "name": "python38164bitpytorchcondae2e836418e8f4945879c9669572061e2"
  },
  "language_info": {
   "codemirror_mode": {
    "name": "ipython",
    "version": 3
   },
   "file_extension": ".py",
   "mimetype": "text/x-python",
   "name": "python",
   "nbconvert_exporter": "python",
   "pygments_lexer": "ipython3",
   "version": "3.8.1-final"
  },
  "mimetype": "text/x-python",
  "name": "python",
  "npconvert_exporter": "python",
  "pygments_lexer": "ipython3",
  "version": 3
 },
 "nbformat": 4,
 "nbformat_minor": 4
}
