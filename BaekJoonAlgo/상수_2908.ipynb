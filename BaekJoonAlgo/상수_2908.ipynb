{
 "cells": [
  {
   "cell_type": "markdown",
   "metadata": {},
   "source": [
    "## 알아야 할 사항 파이썬 리스트 역순으로 만들기 \n",
    "(reversed, reverse)"
   ]
  },
  {
   "cell_type": "code",
   "execution_count": null,
   "metadata": {},
   "outputs": [],
   "source": [
    "my_list = '12345'\n",
    "for item in my_list[::]: # my_list[-1],my_list[-2],my_list[-3],my_list[-4],my_list[-5] 이렇게 출력시킴 \n",
    "    print(item) "
   ]
  },
  {
   "cell_type": "code",
   "execution_count": 32,
   "metadata": {},
   "outputs": [
    {
     "output_type": "execute_result",
     "data": {
      "text/plain": "'642'"
     },
     "metadata": {},
     "execution_count": 32
    }
   ],
   "source": [
    "a = '123456'\n",
    "a[::-2]\n"
   ]
  },
  {
   "cell_type": "code",
   "execution_count": null,
   "metadata": {},
   "outputs": [],
   "source": [
    "my_list = '12345'\n",
    "reversed_str = list(reversed(my_list))\n",
    "# for i in reversed_str:\n",
    "print(reversed_str)"
   ]
  },
  {
   "cell_type": "code",
   "execution_count": null,
   "metadata": {},
   "outputs": [],
   "source": []
  },
  {
   "cell_type": "code",
   "execution_count": null,
   "metadata": {},
   "outputs": [],
   "source": [
    "```\n",
    "상수 출처다국어분류\n",
    "시간 제한\t메모리 제한\t제출\t정답\t맞은 사람\t정답 비율\n",
    "1 초\t    128 MB\t28545\t    19431\t 17426    \t69.134%\n",
    "\n",
    "문제\n",
    "상근이의 동생 상수는 수학을 정말 못한다. 상수는 숫자를 읽는데 문제가 있다. 이렇게 수학을 못하는 상수를 위해서 상근이는 수의 크기를 비교하는 문제를 내주었다. 상근이는 세 자리 수 두 개를 칠판에 써주었다. 그 다음에 크기가 큰 수를 말해보라고 했다.\n",
    "\n",
    "상수는 수를 다른 사람과 다르게 거꾸로 읽는다. 예를 들어, 734와 893을 칠판에 적었다면, 상수는 이 수를 437과 398로 읽는다. 따라서, 상수는 두 수중 큰 수인 437을 큰 수라고 말할 것이다.\n",
    "\n",
    "두 수가 주어졌을 때, 상수의 대답을 출력하는 프로그램을 작성하시오.\n",
    "\n",
    "입력\n",
    "첫째 줄에 상근이가 칠판에 적은 두 수 A와 B가 주어진다. 두 수는 같지 않은 세 자리 수이며, 0이 포함되어 있지 않다.\n",
    "\n",
    "예제 입력 1 \n",
    "734 893\n",
    "\n",
    "예제 출력 1 \n",
    "437"
   ]
  },
  {
   "cell_type": "code",
   "execution_count": 29,
   "metadata": {},
   "outputs": [
    {
     "output_type": "stream",
     "name": "stdout",
     "text": "911\n"
    }
   ],
   "source": [
    "a,b = input().split()\n",
    "a,b = int(a[::-1]),int(b[::-1])\n",
    "\n",
    "if a > b:     print(a)\n",
    "else: print(b)\n"
   ]
  },
  {
   "cell_type": "code",
   "execution_count": null,
   "metadata": {},
   "outputs": [],
   "source": []
  }
 ],
 "metadata": {
  "language_info": {
   "codemirror_mode": {
    "name": "ipython",
    "version": 3
   },
   "file_extension": ".py",
   "mimetype": "text/x-python",
   "name": "python",
   "nbconvert_exporter": "python",
   "pygments_lexer": "ipython3",
   "version": "3.8.2-final"
  },
  "orig_nbformat": 2,
  "kernelspec": {
   "name": "python38264bitmymythonenvconda1f36fd18157f4376a30b6173fcd0cb3f",
   "display_name": "Python 3.8.2 64-bit ('my_mython_env': conda)"
  }
 },
 "nbformat": 4,
 "nbformat_minor": 2
}