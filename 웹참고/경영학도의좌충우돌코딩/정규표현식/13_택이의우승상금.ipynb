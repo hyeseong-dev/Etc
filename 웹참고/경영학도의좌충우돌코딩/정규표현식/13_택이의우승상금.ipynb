{
 "cells": [
  {
   "cell_type": "code",
   "execution_count": 9,
   "metadata": {},
   "outputs": [
    {
     "output_type": "stream",
     "name": "stdout",
     "text": "94193324원 차이로 동일 아저씨의 말이 맞아요.\n"
    }
   ],
   "source": [
    "INTEREST_RATE = 0.12\n",
    "APARMENT_PRICE = 1100000000\n",
    "\n",
    "year = 1988\n",
    "amount = 50000000\n",
    "\n",
    "while year<2016:\n",
    "    \n",
    "    amount = amount * (1+INTEREST_RATE)\n",
    "    year= year+1\n",
    "    \n",
    "\n",
    "if amount<APARMENT_PRICE:\n",
    "    add = APARMENT_PRICE-amount\n",
    "    print(\"%d원 차이로 미란 아줌마의 말이 맞아요.\"%(add))\n",
    "else:\n",
    "    add = amount - APARMENT_PRICE\n",
    "    print(\"%d원 차이로 동일 아저씨의 말이 맞아요.\"%(add))"
   ]
  },
  {
   "cell_type": "code",
   "execution_count": null,
   "metadata": {},
   "outputs": [],
   "source": [
    "상수값 두개 \n",
    "INTEREST_RATE = 0.12 , 이자 비용\n",
    "APARMENT_PRICE = 1_100_000_000, 아파트 가격 11억\n",
    "\n",
    "다른 변수 \n",
    "year = 1988\n",
    "amount = 50_000_000 5천만원이 현재 수중에 있네\n",
    "\n",
    "반복문 while은 2016보다 낮은 경우 참이 된다. 즉 2016년이 되면 거짓이 되서 while문이 False가 되서 실행 중지된다. \n",
    "\n",
    "안의 amount = amount * (1+INTEREST_RATE) 1년치 이자가 매년(while문 1번씩 돌아갈때마다) 계속 누적되는 구조임\n",
    "\n",
    "year += 1은 1년씩 증가해서  결국 while문이 참과 거짓인지 매번 판단하게 하는 기준이됨. \n",
    "\n",
    "if와 else문을 사용해서 매해 아파트 11억 가격과 매년 이자율의 누적 가격을 비교한다. \n",
    "\n",
    "if문은 첫해 은행의 이자 가격이 당근<11억보다 낫겟지. \n",
    "그럼 add = 아파트 가격 - 그해 이자가격을 뺀값을 add변수에 저장한다. \n",
    "즉, 의미는 차이를 의미하지 아파트 가격에서 그해 이자를 빼버리면 그 차이값이 나오겠지? \n",
    "if문이 돌아간다는것은 5천만원의 해마다 누적된 이자값이 11억보다 작다는걸 의미함. "
   ]
  },
  {
   "cell_type": "code",
   "execution_count": null,
   "metadata": {},
   "outputs": [],
   "source": []
  }
 ],
 "metadata": {
  "language_info": {
   "codemirror_mode": {
    "name": "ipython",
    "version": 3
   },
   "file_extension": ".py",
   "mimetype": "text/x-python",
   "name": "python",
   "nbconvert_exporter": "python",
   "pygments_lexer": "ipython3",
   "version": "3.7.4-final"
  },
  "orig_nbformat": 2,
  "kernelspec": {
   "name": "python37464bitanacondaconda7a410613194842c7b8b263458edf01ce",
   "display_name": "Python 3.7.4 64-bit ('Anaconda': conda)"
  }
 },
 "nbformat": 4,
 "nbformat_minor": 2
}